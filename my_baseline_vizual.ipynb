{
 "cells": [
  {
   "cell_type": "code",
   "execution_count": 66,
   "id": "570af2e4-47c7-46dd-bcdb-6cfa880fb279",
   "metadata": {
    "execution": {
     "iopub.execute_input": "2023-11-24T23:30:26.177100Z",
     "iopub.status.busy": "2023-11-24T23:30:26.176708Z",
     "iopub.status.idle": "2023-11-24T23:30:26.186724Z",
     "shell.execute_reply": "2023-11-24T23:30:26.186176Z",
     "shell.execute_reply.started": "2023-11-24T23:30:26.177077Z"
    },
    "tags": []
   },
   "outputs": [],
   "source": [
    "import numpy as np\n",
    "import pandas as pd\n",
    "import matplotlib.pyplot as plt\n",
    "\n",
    "from sklearn.metrics import roc_auc_score, f1_score, mean_squared_error\n",
    "from sklearn.model_selection import cross_val_score, train_test_split\n",
    "from sklearn.preprocessing import OneHotEncoder\n",
    "\n",
    "from sklearn.linear_model import LogisticRegression, LinearRegression\n",
    "from lightgbm import LGBMClassifier, LGBMRegressor"
   ]
  },
  {
   "cell_type": "code",
   "execution_count": 67,
   "id": "5b8ddd93-97be-45e5-976a-58b3cc9aa110",
   "metadata": {
    "execution": {
     "iopub.execute_input": "2023-11-24T23:30:26.450338Z",
     "iopub.status.busy": "2023-11-24T23:30:26.449861Z",
     "iopub.status.idle": "2023-11-24T23:30:29.158771Z",
     "shell.execute_reply": "2023-11-24T23:30:29.158138Z",
     "shell.execute_reply.started": "2023-11-24T23:30:26.450315Z"
    },
    "tags": []
   },
   "outputs": [],
   "source": [
    "df_train = pd.read_parquet('/home/jupyter/datasphere/project/data/train_dataset_hackaton2023_train.gzip')\n",
    "df_test = pd.read_parquet('/home/jupyter/datasphere/project/data/hackaton2023_test.gzip')\n",
    "\n"
   ]
  },
  {
   "cell_type": "code",
   "execution_count": 68,
   "id": "924cfb25-121a-4154-9c47-5366518ff6de",
   "metadata": {
    "execution": {
     "iopub.execute_input": "2023-11-24T23:30:29.160076Z",
     "iopub.status.busy": "2023-11-24T23:30:29.159697Z",
     "iopub.status.idle": "2023-11-24T23:30:29.808679Z",
     "shell.execute_reply": "2023-11-24T23:30:29.808078Z",
     "shell.execute_reply.started": "2023-11-24T23:30:29.160053Z"
    },
    "tags": []
   },
   "outputs": [],
   "source": [
    "mapping = pd.read_csv('mapping_2.csv', index_col=0)\n",
    "df_train['dish_cat'] = df_train.dish_name.map(mapping.to_dict()['dish_category'])\n",
    "df_test['dish_cat'] = df_test.dish_name.map(mapping.to_dict()['dish_category'])\n",
    "df_test['date_diff_post'] = 0\n",
    "df_test['buy_post'] = 0"
   ]
  },
  {
   "cell_type": "code",
   "execution_count": 21,
   "id": "b8ad7417-5222-4d37-a156-18fca0c8ec56",
   "metadata": {
    "execution": {
     "iopub.execute_input": "2023-11-24T23:00:38.580264Z",
     "iopub.status.busy": "2023-11-24T23:00:38.579742Z",
     "iopub.status.idle": "2023-11-24T23:00:38.602289Z",
     "shell.execute_reply": "2023-11-24T23:00:38.601744Z",
     "shell.execute_reply.started": "2023-11-24T23:00:38.580238Z"
    },
    "tags": []
   },
   "outputs": [
    {
     "data": {
      "text/html": [
       "<div>\n",
       "<style scoped>\n",
       "    .dataframe tbody tr th:only-of-type {\n",
       "        vertical-align: middle;\n",
       "    }\n",
       "\n",
       "    .dataframe tbody tr th {\n",
       "        vertical-align: top;\n",
       "    }\n",
       "\n",
       "    .dataframe thead th {\n",
       "        text-align: right;\n",
       "    }\n",
       "</style>\n",
       "<table border=\"1\" class=\"dataframe\">\n",
       "  <thead>\n",
       "    <tr style=\"text-align: right;\">\n",
       "      <th></th>\n",
       "      <th>customer_id</th>\n",
       "      <th>date_diff_post</th>\n",
       "      <th>buy_post</th>\n",
       "      <th>group_name</th>\n",
       "      <th>revenue</th>\n",
       "      <th>startdatetime</th>\n",
       "      <th>dish_name</th>\n",
       "      <th>ownareaall_sqm</th>\n",
       "      <th>format_name</th>\n",
       "      <th>dish_cat</th>\n",
       "    </tr>\n",
       "  </thead>\n",
       "  <tbody>\n",
       "    <tr>\n",
       "      <th>0</th>\n",
       "      <td>29891</td>\n",
       "      <td>9.0</td>\n",
       "      <td>1</td>\n",
       "      <td>train</td>\n",
       "      <td>69.99</td>\n",
       "      <td>2022-12-05 12:03:58</td>\n",
       "      <td>Кинг Фри станд</td>\n",
       "      <td>300.0</td>\n",
       "      <td>Отдельно стоящий без внешней зоны</td>\n",
       "      <td>Закуски</td>\n",
       "    </tr>\n",
       "    <tr>\n",
       "      <th>1</th>\n",
       "      <td>29891</td>\n",
       "      <td>9.0</td>\n",
       "      <td>1</td>\n",
       "      <td>train</td>\n",
       "      <td>190.00</td>\n",
       "      <td>2022-12-05 12:03:58</td>\n",
       "      <td>Чикен Тар-Тар</td>\n",
       "      <td>300.0</td>\n",
       "      <td>Отдельно стоящий без внешней зоны</td>\n",
       "      <td>Бургер</td>\n",
       "    </tr>\n",
       "    <tr>\n",
       "      <th>2</th>\n",
       "      <td>29891</td>\n",
       "      <td>9.0</td>\n",
       "      <td>1</td>\n",
       "      <td>train</td>\n",
       "      <td>9.99</td>\n",
       "      <td>2022-12-05 12:03:58</td>\n",
       "      <td>Соус Сырный</td>\n",
       "      <td>300.0</td>\n",
       "      <td>Отдельно стоящий без внешней зоны</td>\n",
       "      <td>Соус</td>\n",
       "    </tr>\n",
       "    <tr>\n",
       "      <th>3</th>\n",
       "      <td>29891</td>\n",
       "      <td>9.0</td>\n",
       "      <td>1</td>\n",
       "      <td>train</td>\n",
       "      <td>119.99</td>\n",
       "      <td>2022-12-05 12:03:58</td>\n",
       "      <td>Энергет.нап. Адреналин Раш</td>\n",
       "      <td>300.0</td>\n",
       "      <td>Отдельно стоящий без внешней зоны</td>\n",
       "      <td>Напитки</td>\n",
       "    </tr>\n",
       "    <tr>\n",
       "      <th>4</th>\n",
       "      <td>29891</td>\n",
       "      <td>9.0</td>\n",
       "      <td>1</td>\n",
       "      <td>train</td>\n",
       "      <td>119.99</td>\n",
       "      <td>2022-12-05 14:28:35</td>\n",
       "      <td>Латте (СТАНД.)</td>\n",
       "      <td>300.0</td>\n",
       "      <td>Отдельно стоящий без внешней зоны</td>\n",
       "      <td>Напитки</td>\n",
       "    </tr>\n",
       "  </tbody>\n",
       "</table>\n",
       "</div>"
      ],
      "text/plain": [
       "   customer_id  date_diff_post  ...                        format_name dish_cat\n",
       "0        29891             9.0  ...  Отдельно стоящий без внешней зоны  Закуски\n",
       "1        29891             9.0  ...  Отдельно стоящий без внешней зоны   Бургер\n",
       "2        29891             9.0  ...  Отдельно стоящий без внешней зоны     Соус\n",
       "3        29891             9.0  ...  Отдельно стоящий без внешней зоны  Напитки\n",
       "4        29891             9.0  ...  Отдельно стоящий без внешней зоны  Напитки\n",
       "\n",
       "[5 rows x 10 columns]"
      ]
     },
     "execution_count": 21,
     "metadata": {},
     "output_type": "execute_result"
    }
   ],
   "source": [
    "df_train.head()"
   ]
  },
  {
   "cell_type": "code",
   "execution_count": 26,
   "id": "3da0f770-e2fe-44ae-ac94-dd7b237d721f",
   "metadata": {
    "execution": {
     "iopub.execute_input": "2023-11-24T23:02:56.287688Z",
     "iopub.status.busy": "2023-11-24T23:02:56.287120Z",
     "iopub.status.idle": "2023-11-24T23:02:56.620257Z",
     "shell.execute_reply": "2023-11-24T23:02:56.619699Z",
     "shell.execute_reply.started": "2023-11-24T23:02:56.287666Z"
    },
    "tags": []
   },
   "outputs": [
    {
     "data": {
      "text/plain": [
       "Фудкорт без туалета                              4648951\n",
       "Отдельно стоящий с внешней зоной                 2310987\n",
       "Отдельно стоящий без внешней зоны                1814429\n",
       "Отдельно стоящий                                 1663806\n",
       "Фудкорт с туалетом                               1166460\n",
       "Отдельно стоящий без внешней зоны без туалета     268701\n",
       "Отдельно стоящий без туалета                      164444\n",
       "Отдельно стоящий с внешн.зоной без туалета         91576\n",
       "Не заполнено                                          30\n",
       "Name: format_name, dtype: int64"
      ]
     },
     "execution_count": 26,
     "metadata": {},
     "output_type": "execute_result"
    }
   ],
   "source": [
    "df_train['format_name'].value_counts()"
   ]
  },
  {
   "cell_type": "code",
   "execution_count": 69,
   "id": "218c56eb-d81e-4eeb-91c4-86d4dbd937fe",
   "metadata": {
    "execution": {
     "iopub.execute_input": "2023-11-24T23:30:31.418687Z",
     "iopub.status.busy": "2023-11-24T23:30:31.418129Z",
     "iopub.status.idle": "2023-11-24T23:30:31.428580Z",
     "shell.execute_reply": "2023-11-24T23:30:31.428041Z",
     "shell.execute_reply.started": "2023-11-24T23:30:31.418662Z"
    },
    "tags": []
   },
   "outputs": [],
   "source": [
    "wc = ['Отдельно стоящий с внешней зоной', 'Отдельно стоящий без внешней зоны', 'Отдельно стоящий', 'Фудкорт с туалетом']\n",
    "def having_wc(x):\n",
    "    if x in wc:\n",
    "        return 1\n",
    "    else:\n",
    "        return 0\n"
   ]
  },
  {
   "cell_type": "code",
   "execution_count": 70,
   "id": "67030967-c025-4174-8def-9de086f13350",
   "metadata": {
    "execution": {
     "iopub.execute_input": "2023-11-24T23:30:33.218610Z",
     "iopub.status.busy": "2023-11-24T23:30:33.218237Z",
     "iopub.status.idle": "2023-11-24T23:30:36.542452Z",
     "shell.execute_reply": "2023-11-24T23:30:36.541791Z",
     "shell.execute_reply.started": "2023-11-24T23:30:33.218588Z"
    },
    "tags": []
   },
   "outputs": [],
   "source": [
    "df_train['having_wc'] = df_train['format_name'].apply(having_wc)\n",
    "df_test['having_wc'] = df_test['format_name'].apply(having_wc)"
   ]
  },
  {
   "cell_type": "code",
   "execution_count": 37,
   "id": "b6f3ee37-87b5-448d-b18f-320b8ba48adc",
   "metadata": {
    "execution": {
     "iopub.execute_input": "2023-11-24T23:17:09.955523Z",
     "iopub.status.busy": "2023-11-24T23:17:09.954864Z",
     "iopub.status.idle": "2023-11-24T23:17:10.018831Z",
     "shell.execute_reply": "2023-11-24T23:17:10.018279Z",
     "shell.execute_reply.started": "2023-11-24T23:17:09.955492Z"
    },
    "tags": []
   },
   "outputs": [
    {
     "data": {
      "text/html": [
       "<div>\n",
       "<style scoped>\n",
       "    .dataframe tbody tr th:only-of-type {\n",
       "        vertical-align: middle;\n",
       "    }\n",
       "\n",
       "    .dataframe tbody tr th {\n",
       "        vertical-align: top;\n",
       "    }\n",
       "\n",
       "    .dataframe thead th {\n",
       "        text-align: right;\n",
       "    }\n",
       "</style>\n",
       "<table border=\"1\" class=\"dataframe\">\n",
       "  <thead>\n",
       "    <tr style=\"text-align: right;\">\n",
       "      <th></th>\n",
       "      <th>customer_id</th>\n",
       "      <th>date_diff_post</th>\n",
       "      <th>buy_post</th>\n",
       "      <th>group_name</th>\n",
       "      <th>revenue</th>\n",
       "      <th>startdatetime</th>\n",
       "      <th>dish_name</th>\n",
       "      <th>ownareaall_sqm</th>\n",
       "      <th>format_name</th>\n",
       "      <th>dish_cat</th>\n",
       "      <th>having_wc</th>\n",
       "    </tr>\n",
       "  </thead>\n",
       "  <tbody>\n",
       "    <tr>\n",
       "      <th>0</th>\n",
       "      <td>29891</td>\n",
       "      <td>9.0</td>\n",
       "      <td>1</td>\n",
       "      <td>train</td>\n",
       "      <td>69.99</td>\n",
       "      <td>2022-12-05 12:03:58</td>\n",
       "      <td>Кинг Фри станд</td>\n",
       "      <td>300.0</td>\n",
       "      <td>Отдельно стоящий без внешней зоны</td>\n",
       "      <td>Закуски</td>\n",
       "      <td>1</td>\n",
       "    </tr>\n",
       "    <tr>\n",
       "      <th>1</th>\n",
       "      <td>29891</td>\n",
       "      <td>9.0</td>\n",
       "      <td>1</td>\n",
       "      <td>train</td>\n",
       "      <td>190.00</td>\n",
       "      <td>2022-12-05 12:03:58</td>\n",
       "      <td>Чикен Тар-Тар</td>\n",
       "      <td>300.0</td>\n",
       "      <td>Отдельно стоящий без внешней зоны</td>\n",
       "      <td>Бургер</td>\n",
       "      <td>1</td>\n",
       "    </tr>\n",
       "    <tr>\n",
       "      <th>2</th>\n",
       "      <td>29891</td>\n",
       "      <td>9.0</td>\n",
       "      <td>1</td>\n",
       "      <td>train</td>\n",
       "      <td>9.99</td>\n",
       "      <td>2022-12-05 12:03:58</td>\n",
       "      <td>Соус Сырный</td>\n",
       "      <td>300.0</td>\n",
       "      <td>Отдельно стоящий без внешней зоны</td>\n",
       "      <td>Соус</td>\n",
       "      <td>1</td>\n",
       "    </tr>\n",
       "    <tr>\n",
       "      <th>3</th>\n",
       "      <td>29891</td>\n",
       "      <td>9.0</td>\n",
       "      <td>1</td>\n",
       "      <td>train</td>\n",
       "      <td>119.99</td>\n",
       "      <td>2022-12-05 12:03:58</td>\n",
       "      <td>Энергет.нап. Адреналин Раш</td>\n",
       "      <td>300.0</td>\n",
       "      <td>Отдельно стоящий без внешней зоны</td>\n",
       "      <td>Напитки</td>\n",
       "      <td>1</td>\n",
       "    </tr>\n",
       "    <tr>\n",
       "      <th>4</th>\n",
       "      <td>29891</td>\n",
       "      <td>9.0</td>\n",
       "      <td>1</td>\n",
       "      <td>train</td>\n",
       "      <td>119.99</td>\n",
       "      <td>2022-12-05 14:28:35</td>\n",
       "      <td>Латте (СТАНД.)</td>\n",
       "      <td>300.0</td>\n",
       "      <td>Отдельно стоящий без внешней зоны</td>\n",
       "      <td>Напитки</td>\n",
       "      <td>1</td>\n",
       "    </tr>\n",
       "    <tr>\n",
       "      <th>...</th>\n",
       "      <td>...</td>\n",
       "      <td>...</td>\n",
       "      <td>...</td>\n",
       "      <td>...</td>\n",
       "      <td>...</td>\n",
       "      <td>...</td>\n",
       "      <td>...</td>\n",
       "      <td>...</td>\n",
       "      <td>...</td>\n",
       "      <td>...</td>\n",
       "      <td>...</td>\n",
       "    </tr>\n",
       "    <tr>\n",
       "      <th>24261974</th>\n",
       "      <td>46661804</td>\n",
       "      <td>NaN</td>\n",
       "      <td>0</td>\n",
       "      <td>train</td>\n",
       "      <td>7.99</td>\n",
       "      <td>2023-08-01 18:04:56</td>\n",
       "      <td>Эвервесс Кола джун 0,3л</td>\n",
       "      <td>300.0</td>\n",
       "      <td>Фудкорт с туалетом</td>\n",
       "      <td>Напитки</td>\n",
       "      <td>1</td>\n",
       "    </tr>\n",
       "    <tr>\n",
       "      <th>24261975</th>\n",
       "      <td>46661804</td>\n",
       "      <td>NaN</td>\n",
       "      <td>0</td>\n",
       "      <td>train</td>\n",
       "      <td>84.98</td>\n",
       "      <td>2023-08-01 18:04:56</td>\n",
       "      <td>Воппер Джуниор</td>\n",
       "      <td>300.0</td>\n",
       "      <td>Фудкорт с туалетом</td>\n",
       "      <td>Бургер</td>\n",
       "      <td>1</td>\n",
       "    </tr>\n",
       "    <tr>\n",
       "      <th>24261976</th>\n",
       "      <td>46661804</td>\n",
       "      <td>NaN</td>\n",
       "      <td>0</td>\n",
       "      <td>train</td>\n",
       "      <td>70.03</td>\n",
       "      <td>2023-08-01 18:04:56</td>\n",
       "      <td>Наггетсы (3 шт.)</td>\n",
       "      <td>300.0</td>\n",
       "      <td>Фудкорт с туалетом</td>\n",
       "      <td>Закуски</td>\n",
       "      <td>1</td>\n",
       "    </tr>\n",
       "    <tr>\n",
       "      <th>24261977</th>\n",
       "      <td>46661804</td>\n",
       "      <td>NaN</td>\n",
       "      <td>0</td>\n",
       "      <td>train</td>\n",
       "      <td>19.00</td>\n",
       "      <td>2023-08-01 18:04:56</td>\n",
       "      <td>Сырные Медальоны (3 шт.)</td>\n",
       "      <td>300.0</td>\n",
       "      <td>Фудкорт с туалетом</td>\n",
       "      <td>Закуски</td>\n",
       "      <td>1</td>\n",
       "    </tr>\n",
       "    <tr>\n",
       "      <th>24261978</th>\n",
       "      <td>46661804</td>\n",
       "      <td>NaN</td>\n",
       "      <td>0</td>\n",
       "      <td>train</td>\n",
       "      <td>17.99</td>\n",
       "      <td>2023-08-01 18:04:56</td>\n",
       "      <td>Кинг Фри мал</td>\n",
       "      <td>300.0</td>\n",
       "      <td>Фудкорт с туалетом</td>\n",
       "      <td>Закуски</td>\n",
       "      <td>1</td>\n",
       "    </tr>\n",
       "  </tbody>\n",
       "</table>\n",
       "<p>12129384 rows × 11 columns</p>\n",
       "</div>"
      ],
      "text/plain": [
       "          customer_id  date_diff_post  ...  dish_cat having_wc\n",
       "0               29891             9.0  ...   Закуски         1\n",
       "1               29891             9.0  ...    Бургер         1\n",
       "2               29891             9.0  ...      Соус         1\n",
       "3               29891             9.0  ...   Напитки         1\n",
       "4               29891             9.0  ...   Напитки         1\n",
       "...               ...             ...  ...       ...       ...\n",
       "24261974     46661804             NaN  ...   Напитки         1\n",
       "24261975     46661804             NaN  ...    Бургер         1\n",
       "24261976     46661804             NaN  ...   Закуски         1\n",
       "24261977     46661804             NaN  ...   Закуски         1\n",
       "24261978     46661804             NaN  ...   Закуски         1\n",
       "\n",
       "[12129384 rows x 11 columns]"
      ]
     },
     "execution_count": 37,
     "metadata": {},
     "output_type": "execute_result"
    }
   ],
   "source": [
    "df_train"
   ]
  },
  {
   "cell_type": "code",
   "execution_count": 114,
   "id": "dc999bdc-67c4-4e13-9f81-cdae7d7b1f2b",
   "metadata": {
    "execution": {
     "iopub.execute_input": "2023-11-25T00:01:21.590905Z",
     "iopub.status.busy": "2023-11-25T00:01:21.590286Z",
     "iopub.status.idle": "2023-11-25T00:01:21.605363Z",
     "shell.execute_reply": "2023-11-25T00:01:21.604800Z",
     "shell.execute_reply.started": "2023-11-25T00:01:21.590879Z"
    },
    "tags": []
   },
   "outputs": [],
   "source": [
    "def preprocess(df):\n",
    "    # df = df.drop_duplicates()\n",
    "    df['discounts'] = df['revenue'] ==1\n",
    "\n",
    "    data_check_agg = df.groupby(['customer_id', 'startdatetime']).agg({\n",
    "        'revenue': 'sum', \n",
    "        'buy_post': 'first',\n",
    "        'date_diff_post': 'first',\n",
    "        'ownareaall_sqm': 'first',\n",
    "        'format_name': 'first',\n",
    "        'discounts': 'sum',\n",
    "        'having_wc': 'first'\n",
    "    }).reset_index()\n",
    "\n",
    "    data_check_agg['delta'] = data_check_agg.groupby('customer_id')['startdatetime'].diff() \n",
    "    data_check_agg['delta_hours'] = (data_check_agg['delta'].dt.total_seconds() // (60*60)).fillna(0)\n",
    "    data_check_agg['delta_days'] = (data_check_agg['delta'].dt.total_seconds() // (24*60*60)).fillna(0)\n",
    "\n",
    "    data_check_agg = data_check_agg.drop('delta', axis=1)\n",
    "\n",
    "    data_cust_agg = data_check_agg.groupby('customer_id').agg({\n",
    "        'revenue': ['mean', 'median', 'std', 'max', 'min', 'count'],\n",
    "        'delta_hours': ['mean', 'median', 'std', 'max', 'min',], \n",
    "        'delta_days': ['mean', 'median', 'std', 'max', 'min',], \n",
    "        'startdatetime': ['min', 'max'],\n",
    "        'ownareaall_sqm': ['mean', 'median', 'std', 'max', 'min',],\n",
    "        'discounts': ['mean', 'median', 'std', 'max', 'min',],\n",
    "        'having_wc': 'mean',\n",
    "        'buy_post': 'first',\n",
    "        'date_diff_post': 'first',\n",
    "        'format_name': [pd.Series.mode, 'last']\n",
    "    }).reset_index()\n",
    "\n",
    "    data_cust_agg.columns = [f'{header}_{stat}' for header, stat in data_cust_agg.columns]\n",
    "\n",
    "    data_cust_agg['recency'] = (data_cust_agg['startdatetime_max'] - data_cust_agg['startdatetime_min']).dt.days\n",
    "    data_cust_agg['T'] = (pd.to_datetime('2023-08-02') - data_cust_agg['startdatetime_min']).dt.days\n",
    "    data_cust_agg['days_from_last_purchase'] = (pd.to_datetime('2023-08-02') - data_cust_agg['startdatetime_max']).dt.days\n",
    "    data_cust_agg['lambda'] = data_cust_agg['revenue_count'] / (data_cust_agg['recency'] + 1)\n",
    "    data_cust_agg['format_name_mode'] = data_cust_agg['format_name_mode'].apply(lambda x: x[0] if type(x)==np.ndarray else x).astype('category')\n",
    "    data_cust_agg['dish_cat_mode'] = df.groupby('customer_id')['dish_cat'].agg(pd.Series.mode).apply(lambda x: x[0] if type(x)==np.ndarray else x).astype('category').reset_index()['dish_cat']\n",
    "    data_cust_agg['dish_cat_mode'] = data_cust_agg['dish_cat_mode'].astype('category')\n",
    "    data_cust_agg['format_name_last'] = data_cust_agg['format_name_last'].astype('category')\n",
    "    data_cust_agg = data_cust_agg.drop(['startdatetime_min', 'startdatetime_max'], axis=1)\n",
    "    \n",
    "    \n",
    "    \n",
    "    return data_cust_agg"
   ]
  },
  {
   "cell_type": "code",
   "execution_count": 115,
   "id": "92ea9ede-2dd5-4a71-894e-c43c3b7e2bd8",
   "metadata": {
    "execution": {
     "iopub.execute_input": "2023-11-25T00:01:25.484260Z",
     "iopub.status.busy": "2023-11-25T00:01:25.483684Z",
     "iopub.status.idle": "2023-11-25T00:03:07.897496Z",
     "shell.execute_reply": "2023-11-25T00:03:07.896786Z",
     "shell.execute_reply.started": "2023-11-25T00:01:25.484233Z"
    },
    "tags": []
   },
   "outputs": [],
   "source": [
    "data_train = preprocess(df_train)"
   ]
  },
  {
   "cell_type": "code",
   "execution_count": 116,
   "id": "eb779d55-ca40-426d-90aa-773ceb86e736",
   "metadata": {
    "execution": {
     "iopub.execute_input": "2023-11-25T00:03:07.898773Z",
     "iopub.status.busy": "2023-11-25T00:03:07.898454Z",
     "iopub.status.idle": "2023-11-25T00:03:30.810534Z",
     "shell.execute_reply": "2023-11-25T00:03:30.809705Z",
     "shell.execute_reply.started": "2023-11-25T00:03:07.898753Z"
    },
    "tags": []
   },
   "outputs": [],
   "source": [
    "data_test = preprocess(df_test)"
   ]
  },
  {
   "cell_type": "code",
   "execution_count": 117,
   "id": "f9e9a04c-31a2-4d06-a1a3-c3bdf8a7d40c",
   "metadata": {
    "execution": {
     "iopub.execute_input": "2023-11-25T00:03:45.633814Z",
     "iopub.status.busy": "2023-11-25T00:03:45.633254Z",
     "iopub.status.idle": "2023-11-25T00:03:45.676131Z",
     "shell.execute_reply": "2023-11-25T00:03:45.675493Z",
     "shell.execute_reply.started": "2023-11-25T00:03:45.633787Z"
    },
    "tags": []
   },
   "outputs": [],
   "source": [
    "X_train = data_train.drop(['date_diff_post_first', 'buy_post_first', 'customer_id_'], axis=1)\n",
    "y_train_class = data_train['buy_post_first']\n",
    "y_train_reg = data_train['date_diff_post_first']\n",
    "\n",
    "# X_valid = data_valid.drop(['date_diff_post_first', 'buy_post_first', 'customer_id_', 'startdatetime_min', 'startdatetime_max'], axis=1)\n",
    "# y_valid_class = data_valid['buy_post_first']\n",
    "# y_valid_reg = data_valid['date_diff_post_first']\n",
    "\n",
    "X_test = data_test.drop(['date_diff_post_first', 'buy_post_first', 'customer_id_'], axis=1)"
   ]
  },
  {
   "cell_type": "code",
   "execution_count": 118,
   "id": "14425c3c-52af-4790-a691-e4e75f782cd7",
   "metadata": {
    "execution": {
     "iopub.execute_input": "2023-11-25T00:03:48.589590Z",
     "iopub.status.busy": "2023-11-25T00:03:48.589187Z",
     "iopub.status.idle": "2023-11-25T00:03:48.601368Z",
     "shell.execute_reply": "2023-11-25T00:03:48.600807Z",
     "shell.execute_reply.started": "2023-11-25T00:03:48.589565Z"
    },
    "tags": []
   },
   "outputs": [],
   "source": [
    "from catboost import CatBoostClassifier\n",
    "from sklearn.metrics import f1_score\n",
    "from sklearn.metrics import roc_auc_score\n",
    "# model = CatBoostClassifier(iterations=5000,\n",
    "#                         depth=6,\n",
    "#                         l2_leaf_reg = 3,\n",
    "#                         leaf_estimation_iterations = 10,\n",
    "#                         task_type=\"GPU\",\n",
    "#                         verbose=False,\n",
    "#                         #cat_features=[26, 27, 32],\n",
    "#                         class_weights = [0.7, 0.3],\n",
    "#                         )\n",
    "model = LGBMClassifier(n_estimators=1000, class_weight={1: 3, 0: 7}, verbose=-1)\n"
   ]
  },
  {
   "cell_type": "code",
   "execution_count": 126,
   "id": "c5948bd3-b202-4b16-b0da-68cda12ee554",
   "metadata": {
    "execution": {
     "iopub.execute_input": "2023-11-25T00:15:34.232202Z",
     "iopub.status.busy": "2023-11-25T00:15:34.231283Z",
     "iopub.status.idle": "2023-11-25T00:16:03.707639Z",
     "shell.execute_reply": "2023-11-25T00:16:03.706983Z",
     "shell.execute_reply.started": "2023-11-25T00:15:34.232157Z"
    },
    "tags": []
   },
   "outputs": [
    {
     "name": "stdout",
     "output_type": "stream",
     "text": [
      "ROC-AUC: 0.747 ± 0.001\n"
     ]
    }
   ],
   "source": [
    "\n",
    "res = cross_val_score(model, X_train, y_train_class, scoring='roc_auc')\n",
    "print(f'ROC-AUC: {res.mean():.3f} ± {res.std():.3f}')"
   ]
  },
  {
   "cell_type": "code",
   "execution_count": 127,
   "id": "a02d372d-e737-4b77-81c0-fe0664a232b9",
   "metadata": {
    "execution": {
     "iopub.execute_input": "2023-11-25T00:17:29.313038Z",
     "iopub.status.busy": "2023-11-25T00:17:29.312372Z",
     "iopub.status.idle": "2023-11-25T00:17:35.820515Z",
     "shell.execute_reply": "2023-11-25T00:17:35.819710Z",
     "shell.execute_reply.started": "2023-11-25T00:17:29.313002Z"
    },
    "tags": []
   },
   "outputs": [
    {
     "data": {
      "text/html": [
       "<style>#sk-container-id-3 {color: black;background-color: white;}#sk-container-id-3 pre{padding: 0;}#sk-container-id-3 div.sk-toggleable {background-color: white;}#sk-container-id-3 label.sk-toggleable__label {cursor: pointer;display: block;width: 100%;margin-bottom: 0;padding: 0.3em;box-sizing: border-box;text-align: center;}#sk-container-id-3 label.sk-toggleable__label-arrow:before {content: \"▸\";float: left;margin-right: 0.25em;color: #696969;}#sk-container-id-3 label.sk-toggleable__label-arrow:hover:before {color: black;}#sk-container-id-3 div.sk-estimator:hover label.sk-toggleable__label-arrow:before {color: black;}#sk-container-id-3 div.sk-toggleable__content {max-height: 0;max-width: 0;overflow: hidden;text-align: left;background-color: #f0f8ff;}#sk-container-id-3 div.sk-toggleable__content pre {margin: 0.2em;color: black;border-radius: 0.25em;background-color: #f0f8ff;}#sk-container-id-3 input.sk-toggleable__control:checked~div.sk-toggleable__content {max-height: 200px;max-width: 100%;overflow: auto;}#sk-container-id-3 input.sk-toggleable__control:checked~label.sk-toggleable__label-arrow:before {content: \"▾\";}#sk-container-id-3 div.sk-estimator input.sk-toggleable__control:checked~label.sk-toggleable__label {background-color: #d4ebff;}#sk-container-id-3 div.sk-label input.sk-toggleable__control:checked~label.sk-toggleable__label {background-color: #d4ebff;}#sk-container-id-3 input.sk-hidden--visually {border: 0;clip: rect(1px 1px 1px 1px);clip: rect(1px, 1px, 1px, 1px);height: 1px;margin: -1px;overflow: hidden;padding: 0;position: absolute;width: 1px;}#sk-container-id-3 div.sk-estimator {font-family: monospace;background-color: #f0f8ff;border: 1px dotted black;border-radius: 0.25em;box-sizing: border-box;margin-bottom: 0.5em;}#sk-container-id-3 div.sk-estimator:hover {background-color: #d4ebff;}#sk-container-id-3 div.sk-parallel-item::after {content: \"\";width: 100%;border-bottom: 1px solid gray;flex-grow: 1;}#sk-container-id-3 div.sk-label:hover label.sk-toggleable__label {background-color: #d4ebff;}#sk-container-id-3 div.sk-serial::before {content: \"\";position: absolute;border-left: 1px solid gray;box-sizing: border-box;top: 0;bottom: 0;left: 50%;z-index: 0;}#sk-container-id-3 div.sk-serial {display: flex;flex-direction: column;align-items: center;background-color: white;padding-right: 0.2em;padding-left: 0.2em;position: relative;}#sk-container-id-3 div.sk-item {position: relative;z-index: 1;}#sk-container-id-3 div.sk-parallel {display: flex;align-items: stretch;justify-content: center;background-color: white;position: relative;}#sk-container-id-3 div.sk-item::before, #sk-container-id-3 div.sk-parallel-item::before {content: \"\";position: absolute;border-left: 1px solid gray;box-sizing: border-box;top: 0;bottom: 0;left: 50%;z-index: -1;}#sk-container-id-3 div.sk-parallel-item {display: flex;flex-direction: column;z-index: 1;position: relative;background-color: white;}#sk-container-id-3 div.sk-parallel-item:first-child::after {align-self: flex-end;width: 50%;}#sk-container-id-3 div.sk-parallel-item:last-child::after {align-self: flex-start;width: 50%;}#sk-container-id-3 div.sk-parallel-item:only-child::after {width: 0;}#sk-container-id-3 div.sk-dashed-wrapped {border: 1px dashed gray;margin: 0 0.4em 0.5em 0.4em;box-sizing: border-box;padding-bottom: 0.4em;background-color: white;}#sk-container-id-3 div.sk-label label {font-family: monospace;font-weight: bold;display: inline-block;line-height: 1.2em;}#sk-container-id-3 div.sk-label-container {text-align: center;}#sk-container-id-3 div.sk-container {/* jupyter's `normalize.less` sets `[hidden] { display: none; }` but bootstrap.min.css set `[hidden] { display: none !important; }` so we also need the `!important` here to be able to override the default hidden behavior on the sphinx rendered scikit-learn.org. See: https://github.com/scikit-learn/scikit-learn/issues/21755 */display: inline-block !important;position: relative;}#sk-container-id-3 div.sk-text-repr-fallback {display: none;}</style><div id=\"sk-container-id-3\" class=\"sk-top-container\"><div class=\"sk-text-repr-fallback\"><pre>LGBMClassifier(class_weight={0: 7, 1: 3}, n_estimators=1000, verbose=-1)</pre><b>In a Jupyter environment, please rerun this cell to show the HTML representation or trust the notebook. <br />On GitHub, the HTML representation is unable to render, please try loading this page with nbviewer.org.</b></div><div class=\"sk-container\" hidden><div class=\"sk-item\"><div class=\"sk-estimator sk-toggleable\"><input class=\"sk-toggleable__control sk-hidden--visually\" id=\"sk-estimator-id-3\" type=\"checkbox\" checked><label for=\"sk-estimator-id-3\" class=\"sk-toggleable__label sk-toggleable__label-arrow\">LGBMClassifier</label><div class=\"sk-toggleable__content\"><pre>LGBMClassifier(class_weight={0: 7, 1: 3}, n_estimators=1000, verbose=-1)</pre></div></div></div></div></div>"
      ],
      "text/plain": [
       "LGBMClassifier(class_weight={0: 7, 1: 3}, n_estimators=1000, verbose=-1)"
      ]
     },
     "execution_count": 127,
     "metadata": {},
     "output_type": "execute_result"
    }
   ],
   "source": [
    "model.fit(X_train, y_train_class)"
   ]
  },
  {
   "cell_type": "code",
   "execution_count": 128,
   "id": "520eff7a-83d9-4f4b-9ec5-c2353053bbb7",
   "metadata": {
    "execution": {
     "iopub.execute_input": "2023-11-25T00:17:35.822397Z",
     "iopub.status.busy": "2023-11-25T00:17:35.821889Z",
     "iopub.status.idle": "2023-11-25T00:18:06.346476Z",
     "shell.execute_reply": "2023-11-25T00:18:06.345535Z",
     "shell.execute_reply.started": "2023-11-25T00:17:35.822370Z"
    },
    "tags": []
   },
   "outputs": [
    {
     "name": "stdout",
     "output_type": "stream",
     "text": [
      "f1-score: 0.756 ± 0.012\n"
     ]
    }
   ],
   "source": [
    "res = cross_val_score(model, X_train, y_train_class, scoring='f1')\n",
    "print(f'f1-score: {res.mean():.3f} ± {res.std():.3f}')"
   ]
  },
  {
   "cell_type": "code",
   "execution_count": 129,
   "id": "3fb4d395-5f69-444f-9628-a1884fa2fdc0",
   "metadata": {
    "execution": {
     "iopub.execute_input": "2023-11-25T00:18:06.348900Z",
     "iopub.status.busy": "2023-11-25T00:18:06.348477Z",
     "iopub.status.idle": "2023-11-25T00:18:06.650513Z",
     "shell.execute_reply": "2023-11-25T00:18:06.649804Z",
     "shell.execute_reply.started": "2023-11-25T00:18:06.348846Z"
    },
    "tags": []
   },
   "outputs": [
    {
     "data": {
      "image/png": "[encoded data removed]",
      "text/plain": [
       "<Figure size 504x432 with 1 Axes>"
      ]
     },
     "metadata": {
      "needs_background": "light"
     },
     "output_type": "display_data"
    }
   ],
   "source": [
    "import lightgbm as lgb\n",
    "lgb.plot_importance(model, importance_type=\"split\", figsize=(7,6), title=\"LightGBM Feature Importance (Split)\")\n",
    "plt.show()"
   ]
  },
  {
   "cell_type": "code",
   "execution_count": 130,
   "id": "185ddf01-27bf-4372-bff4-dc114b481970",
   "metadata": {
    "execution": {
     "iopub.execute_input": "2023-11-25T00:18:23.865777Z",
     "iopub.status.busy": "2023-11-25T00:18:23.865077Z",
     "iopub.status.idle": "2023-11-25T00:18:24.176146Z",
     "shell.execute_reply": "2023-11-25T00:18:24.175420Z",
     "shell.execute_reply.started": "2023-11-25T00:18:23.865744Z"
    },
    "tags": []
   },
   "outputs": [
    {
     "data": {
      "image/png": "[encoded data removed]",
      "text/plain": [
       "<Figure size 504x432 with 1 Axes>"
      ]
     },
     "metadata": {
      "needs_background": "light"
     },
     "output_type": "display_data"
    }
   ],
   "source": [
    "lgb.plot_importance(model, importance_type=\"gain\", figsize=(7,6), title=\"LightGBM Feature Importance (Gain)\")\n",
    "plt.show()"
   ]
  },
  {
   "cell_type": "code",
   "execution_count": 131,
   "id": "bca37cb9-c970-4286-8a39-948e4bbbf178",
   "metadata": {
    "execution": {
     "iopub.execute_input": "2023-11-25T00:39:23.672401Z",
     "iopub.status.busy": "2023-11-25T00:39:23.671599Z",
     "iopub.status.idle": "2023-11-25T00:39:23.730446Z",
     "shell.execute_reply": "2023-11-25T00:39:23.729665Z",
     "shell.execute_reply.started": "2023-11-25T00:39:23.672368Z"
    },
    "tags": []
   },
   "outputs": [
    {
     "data": {
      "text/html": [
       "<div>\n",
       "<style scoped>\n",
       "    .dataframe tbody tr th:only-of-type {\n",
       "        vertical-align: middle;\n",
       "    }\n",
       "\n",
       "    .dataframe tbody tr th {\n",
       "        vertical-align: top;\n",
       "    }\n",
       "\n",
       "    .dataframe thead th {\n",
       "        text-align: right;\n",
       "    }\n",
       "</style>\n",
       "<table border=\"1\" class=\"dataframe\">\n",
       "  <thead>\n",
       "    <tr style=\"text-align: right;\">\n",
       "      <th></th>\n",
       "      <th>revenue_mean</th>\n",
       "      <th>revenue_median</th>\n",
       "      <th>revenue_std</th>\n",
       "      <th>revenue_max</th>\n",
       "      <th>revenue_min</th>\n",
       "      <th>revenue_count</th>\n",
       "      <th>delta_hours_mean</th>\n",
       "      <th>delta_hours_median</th>\n",
       "      <th>delta_hours_std</th>\n",
       "      <th>delta_hours_max</th>\n",
       "      <th>delta_hours_min</th>\n",
       "      <th>delta_days_mean</th>\n",
       "      <th>delta_days_median</th>\n",
       "      <th>delta_days_std</th>\n",
       "      <th>delta_days_max</th>\n",
       "      <th>delta_days_min</th>\n",
       "      <th>ownareaall_sqm_mean</th>\n",
       "      <th>ownareaall_sqm_median</th>\n",
       "      <th>ownareaall_sqm_std</th>\n",
       "      <th>ownareaall_sqm_max</th>\n",
       "      <th>ownareaall_sqm_min</th>\n",
       "      <th>discounts_mean</th>\n",
       "      <th>discounts_median</th>\n",
       "      <th>discounts_std</th>\n",
       "      <th>discounts_max</th>\n",
       "      <th>discounts_min</th>\n",
       "      <th>having_wc_mean</th>\n",
       "      <th>format_name_mode</th>\n",
       "      <th>format_name_last</th>\n",
       "      <th>recency</th>\n",
       "      <th>T</th>\n",
       "      <th>days_from_last_purchase</th>\n",
       "      <th>lambda</th>\n",
       "      <th>dish_cat_mode</th>\n",
       "    </tr>\n",
       "  </thead>\n",
       "  <tbody>\n",
       "    <tr>\n",
       "      <th>0</th>\n",
       "      <td>203.494000</td>\n",
       "      <td>199.960</td>\n",
       "      <td>123.170275</td>\n",
       "      <td>439.98</td>\n",
       "      <td>1.00</td>\n",
       "      <td>25</td>\n",
       "      <td>55.240000</td>\n",
       "      <td>24.0</td>\n",
       "      <td>72.502460</td>\n",
       "      <td>266.0</td>\n",
       "      <td>0.0</td>\n",
       "      <td>1.920000</td>\n",
       "      <td>1.0</td>\n",
       "      <td>2.998889</td>\n",
       "      <td>11.0</td>\n",
       "      <td>0.0</td>\n",
       "      <td>449.960000</td>\n",
       "      <td>463.00</td>\n",
       "      <td>45.132656</td>\n",
       "      <td>463.00</td>\n",
       "      <td>300.00</td>\n",
       "      <td>0.120000</td>\n",
       "      <td>0.0</td>\n",
       "      <td>0.331662</td>\n",
       "      <td>1</td>\n",
       "      <td>0</td>\n",
       "      <td>1.000000</td>\n",
       "      <td>Отдельно стоящий с внешней зоной</td>\n",
       "      <td>Отдельно стоящий с внешней зоной</td>\n",
       "      <td>57</td>\n",
       "      <td>239</td>\n",
       "      <td>181</td>\n",
       "      <td>0.431034</td>\n",
       "      <td>Бургер</td>\n",
       "    </tr>\n",
       "    <tr>\n",
       "      <th>1</th>\n",
       "      <td>227.024000</td>\n",
       "      <td>229.990</td>\n",
       "      <td>124.933425</td>\n",
       "      <td>499.95</td>\n",
       "      <td>44.99</td>\n",
       "      <td>25</td>\n",
       "      <td>49.400000</td>\n",
       "      <td>23.0</td>\n",
       "      <td>60.578462</td>\n",
       "      <td>216.0</td>\n",
       "      <td>0.0</td>\n",
       "      <td>1.520000</td>\n",
       "      <td>0.0</td>\n",
       "      <td>2.518597</td>\n",
       "      <td>9.0</td>\n",
       "      <td>0.0</td>\n",
       "      <td>320.000000</td>\n",
       "      <td>320.00</td>\n",
       "      <td>0.000000</td>\n",
       "      <td>320.00</td>\n",
       "      <td>320.00</td>\n",
       "      <td>0.240000</td>\n",
       "      <td>0.0</td>\n",
       "      <td>0.663325</td>\n",
       "      <td>2</td>\n",
       "      <td>0</td>\n",
       "      <td>1.000000</td>\n",
       "      <td>Отдельно стоящий без внешней зоны</td>\n",
       "      <td>Отдельно стоящий без внешней зоны</td>\n",
       "      <td>51</td>\n",
       "      <td>301</td>\n",
       "      <td>249</td>\n",
       "      <td>0.480769</td>\n",
       "      <td>Закуски</td>\n",
       "    </tr>\n",
       "    <tr>\n",
       "      <th>2</th>\n",
       "      <td>391.399583</td>\n",
       "      <td>344.985</td>\n",
       "      <td>334.849322</td>\n",
       "      <td>1079.97</td>\n",
       "      <td>1.00</td>\n",
       "      <td>24</td>\n",
       "      <td>49.708333</td>\n",
       "      <td>34.5</td>\n",
       "      <td>46.635944</td>\n",
       "      <td>164.0</td>\n",
       "      <td>0.0</td>\n",
       "      <td>1.666667</td>\n",
       "      <td>1.0</td>\n",
       "      <td>1.809796</td>\n",
       "      <td>6.0</td>\n",
       "      <td>0.0</td>\n",
       "      <td>153.000000</td>\n",
       "      <td>153.00</td>\n",
       "      <td>0.000000</td>\n",
       "      <td>153.00</td>\n",
       "      <td>153.00</td>\n",
       "      <td>0.250000</td>\n",
       "      <td>0.0</td>\n",
       "      <td>0.531610</td>\n",
       "      <td>2</td>\n",
       "      <td>0</td>\n",
       "      <td>0.000000</td>\n",
       "      <td>Фудкорт без туалета</td>\n",
       "      <td>Фудкорт без туалета</td>\n",
       "      <td>50</td>\n",
       "      <td>81</td>\n",
       "      <td>31</td>\n",
       "      <td>0.470588</td>\n",
       "      <td>Соус</td>\n",
       "    </tr>\n",
       "    <tr>\n",
       "      <th>3</th>\n",
       "      <td>128.725000</td>\n",
       "      <td>59.980</td>\n",
       "      <td>144.471912</td>\n",
       "      <td>344.97</td>\n",
       "      <td>49.97</td>\n",
       "      <td>4</td>\n",
       "      <td>166.750000</td>\n",
       "      <td>11.5</td>\n",
       "      <td>318.351352</td>\n",
       "      <td>644.0</td>\n",
       "      <td>0.0</td>\n",
       "      <td>6.500000</td>\n",
       "      <td>0.0</td>\n",
       "      <td>13.000000</td>\n",
       "      <td>26.0</td>\n",
       "      <td>0.0</td>\n",
       "      <td>126.355000</td>\n",
       "      <td>139.00</td>\n",
       "      <td>25.290000</td>\n",
       "      <td>139.00</td>\n",
       "      <td>88.42</td>\n",
       "      <td>0.000000</td>\n",
       "      <td>0.0</td>\n",
       "      <td>0.000000</td>\n",
       "      <td>0</td>\n",
       "      <td>0</td>\n",
       "      <td>0.000000</td>\n",
       "      <td>Отдельно стоящий без внешней зоны без туалета</td>\n",
       "      <td>Отдельно стоящий без внешней зоны без туалета</td>\n",
       "      <td>27</td>\n",
       "      <td>52</td>\n",
       "      <td>24</td>\n",
       "      <td>0.142857</td>\n",
       "      <td>Десерт</td>\n",
       "    </tr>\n",
       "    <tr>\n",
       "      <th>4</th>\n",
       "      <td>554.943333</td>\n",
       "      <td>554.940</td>\n",
       "      <td>49.985000</td>\n",
       "      <td>604.93</td>\n",
       "      <td>504.96</td>\n",
       "      <td>3</td>\n",
       "      <td>123.333333</td>\n",
       "      <td>172.0</td>\n",
       "      <td>107.598017</td>\n",
       "      <td>198.0</td>\n",
       "      <td>0.0</td>\n",
       "      <td>5.000000</td>\n",
       "      <td>7.0</td>\n",
       "      <td>4.358899</td>\n",
       "      <td>8.0</td>\n",
       "      <td>0.0</td>\n",
       "      <td>179.513333</td>\n",
       "      <td>129.27</td>\n",
       "      <td>87.024006</td>\n",
       "      <td>280.00</td>\n",
       "      <td>129.27</td>\n",
       "      <td>2.000000</td>\n",
       "      <td>2.0</td>\n",
       "      <td>0.000000</td>\n",
       "      <td>2</td>\n",
       "      <td>2</td>\n",
       "      <td>0.333333</td>\n",
       "      <td>Фудкорт без туалета</td>\n",
       "      <td>Отдельно стоящий с внешней зоной</td>\n",
       "      <td>15</td>\n",
       "      <td>234</td>\n",
       "      <td>219</td>\n",
       "      <td>0.187500</td>\n",
       "      <td>Закуски</td>\n",
       "    </tr>\n",
       "    <tr>\n",
       "      <th>...</th>\n",
       "      <td>...</td>\n",
       "      <td>...</td>\n",
       "      <td>...</td>\n",
       "      <td>...</td>\n",
       "      <td>...</td>\n",
       "      <td>...</td>\n",
       "      <td>...</td>\n",
       "      <td>...</td>\n",
       "      <td>...</td>\n",
       "      <td>...</td>\n",
       "      <td>...</td>\n",
       "      <td>...</td>\n",
       "      <td>...</td>\n",
       "      <td>...</td>\n",
       "      <td>...</td>\n",
       "      <td>...</td>\n",
       "      <td>...</td>\n",
       "      <td>...</td>\n",
       "      <td>...</td>\n",
       "      <td>...</td>\n",
       "      <td>...</td>\n",
       "      <td>...</td>\n",
       "      <td>...</td>\n",
       "      <td>...</td>\n",
       "      <td>...</td>\n",
       "      <td>...</td>\n",
       "      <td>...</td>\n",
       "      <td>...</td>\n",
       "      <td>...</td>\n",
       "      <td>...</td>\n",
       "      <td>...</td>\n",
       "      <td>...</td>\n",
       "      <td>...</td>\n",
       "      <td>...</td>\n",
       "    </tr>\n",
       "    <tr>\n",
       "      <th>499995</th>\n",
       "      <td>311.966667</td>\n",
       "      <td>320.960</td>\n",
       "      <td>207.626131</td>\n",
       "      <td>514.95</td>\n",
       "      <td>99.99</td>\n",
       "      <td>3</td>\n",
       "      <td>9.333333</td>\n",
       "      <td>0.0</td>\n",
       "      <td>16.165808</td>\n",
       "      <td>28.0</td>\n",
       "      <td>0.0</td>\n",
       "      <td>0.333333</td>\n",
       "      <td>0.0</td>\n",
       "      <td>0.577350</td>\n",
       "      <td>1.0</td>\n",
       "      <td>0.0</td>\n",
       "      <td>112.530000</td>\n",
       "      <td>112.53</td>\n",
       "      <td>0.000000</td>\n",
       "      <td>112.53</td>\n",
       "      <td>112.53</td>\n",
       "      <td>0.333333</td>\n",
       "      <td>0.0</td>\n",
       "      <td>0.577350</td>\n",
       "      <td>1</td>\n",
       "      <td>0</td>\n",
       "      <td>0.000000</td>\n",
       "      <td>Фудкорт без туалета</td>\n",
       "      <td>Фудкорт без туалета</td>\n",
       "      <td>1</td>\n",
       "      <td>1</td>\n",
       "      <td>0</td>\n",
       "      <td>1.500000</td>\n",
       "      <td>Закуски</td>\n",
       "    </tr>\n",
       "    <tr>\n",
       "      <th>499996</th>\n",
       "      <td>399.956667</td>\n",
       "      <td>349.960</td>\n",
       "      <td>377.456622</td>\n",
       "      <td>799.92</td>\n",
       "      <td>49.99</td>\n",
       "      <td>3</td>\n",
       "      <td>0.000000</td>\n",
       "      <td>0.0</td>\n",
       "      <td>0.000000</td>\n",
       "      <td>0.0</td>\n",
       "      <td>0.0</td>\n",
       "      <td>0.000000</td>\n",
       "      <td>0.0</td>\n",
       "      <td>0.000000</td>\n",
       "      <td>0.0</td>\n",
       "      <td>0.0</td>\n",
       "      <td>120.000000</td>\n",
       "      <td>120.00</td>\n",
       "      <td>0.000000</td>\n",
       "      <td>120.00</td>\n",
       "      <td>120.00</td>\n",
       "      <td>0.000000</td>\n",
       "      <td>0.0</td>\n",
       "      <td>0.000000</td>\n",
       "      <td>0</td>\n",
       "      <td>0</td>\n",
       "      <td>1.000000</td>\n",
       "      <td>Фудкорт с туалетом</td>\n",
       "      <td>Фудкорт с туалетом</td>\n",
       "      <td>0</td>\n",
       "      <td>1</td>\n",
       "      <td>1</td>\n",
       "      <td>3.000000</td>\n",
       "      <td>Соус</td>\n",
       "    </tr>\n",
       "    <tr>\n",
       "      <th>499997</th>\n",
       "      <td>363.306667</td>\n",
       "      <td>399.970</td>\n",
       "      <td>177.842347</td>\n",
       "      <td>519.96</td>\n",
       "      <td>169.99</td>\n",
       "      <td>3</td>\n",
       "      <td>1.000000</td>\n",
       "      <td>1.0</td>\n",
       "      <td>1.000000</td>\n",
       "      <td>2.0</td>\n",
       "      <td>0.0</td>\n",
       "      <td>0.000000</td>\n",
       "      <td>0.0</td>\n",
       "      <td>0.000000</td>\n",
       "      <td>0.0</td>\n",
       "      <td>0.0</td>\n",
       "      <td>80.200000</td>\n",
       "      <td>80.20</td>\n",
       "      <td>0.000000</td>\n",
       "      <td>80.20</td>\n",
       "      <td>80.20</td>\n",
       "      <td>1.000000</td>\n",
       "      <td>1.0</td>\n",
       "      <td>0.000000</td>\n",
       "      <td>1</td>\n",
       "      <td>1</td>\n",
       "      <td>0.000000</td>\n",
       "      <td>Фудкорт без туалета</td>\n",
       "      <td>Фудкорт без туалета</td>\n",
       "      <td>0</td>\n",
       "      <td>1</td>\n",
       "      <td>1</td>\n",
       "      <td>3.000000</td>\n",
       "      <td>Напитки</td>\n",
       "    </tr>\n",
       "    <tr>\n",
       "      <th>499998</th>\n",
       "      <td>406.643333</td>\n",
       "      <td>469.960</td>\n",
       "      <td>202.558140</td>\n",
       "      <td>569.98</td>\n",
       "      <td>179.99</td>\n",
       "      <td>3</td>\n",
       "      <td>1.666667</td>\n",
       "      <td>1.0</td>\n",
       "      <td>2.081666</td>\n",
       "      <td>4.0</td>\n",
       "      <td>0.0</td>\n",
       "      <td>0.000000</td>\n",
       "      <td>0.0</td>\n",
       "      <td>0.000000</td>\n",
       "      <td>0.0</td>\n",
       "      <td>0.0</td>\n",
       "      <td>270.000000</td>\n",
       "      <td>270.00</td>\n",
       "      <td>0.000000</td>\n",
       "      <td>270.00</td>\n",
       "      <td>270.00</td>\n",
       "      <td>0.000000</td>\n",
       "      <td>0.0</td>\n",
       "      <td>0.000000</td>\n",
       "      <td>0</td>\n",
       "      <td>0</td>\n",
       "      <td>1.000000</td>\n",
       "      <td>Отдельно стоящий с внешней зоной</td>\n",
       "      <td>Отдельно стоящий с внешней зоной</td>\n",
       "      <td>0</td>\n",
       "      <td>0</td>\n",
       "      <td>0</td>\n",
       "      <td>3.000000</td>\n",
       "      <td>Напитки</td>\n",
       "    </tr>\n",
       "    <tr>\n",
       "      <th>499999</th>\n",
       "      <td>278.310000</td>\n",
       "      <td>284.970</td>\n",
       "      <td>16.061345</td>\n",
       "      <td>289.97</td>\n",
       "      <td>259.99</td>\n",
       "      <td>3</td>\n",
       "      <td>0.000000</td>\n",
       "      <td>0.0</td>\n",
       "      <td>0.000000</td>\n",
       "      <td>0.0</td>\n",
       "      <td>0.0</td>\n",
       "      <td>0.000000</td>\n",
       "      <td>0.0</td>\n",
       "      <td>0.000000</td>\n",
       "      <td>0.0</td>\n",
       "      <td>0.0</td>\n",
       "      <td>300.000000</td>\n",
       "      <td>300.00</td>\n",
       "      <td>0.000000</td>\n",
       "      <td>300.00</td>\n",
       "      <td>300.00</td>\n",
       "      <td>0.000000</td>\n",
       "      <td>0.0</td>\n",
       "      <td>0.000000</td>\n",
       "      <td>0</td>\n",
       "      <td>0</td>\n",
       "      <td>1.000000</td>\n",
       "      <td>Фудкорт с туалетом</td>\n",
       "      <td>Фудкорт с туалетом</td>\n",
       "      <td>0</td>\n",
       "      <td>0</td>\n",
       "      <td>0</td>\n",
       "      <td>3.000000</td>\n",
       "      <td>Закуски</td>\n",
       "    </tr>\n",
       "  </tbody>\n",
       "</table>\n",
       "<p>500000 rows × 34 columns</p>\n",
       "</div>"
      ],
      "text/plain": [
       "        revenue_mean  revenue_median  ...    lambda  dish_cat_mode\n",
       "0         203.494000         199.960  ...  0.431034         Бургер\n",
       "1         227.024000         229.990  ...  0.480769        Закуски\n",
       "2         391.399583         344.985  ...  0.470588           Соус\n",
       "3         128.725000          59.980  ...  0.142857         Десерт\n",
       "4         554.943333         554.940  ...  0.187500        Закуски\n",
       "...              ...             ...  ...       ...            ...\n",
       "499995    311.966667         320.960  ...  1.500000        Закуски\n",
       "499996    399.956667         349.960  ...  3.000000           Соус\n",
       "499997    363.306667         399.970  ...  3.000000        Напитки\n",
       "499998    406.643333         469.960  ...  3.000000        Напитки\n",
       "499999    278.310000         284.970  ...  3.000000        Закуски\n",
       "\n",
       "[500000 rows x 34 columns]"
      ]
     },
     "execution_count": 131,
     "metadata": {},
     "output_type": "execute_result"
    }
   ],
   "source": [
    "X_train"
   ]
  },
  {
   "cell_type": "code",
   "execution_count": 132,
   "id": "16794bdc-d544-4ea9-83d9-bf824d04da54",
   "metadata": {
    "execution": {
     "iopub.execute_input": "2023-11-25T00:42:25.035055Z",
     "iopub.status.busy": "2023-11-25T00:42:25.034159Z",
     "iopub.status.idle": "2023-11-25T00:42:25.328774Z",
     "shell.execute_reply": "2023-11-25T00:42:25.327772Z",
     "shell.execute_reply.started": "2023-11-25T00:42:25.035009Z"
    },
    "tags": []
   },
   "outputs": [
    {
     "data": {
      "image/png": "[encoded data removed]",
      "text/plain": [
       "<Figure size 1440x576 with 2 Axes>"
      ]
     },
     "metadata": {
      "needs_background": "light"
     },
     "output_type": "display_data"
    }
   ],
   "source": [
    "fig, axes = plt.subplots(1, 2, figsize=(20, 8))\n",
    "axes[0].set_title('Boxplot of revenue')\n",
    "labels = ['revenue_mean']\n",
    "axes[0].boxplot(X_train['revenue_mean'], labels=labels)\n",
    "\n",
    "axes[1].set_title('Histogram of revenue')\n",
    "\n",
    "axes[1].hist(X_train['revenue_mean'], bins=50, label = 'revenue_mean', color = '#182c6bff')\n",
    "axes[1].set_xlabel('revenue_mean')\n",
    "\n",
    "plt.show()"
   ]
  },
  {
   "cell_type": "code",
   "execution_count": 136,
   "id": "0e93e138-c8ef-4bb9-9a05-e8f1288a1872",
   "metadata": {
    "execution": {
     "iopub.execute_input": "2023-11-25T00:46:52.594560Z",
     "iopub.status.busy": "2023-11-25T00:46:52.593823Z",
     "iopub.status.idle": "2023-11-25T00:46:52.890291Z",
     "shell.execute_reply": "2023-11-25T00:46:52.889599Z",
     "shell.execute_reply.started": "2023-11-25T00:46:52.594531Z"
    },
    "tags": []
   },
   "outputs": [
    {
     "data": {
      "image/png": "[encoded data removed]",
      "text/plain": [
       "<Figure size 1440x576 with 2 Axes>"
      ]
     },
     "metadata": {
      "needs_background": "light"
     },
     "output_type": "display_data"
    }
   ],
   "source": [
    "fig, axes = plt.subplots(1, 2, figsize=(20, 8))\n",
    "axes[0].set_title('Boxplot of revenue count')\n",
    "labels = ['revenue_count']\n",
    "axes[0].boxplot(X_train['revenue_count'], labels=labels)\n",
    "\n",
    "axes[1].set_title('Histogram of revenue count')\n",
    "\n",
    "axes[1].hist(X_train['revenue_count'], bins=50, label = 'revenue_count', color = '#182c6bff')\n",
    "axes[1].set_xlabel('revenue_count')\n",
    "\n",
    "plt.show()"
   ]
  },
  {
   "cell_type": "code",
   "execution_count": 138,
   "id": "8d40e2ed-745d-4a5d-ac91-92684c8a902b",
   "metadata": {
    "execution": {
     "iopub.execute_input": "2023-11-25T00:51:28.362364Z",
     "iopub.status.busy": "2023-11-25T00:51:28.361804Z",
     "iopub.status.idle": "2023-11-25T00:51:28.629562Z",
     "shell.execute_reply": "2023-11-25T00:51:28.628954Z",
     "shell.execute_reply.started": "2023-11-25T00:51:28.362339Z"
    },
    "tags": []
   },
   "outputs": [
    {
     "data": {
      "image/png": "[encoded data removed]",
      "text/plain": [
       "<Figure size 1440x576 with 2 Axes>"
      ]
     },
     "metadata": {
      "needs_background": "light"
     },
     "output_type": "display_data"
    }
   ],
   "source": [
    "fig, axes = plt.subplots(1, 2, figsize=(20, 8))\n",
    "axes[0].set_title('Boxplot of days_from_last_purchase')\n",
    "labels = ['days_from_last_purchase']\n",
    "axes[0].boxplot(X_train['days_from_last_purchase'], labels=labels)\n",
    "\n",
    "axes[1].set_title('Histogram of days_from_last_purchase')\n",
    "\n",
    "axes[1].hist(X_train['days_from_last_purchase'], bins=50, label = 'days_from_last_purchase', color = '#182c6bff')\n",
    "axes[1].set_xlabel('days_from_last_purchase')\n",
    "\n",
    "plt.show()"
   ]
  },
  {
   "cell_type": "code",
   "execution_count": 137,
   "id": "5eaed05a-252c-4736-8045-c54082f70fc5",
   "metadata": {
    "execution": {
     "iopub.execute_input": "2023-11-25T00:49:34.203814Z",
     "iopub.status.busy": "2023-11-25T00:49:34.203135Z",
     "iopub.status.idle": "2023-11-25T00:49:34.214348Z",
     "shell.execute_reply": "2023-11-25T00:49:34.213754Z",
     "shell.execute_reply.started": "2023-11-25T00:49:34.203786Z"
    },
    "tags": []
   },
   "outputs": [
    {
     "data": {
      "text/plain": [
       "Index(['revenue_mean', 'revenue_median', 'revenue_std', 'revenue_max',\n",
       "       'revenue_min', 'revenue_count', 'delta_hours_mean',\n",
       "       'delta_hours_median', 'delta_hours_std', 'delta_hours_max',\n",
       "       'delta_hours_min', 'delta_days_mean', 'delta_days_median',\n",
       "       'delta_days_std', 'delta_days_max', 'delta_days_min',\n",
       "       'ownareaall_sqm_mean', 'ownareaall_sqm_median', 'ownareaall_sqm_std',\n",
       "       'ownareaall_sqm_max', 'ownareaall_sqm_min', 'discounts_mean',\n",
       "       'discounts_median', 'discounts_std', 'discounts_max', 'discounts_min',\n",
       "       'having_wc_mean', 'format_name_mode', 'format_name_last', 'recency',\n",
       "       'T', 'days_from_last_purchase', 'lambda', 'dish_cat_mode'],\n",
       "      dtype='object')"
      ]
     },
     "execution_count": 137,
     "metadata": {},
     "output_type": "execute_result"
    }
   ],
   "source": [
    "X_train.columns"
   ]
  },
  {
   "cell_type": "code",
   "execution_count": 139,
   "id": "bec1f8f5-5cc5-4700-8bc9-0a0de12a2460",
   "metadata": {
    "execution": {
     "iopub.execute_input": "2023-11-25T00:58:13.020963Z",
     "iopub.status.busy": "2023-11-25T00:58:13.020225Z",
     "iopub.status.idle": "2023-11-25T00:58:13.301642Z",
     "shell.execute_reply": "2023-11-25T00:58:13.301010Z",
     "shell.execute_reply.started": "2023-11-25T00:58:13.020933Z"
    },
    "tags": []
   },
   "outputs": [
    {
     "data": {
      "image/png": "[encoded data removed]",
      "text/plain": [
       "<Figure size 1440x576 with 2 Axes>"
      ]
     },
     "metadata": {
      "needs_background": "light"
     },
     "output_type": "display_data"
    }
   ],
   "source": [
    "fig, axes = plt.subplots(1, 2, figsize=(20, 8))\n",
    "axes[0].set_title('Boxplot of ownareaall_sqm_mean')\n",
    "labels = ['ownareaall_sqm_mean']\n",
    "axes[0].boxplot(X_train['ownareaall_sqm_mean'], labels=labels)\n",
    "\n",
    "axes[1].set_title('Histogram of ownareaall_sqm_mean')\n",
    "\n",
    "axes[1].hist(X_train['ownareaall_sqm_mean'], bins=50, label = 'ownareaall_sqm_mean', color = '#182c6bff')\n",
    "axes[1].set_xlabel('ownareaall_sqm_mean')\n",
    "\n",
    "plt.show()"
   ]
  },
  {
   "cell_type": "code",
   "execution_count": 140,
   "id": "0b235eb5-db96-4cd9-a14b-80db0d52f9a7",
   "metadata": {
    "execution": {
     "iopub.execute_input": "2023-11-25T01:00:08.897095Z",
     "iopub.status.busy": "2023-11-25T01:00:08.896075Z",
     "iopub.status.idle": "2023-11-25T01:00:09.175367Z",
     "shell.execute_reply": "2023-11-25T01:00:09.174787Z",
     "shell.execute_reply.started": "2023-11-25T01:00:08.897033Z"
    },
    "tags": []
   },
   "outputs": [
    {
     "data": {
      "image/png": "[encoded data removed]",
      "text/plain": [
       "<Figure size 1440x576 with 2 Axes>"
      ]
     },
     "metadata": {
      "needs_background": "light"
     },
     "output_type": "display_data"
    }
   ],
   "source": [
    "fig, axes = plt.subplots(1, 2, figsize=(20, 8))\n",
    "axes[0].set_title('Boxplot of recency')\n",
    "labels = ['recency']\n",
    "axes[0].boxplot(X_train['recency'], labels=labels)\n",
    "\n",
    "axes[1].set_title('Histogram of recency')\n",
    "\n",
    "axes[1].hist(X_train['recency'], bins=50, label = 'recency', color = '#182c6bff')\n",
    "axes[1].set_xlabel('recency')\n",
    "\n",
    "plt.show()"
   ]
  }
 ],
 "metadata": {
  "kernelspec": {
   "display_name": "DataSphere Kernel",
   "language": "python",
   "name": "python3"
  },
  "language_info": {
   "codemirror_mode": {
    "name": "ipython",
    "version": 3
   },
   "file_extension": ".py",
   "mimetype": "text/x-python",
   "name": "python",
   "nbconvert_exporter": "python",
   "pygments_lexer": "ipython3",
   "version": "3.7.7"
  }
 },
 "nbformat": 4,
 "nbformat_minor": 5
}
