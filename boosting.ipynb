{
 "cells": [
  {
   "cell_type": "code",
   "execution_count": 1,
   "metadata": {},
   "outputs": [],
   "source": [
    "import os\n",
    "\n",
    "os.chdir('app/')"
   ]
  },
  {
   "cell_type": "code",
   "execution_count": 3,
   "metadata": {},
   "outputs": [],
   "source": [
    "import numpy as np\n",
    "import pandas as pd\n",
    "import matplotlib.pyplot as plt\n",
    "\n",
    "from tqdm import tqdm\n",
    "\n",
    "from sklearn.metrics import roc_auc_score, f1_score, mean_squared_error, roc_curve\n",
    "from sklearn.model_selection import cross_val_score, train_test_split\n",
    "from sklearn.preprocessing import StandardScaler\n",
    "\n",
    "from sklearn.ensemble import RandomForestClassifier\n",
    "from sklearn.linear_model import LogisticRegression, LinearRegression\n",
    "from lightgbm import LGBMClassifier, LGBMRegressor\n",
    "from xgboost import XGBClassifier\n",
    "from catboost import CatBoostClassifier\n",
    "\n",
    "from sklearn.ensemble import StackingClassifier\n",
    "from sklearn.pipeline import Pipeline\n",
    "\n",
    "from imblearn.over_sampling import RandomOverSampler, SMOTE"
   ]
  },
  {
   "attachments": {},
   "cell_type": "markdown",
   "metadata": {},
   "source": [
    "# Data preparation"
   ]
  },
  {
   "cell_type": "code",
   "execution_count": 3,
   "metadata": {},
   "outputs": [],
   "source": [
    "path_to_data = 'data'"
   ]
  },
  {
   "cell_type": "code",
   "execution_count": 4,
   "metadata": {},
   "outputs": [],
   "source": [
    "df_train = pd.read_parquet(path_to_data + '/train_dataset_hackaton2023_train.gzip')\n",
    "df_test = pd.read_parquet(path_to_data + '/hackaton2023_test.gzip')\n",
    "\n",
    "df_test['date_diff_post'] = 0\n",
    "df_test['buy_post'] = 0"
   ]
  },
  {
   "cell_type": "code",
   "execution_count": 5,
   "metadata": {},
   "outputs": [],
   "source": [
    "def has_ws(x):\n",
    "    return x in ['Отдельно стоящий с внешней зоной', 'Отдельно стоящий без внешней зоны', 'Отдельно стоящий', 'Фудкорт с туалетом']\n",
    "\n",
    "def is_food_court(x):\n",
    "    return 'Фудкорт' in x\n",
    "\n",
    "\n",
    "def preprocess(df):\n",
    "    # df = df.drop_duplicates()\n",
    "\n",
    "    # some new features\n",
    "    df['discounts'] = df['revenue'] == 1\n",
    "    df['has_ws'] = df['format_name'].apply(has_ws)\n",
    "    df['is_food_court'] = df['format_name'].apply(is_food_court)\n",
    "\n",
    "    # aggregate each check\n",
    "    data_check_agg = df.groupby(['customer_id', 'startdatetime']).agg({\n",
    "        'revenue': ['sum', 'count'], \n",
    "        'discounts': 'sum',\n",
    "        'has_ws': 'first',\n",
    "        'is_food_court': 'first',\n",
    "        'buy_post': 'first',\n",
    "        'date_diff_post': 'first',\n",
    "    }).reset_index()\n",
    "\n",
    "    data_check_agg.columns = [f'{header}_{stat}' if header == 'revenue' else header for header, stat in data_check_agg.columns]\n",
    "    data_check_agg = data_check_agg.rename({'revenue_sum': 'revenue', 'revenue_count': 'positions_count'}, axis=1)\n",
    "\n",
    "    # calculate time delta between checks\n",
    "    data_check_agg['delta'] = data_check_agg.groupby('customer_id')['startdatetime'].diff() \n",
    "\n",
    "    data_check_agg['delta_hours'] = (data_check_agg['delta'].dt.total_seconds() // (60*60)).fillna(0)\n",
    "    data_check_agg['delta_days'] = (data_check_agg['delta'].dt.total_seconds() // (24*60*60)).fillna(0)\n",
    "\n",
    "    # add date features\n",
    "    data_check_agg = data_check_agg.drop('delta', axis=1)\n",
    "    data_check_agg['month'] = data_check_agg['startdatetime'].dt.month\n",
    "    data_check_agg['day_of_week'] = data_check_agg['startdatetime'].dt.day_of_week\n",
    "    data_check_agg['hour'] = data_check_agg['startdatetime'].dt.hour\n",
    "\n",
    "    # aggregate features for each user\n",
    "    data_cust_agg = data_check_agg.groupby('customer_id').agg({\n",
    "        'revenue': ['mean', 'median', 'std', 'max', 'min', 'count'],\n",
    "        'positions_count': ['mean', 'median', 'std', 'max', 'min'],\n",
    "        'discounts': ['mean', 'median', 'std', 'max', 'min'],\n",
    "        'delta_hours': ['mean', 'median', 'std', 'max'],\n",
    "        'delta_days': ['mean', 'median', 'std', 'max'],\n",
    "        'hour': ['mean', 'median', 'std', 'max', 'min'],\n",
    "        'startdatetime': ['min', 'max'],\n",
    "        'has_ws': 'mean',\n",
    "        'is_food_court': 'mean',\n",
    "        'buy_post': 'first',\n",
    "        'date_diff_post': 'first',\n",
    "    }).reset_index()\n",
    "\n",
    "    data_cust_agg.columns = [f'{header}_{stat}' for header, stat in data_cust_agg.columns]\n",
    "\n",
    "    # add some features\n",
    "    data_cust_agg['recency'] = (data_cust_agg['startdatetime_max'] - data_cust_agg['startdatetime_min']).dt.days\n",
    "    data_cust_agg['T'] = (pd.to_datetime('2023-08-02') - data_cust_agg['startdatetime_min']).dt.days\n",
    "    data_cust_agg['days_from_last_purchase'] = (pd.to_datetime('2023-08-02') - data_cust_agg['startdatetime_max']).dt.days\n",
    "    data_cust_agg['lambda'] = data_cust_agg['revenue_count'] / (data_cust_agg['recency'] + 1)\n",
    "    data_cust_agg = data_cust_agg.drop(['startdatetime_min', 'startdatetime_max'], axis=1)\n",
    "    \n",
    "    return data_cust_agg"
   ]
  },
  {
   "cell_type": "code",
   "execution_count": 6,
   "metadata": {},
   "outputs": [],
   "source": [
    "data_train_val = preprocess(df_train)"
   ]
  },
  {
   "cell_type": "code",
   "execution_count": 7,
   "metadata": {},
   "outputs": [
    {
     "data": {
      "text/html": [
       "<div>\n",
       "<style scoped>\n",
       "    .dataframe tbody tr th:only-of-type {\n",
       "        vertical-align: middle;\n",
       "    }\n",
       "\n",
       "    .dataframe tbody tr th {\n",
       "        vertical-align: top;\n",
       "    }\n",
       "\n",
       "    .dataframe thead th {\n",
       "        text-align: right;\n",
       "    }\n",
       "</style>\n",
       "<table border=\"1\" class=\"dataframe\">\n",
       "  <thead>\n",
       "    <tr style=\"text-align: right;\">\n",
       "      <th></th>\n",
       "      <th>customer_id_</th>\n",
       "      <th>revenue_mean</th>\n",
       "      <th>revenue_median</th>\n",
       "      <th>revenue_std</th>\n",
       "      <th>revenue_max</th>\n",
       "      <th>revenue_min</th>\n",
       "      <th>revenue_count</th>\n",
       "      <th>positions_count_mean</th>\n",
       "      <th>positions_count_median</th>\n",
       "      <th>positions_count_std</th>\n",
       "      <th>...</th>\n",
       "      <th>hour_max</th>\n",
       "      <th>hour_min</th>\n",
       "      <th>has_ws_mean</th>\n",
       "      <th>is_food_court_mean</th>\n",
       "      <th>buy_post_first</th>\n",
       "      <th>date_diff_post_first</th>\n",
       "      <th>recency</th>\n",
       "      <th>T</th>\n",
       "      <th>days_from_last_purchase</th>\n",
       "      <th>lambda</th>\n",
       "    </tr>\n",
       "  </thead>\n",
       "  <tbody>\n",
       "    <tr>\n",
       "      <th>0</th>\n",
       "      <td>29891</td>\n",
       "      <td>203.494000</td>\n",
       "      <td>199.960</td>\n",
       "      <td>123.170275</td>\n",
       "      <td>439.98</td>\n",
       "      <td>1.00</td>\n",
       "      <td>25</td>\n",
       "      <td>1.360000</td>\n",
       "      <td>1.0</td>\n",
       "      <td>0.860233</td>\n",
       "      <td>...</td>\n",
       "      <td>19</td>\n",
       "      <td>0</td>\n",
       "      <td>1.000000</td>\n",
       "      <td>0.000000</td>\n",
       "      <td>1</td>\n",
       "      <td>9.0</td>\n",
       "      <td>57</td>\n",
       "      <td>239</td>\n",
       "      <td>181</td>\n",
       "      <td>0.431034</td>\n",
       "    </tr>\n",
       "    <tr>\n",
       "      <th>1</th>\n",
       "      <td>30477</td>\n",
       "      <td>227.024000</td>\n",
       "      <td>229.990</td>\n",
       "      <td>124.933425</td>\n",
       "      <td>499.95</td>\n",
       "      <td>44.99</td>\n",
       "      <td>25</td>\n",
       "      <td>2.440000</td>\n",
       "      <td>1.0</td>\n",
       "      <td>1.916594</td>\n",
       "      <td>...</td>\n",
       "      <td>16</td>\n",
       "      <td>8</td>\n",
       "      <td>1.000000</td>\n",
       "      <td>0.000000</td>\n",
       "      <td>1</td>\n",
       "      <td>10.0</td>\n",
       "      <td>51</td>\n",
       "      <td>301</td>\n",
       "      <td>249</td>\n",
       "      <td>0.480769</td>\n",
       "    </tr>\n",
       "    <tr>\n",
       "      <th>2</th>\n",
       "      <td>31426</td>\n",
       "      <td>391.399583</td>\n",
       "      <td>344.985</td>\n",
       "      <td>334.849322</td>\n",
       "      <td>1079.97</td>\n",
       "      <td>1.00</td>\n",
       "      <td>24</td>\n",
       "      <td>3.583333</td>\n",
       "      <td>3.5</td>\n",
       "      <td>1.909169</td>\n",
       "      <td>...</td>\n",
       "      <td>22</td>\n",
       "      <td>9</td>\n",
       "      <td>0.000000</td>\n",
       "      <td>1.000000</td>\n",
       "      <td>1</td>\n",
       "      <td>4.0</td>\n",
       "      <td>50</td>\n",
       "      <td>81</td>\n",
       "      <td>31</td>\n",
       "      <td>0.470588</td>\n",
       "    </tr>\n",
       "    <tr>\n",
       "      <th>3</th>\n",
       "      <td>44491</td>\n",
       "      <td>128.725000</td>\n",
       "      <td>59.980</td>\n",
       "      <td>144.471912</td>\n",
       "      <td>344.97</td>\n",
       "      <td>49.97</td>\n",
       "      <td>4</td>\n",
       "      <td>2.500000</td>\n",
       "      <td>2.5</td>\n",
       "      <td>0.577350</td>\n",
       "      <td>...</td>\n",
       "      <td>22</td>\n",
       "      <td>18</td>\n",
       "      <td>0.000000</td>\n",
       "      <td>0.250000</td>\n",
       "      <td>1</td>\n",
       "      <td>42.0</td>\n",
       "      <td>27</td>\n",
       "      <td>52</td>\n",
       "      <td>24</td>\n",
       "      <td>0.142857</td>\n",
       "    </tr>\n",
       "    <tr>\n",
       "      <th>4</th>\n",
       "      <td>44939</td>\n",
       "      <td>554.943333</td>\n",
       "      <td>554.940</td>\n",
       "      <td>49.985000</td>\n",
       "      <td>604.93</td>\n",
       "      <td>504.96</td>\n",
       "      <td>3</td>\n",
       "      <td>8.333333</td>\n",
       "      <td>9.0</td>\n",
       "      <td>1.154701</td>\n",
       "      <td>...</td>\n",
       "      <td>22</td>\n",
       "      <td>11</td>\n",
       "      <td>0.333333</td>\n",
       "      <td>0.666667</td>\n",
       "      <td>1</td>\n",
       "      <td>9.0</td>\n",
       "      <td>15</td>\n",
       "      <td>234</td>\n",
       "      <td>219</td>\n",
       "      <td>0.187500</td>\n",
       "    </tr>\n",
       "  </tbody>\n",
       "</table>\n",
       "<p>5 rows × 38 columns</p>\n",
       "</div>"
      ],
      "text/plain": [
       "   customer_id_  revenue_mean  revenue_median  revenue_std  revenue_max  \\\n",
       "0         29891    203.494000         199.960   123.170275       439.98   \n",
       "1         30477    227.024000         229.990   124.933425       499.95   \n",
       "2         31426    391.399583         344.985   334.849322      1079.97   \n",
       "3         44491    128.725000          59.980   144.471912       344.97   \n",
       "4         44939    554.943333         554.940    49.985000       604.93   \n",
       "\n",
       "   revenue_min  revenue_count  positions_count_mean  positions_count_median  \\\n",
       "0         1.00             25              1.360000                     1.0   \n",
       "1        44.99             25              2.440000                     1.0   \n",
       "2         1.00             24              3.583333                     3.5   \n",
       "3        49.97              4              2.500000                     2.5   \n",
       "4       504.96              3              8.333333                     9.0   \n",
       "\n",
       "   positions_count_std  ...  hour_max  hour_min  has_ws_mean  \\\n",
       "0             0.860233  ...        19         0     1.000000   \n",
       "1             1.916594  ...        16         8     1.000000   \n",
       "2             1.909169  ...        22         9     0.000000   \n",
       "3             0.577350  ...        22        18     0.000000   \n",
       "4             1.154701  ...        22        11     0.333333   \n",
       "\n",
       "   is_food_court_mean  buy_post_first  date_diff_post_first  recency    T  \\\n",
       "0            0.000000               1                   9.0       57  239   \n",
       "1            0.000000               1                  10.0       51  301   \n",
       "2            1.000000               1                   4.0       50   81   \n",
       "3            0.250000               1                  42.0       27   52   \n",
       "4            0.666667               1                   9.0       15  234   \n",
       "\n",
       "   days_from_last_purchase    lambda  \n",
       "0                      181  0.431034  \n",
       "1                      249  0.480769  \n",
       "2                       31  0.470588  \n",
       "3                       24  0.142857  \n",
       "4                      219  0.187500  \n",
       "\n",
       "[5 rows x 38 columns]"
      ]
     },
     "execution_count": 7,
     "metadata": {},
     "output_type": "execute_result"
    }
   ],
   "source": [
    "data_train_val.head()"
   ]
  },
  {
   "cell_type": "code",
   "execution_count": 8,
   "metadata": {},
   "outputs": [],
   "source": [
    "data_test = preprocess(df_test)"
   ]
  },
  {
   "cell_type": "code",
   "execution_count": 9,
   "metadata": {},
   "outputs": [
    {
     "data": {
      "text/html": [
       "<div>\n",
       "<style scoped>\n",
       "    .dataframe tbody tr th:only-of-type {\n",
       "        vertical-align: middle;\n",
       "    }\n",
       "\n",
       "    .dataframe tbody tr th {\n",
       "        vertical-align: top;\n",
       "    }\n",
       "\n",
       "    .dataframe thead th {\n",
       "        text-align: right;\n",
       "    }\n",
       "</style>\n",
       "<table border=\"1\" class=\"dataframe\">\n",
       "  <thead>\n",
       "    <tr style=\"text-align: right;\">\n",
       "      <th></th>\n",
       "      <th>customer_id_</th>\n",
       "      <th>revenue_mean</th>\n",
       "      <th>revenue_median</th>\n",
       "      <th>revenue_std</th>\n",
       "      <th>revenue_max</th>\n",
       "      <th>revenue_min</th>\n",
       "      <th>revenue_count</th>\n",
       "      <th>positions_count_mean</th>\n",
       "      <th>positions_count_median</th>\n",
       "      <th>positions_count_std</th>\n",
       "      <th>...</th>\n",
       "      <th>hour_max</th>\n",
       "      <th>hour_min</th>\n",
       "      <th>has_ws_mean</th>\n",
       "      <th>is_food_court_mean</th>\n",
       "      <th>buy_post_first</th>\n",
       "      <th>date_diff_post_first</th>\n",
       "      <th>recency</th>\n",
       "      <th>T</th>\n",
       "      <th>days_from_last_purchase</th>\n",
       "      <th>lambda</th>\n",
       "    </tr>\n",
       "  </thead>\n",
       "  <tbody>\n",
       "    <tr>\n",
       "      <th>0</th>\n",
       "      <td>52341</td>\n",
       "      <td>563.942500</td>\n",
       "      <td>549.95</td>\n",
       "      <td>65.700330</td>\n",
       "      <td>655.93</td>\n",
       "      <td>499.94</td>\n",
       "      <td>4</td>\n",
       "      <td>7.000000</td>\n",
       "      <td>7.0</td>\n",
       "      <td>0.816497</td>\n",
       "      <td>...</td>\n",
       "      <td>14</td>\n",
       "      <td>13</td>\n",
       "      <td>1.000000</td>\n",
       "      <td>0.000000</td>\n",
       "      <td>0</td>\n",
       "      <td>0</td>\n",
       "      <td>32</td>\n",
       "      <td>178</td>\n",
       "      <td>146</td>\n",
       "      <td>0.121212</td>\n",
       "    </tr>\n",
       "    <tr>\n",
       "      <th>1</th>\n",
       "      <td>69175</td>\n",
       "      <td>430.306667</td>\n",
       "      <td>399.98</td>\n",
       "      <td>62.142941</td>\n",
       "      <td>554.96</td>\n",
       "      <td>374.98</td>\n",
       "      <td>9</td>\n",
       "      <td>5.444444</td>\n",
       "      <td>6.0</td>\n",
       "      <td>0.726483</td>\n",
       "      <td>...</td>\n",
       "      <td>21</td>\n",
       "      <td>8</td>\n",
       "      <td>1.000000</td>\n",
       "      <td>0.000000</td>\n",
       "      <td>0</td>\n",
       "      <td>0</td>\n",
       "      <td>34</td>\n",
       "      <td>40</td>\n",
       "      <td>5</td>\n",
       "      <td>0.257143</td>\n",
       "    </tr>\n",
       "    <tr>\n",
       "      <th>2</th>\n",
       "      <td>73427</td>\n",
       "      <td>254.240323</td>\n",
       "      <td>169.98</td>\n",
       "      <td>218.360745</td>\n",
       "      <td>869.95</td>\n",
       "      <td>1.00</td>\n",
       "      <td>31</td>\n",
       "      <td>2.064516</td>\n",
       "      <td>1.0</td>\n",
       "      <td>2.112431</td>\n",
       "      <td>...</td>\n",
       "      <td>23</td>\n",
       "      <td>0</td>\n",
       "      <td>0.935484</td>\n",
       "      <td>0.129032</td>\n",
       "      <td>0</td>\n",
       "      <td>0</td>\n",
       "      <td>58</td>\n",
       "      <td>212</td>\n",
       "      <td>153</td>\n",
       "      <td>0.525424</td>\n",
       "    </tr>\n",
       "    <tr>\n",
       "      <th>3</th>\n",
       "      <td>134577</td>\n",
       "      <td>372.970000</td>\n",
       "      <td>290.98</td>\n",
       "      <td>310.195853</td>\n",
       "      <td>799.93</td>\n",
       "      <td>109.99</td>\n",
       "      <td>4</td>\n",
       "      <td>3.000000</td>\n",
       "      <td>2.0</td>\n",
       "      <td>2.708013</td>\n",
       "      <td>...</td>\n",
       "      <td>20</td>\n",
       "      <td>16</td>\n",
       "      <td>0.000000</td>\n",
       "      <td>1.000000</td>\n",
       "      <td>0</td>\n",
       "      <td>0</td>\n",
       "      <td>5</td>\n",
       "      <td>316</td>\n",
       "      <td>310</td>\n",
       "      <td>0.666667</td>\n",
       "    </tr>\n",
       "    <tr>\n",
       "      <th>4</th>\n",
       "      <td>156357</td>\n",
       "      <td>558.963333</td>\n",
       "      <td>644.96</td>\n",
       "      <td>245.551523</td>\n",
       "      <td>749.95</td>\n",
       "      <td>281.98</td>\n",
       "      <td>3</td>\n",
       "      <td>4.333333</td>\n",
       "      <td>5.0</td>\n",
       "      <td>1.154701</td>\n",
       "      <td>...</td>\n",
       "      <td>17</td>\n",
       "      <td>10</td>\n",
       "      <td>1.000000</td>\n",
       "      <td>1.000000</td>\n",
       "      <td>0</td>\n",
       "      <td>0</td>\n",
       "      <td>43</td>\n",
       "      <td>227</td>\n",
       "      <td>184</td>\n",
       "      <td>0.068182</td>\n",
       "    </tr>\n",
       "  </tbody>\n",
       "</table>\n",
       "<p>5 rows × 38 columns</p>\n",
       "</div>"
      ],
      "text/plain": [
       "   customer_id_  revenue_mean  revenue_median  revenue_std  revenue_max  \\\n",
       "0         52341    563.942500          549.95    65.700330       655.93   \n",
       "1         69175    430.306667          399.98    62.142941       554.96   \n",
       "2         73427    254.240323          169.98   218.360745       869.95   \n",
       "3        134577    372.970000          290.98   310.195853       799.93   \n",
       "4        156357    558.963333          644.96   245.551523       749.95   \n",
       "\n",
       "   revenue_min  revenue_count  positions_count_mean  positions_count_median  \\\n",
       "0       499.94              4              7.000000                     7.0   \n",
       "1       374.98              9              5.444444                     6.0   \n",
       "2         1.00             31              2.064516                     1.0   \n",
       "3       109.99              4              3.000000                     2.0   \n",
       "4       281.98              3              4.333333                     5.0   \n",
       "\n",
       "   positions_count_std  ...  hour_max  hour_min  has_ws_mean  \\\n",
       "0             0.816497  ...        14        13     1.000000   \n",
       "1             0.726483  ...        21         8     1.000000   \n",
       "2             2.112431  ...        23         0     0.935484   \n",
       "3             2.708013  ...        20        16     0.000000   \n",
       "4             1.154701  ...        17        10     1.000000   \n",
       "\n",
       "   is_food_court_mean  buy_post_first  date_diff_post_first  recency    T  \\\n",
       "0            0.000000               0                     0       32  178   \n",
       "1            0.000000               0                     0       34   40   \n",
       "2            0.129032               0                     0       58  212   \n",
       "3            1.000000               0                     0        5  316   \n",
       "4            1.000000               0                     0       43  227   \n",
       "\n",
       "   days_from_last_purchase    lambda  \n",
       "0                      146  0.121212  \n",
       "1                        5  0.257143  \n",
       "2                      153  0.525424  \n",
       "3                      310  0.666667  \n",
       "4                      184  0.068182  \n",
       "\n",
       "[5 rows x 38 columns]"
      ]
     },
     "execution_count": 9,
     "metadata": {},
     "output_type": "execute_result"
    }
   ],
   "source": [
    "data_test.head()"
   ]
  },
  {
   "cell_type": "code",
   "execution_count": 10,
   "metadata": {},
   "outputs": [],
   "source": [
    "X_train_val = data_train_val.drop(['date_diff_post_first', 'buy_post_first', 'customer_id_'], axis=1)\n",
    "y_train_val_class = data_train_val['buy_post_first']\n",
    "y_train_val_reg = data_train_val['date_diff_post_first']\n",
    "\n",
    "X_test = data_test.drop(['date_diff_post_first', 'buy_post_first', 'customer_id_'], axis=1)"
   ]
  },
  {
   "cell_type": "code",
   "execution_count": 11,
   "metadata": {},
   "outputs": [],
   "source": [
    "X_train, X_val, y_train_class, y_val_class, y_train_reg, y_val_reg = train_test_split(X_train_val, y_train_val_class, y_train_val_reg, test_size=.2, random_state=69)"
   ]
  },
  {
   "attachments": {},
   "cell_type": "markdown",
   "metadata": {},
   "source": [
    "# LGBM"
   ]
  },
  {
   "cell_type": "code",
   "execution_count": 40,
   "metadata": {},
   "outputs": [
    {
     "name": "stdout",
     "output_type": "stream",
     "text": [
      "f1: 0.694 ± 0.017\n"
     ]
    }
   ],
   "source": [
    "model_class = LGBMClassifier(\n",
    "    n_estimators=1000, \n",
    "    reg_alpha=20, \n",
    "    max_depth=3, \n",
    "    importance_type='gain', \n",
    "    reg_lambda=20, \n",
    "    class_weight={0: 0.75, 1:0.25},\n",
    "    verbose=-1,\n",
    ")\n",
    "\n",
    "res = cross_val_score(model_class, X_train_val, y_train_val_class, scoring='f1')\n",
    "print(f'f1: {res.mean():.3f} ± {res.std():.3f}')"
   ]
  },
  {
   "cell_type": "code",
   "execution_count": null,
   "metadata": {},
   "outputs": [
    {
     "data": {
      "text/html": [
       "<style>#sk-container-id-1 {color: black;}#sk-container-id-1 pre{padding: 0;}#sk-container-id-1 div.sk-toggleable {background-color: white;}#sk-container-id-1 label.sk-toggleable__label {cursor: pointer;display: block;width: 100%;margin-bottom: 0;padding: 0.3em;box-sizing: border-box;text-align: center;}#sk-container-id-1 label.sk-toggleable__label-arrow:before {content: \"▸\";float: left;margin-right: 0.25em;color: #696969;}#sk-container-id-1 label.sk-toggleable__label-arrow:hover:before {color: black;}#sk-container-id-1 div.sk-estimator:hover label.sk-toggleable__label-arrow:before {color: black;}#sk-container-id-1 div.sk-toggleable__content {max-height: 0;max-width: 0;overflow: hidden;text-align: left;background-color: #f0f8ff;}#sk-container-id-1 div.sk-toggleable__content pre {margin: 0.2em;color: black;border-radius: 0.25em;background-color: #f0f8ff;}#sk-container-id-1 input.sk-toggleable__control:checked~div.sk-toggleable__content {max-height: 200px;max-width: 100%;overflow: auto;}#sk-container-id-1 input.sk-toggleable__control:checked~label.sk-toggleable__label-arrow:before {content: \"▾\";}#sk-container-id-1 div.sk-estimator input.sk-toggleable__control:checked~label.sk-toggleable__label {background-color: #d4ebff;}#sk-container-id-1 div.sk-label input.sk-toggleable__control:checked~label.sk-toggleable__label {background-color: #d4ebff;}#sk-container-id-1 input.sk-hidden--visually {border: 0;clip: rect(1px 1px 1px 1px);clip: rect(1px, 1px, 1px, 1px);height: 1px;margin: -1px;overflow: hidden;padding: 0;position: absolute;width: 1px;}#sk-container-id-1 div.sk-estimator {font-family: monospace;background-color: #f0f8ff;border: 1px dotted black;border-radius: 0.25em;box-sizing: border-box;margin-bottom: 0.5em;}#sk-container-id-1 div.sk-estimator:hover {background-color: #d4ebff;}#sk-container-id-1 div.sk-parallel-item::after {content: \"\";width: 100%;border-bottom: 1px solid gray;flex-grow: 1;}#sk-container-id-1 div.sk-label:hover label.sk-toggleable__label {background-color: #d4ebff;}#sk-container-id-1 div.sk-serial::before {content: \"\";position: absolute;border-left: 1px solid gray;box-sizing: border-box;top: 0;bottom: 0;left: 50%;z-index: 0;}#sk-container-id-1 div.sk-serial {display: flex;flex-direction: column;align-items: center;background-color: white;padding-right: 0.2em;padding-left: 0.2em;position: relative;}#sk-container-id-1 div.sk-item {position: relative;z-index: 1;}#sk-container-id-1 div.sk-parallel {display: flex;align-items: stretch;justify-content: center;background-color: white;position: relative;}#sk-container-id-1 div.sk-item::before, #sk-container-id-1 div.sk-parallel-item::before {content: \"\";position: absolute;border-left: 1px solid gray;box-sizing: border-box;top: 0;bottom: 0;left: 50%;z-index: -1;}#sk-container-id-1 div.sk-parallel-item {display: flex;flex-direction: column;z-index: 1;position: relative;background-color: white;}#sk-container-id-1 div.sk-parallel-item:first-child::after {align-self: flex-end;width: 50%;}#sk-container-id-1 div.sk-parallel-item:last-child::after {align-self: flex-start;width: 50%;}#sk-container-id-1 div.sk-parallel-item:only-child::after {width: 0;}#sk-container-id-1 div.sk-dashed-wrapped {border: 1px dashed gray;margin: 0 0.4em 0.5em 0.4em;box-sizing: border-box;padding-bottom: 0.4em;background-color: white;}#sk-container-id-1 div.sk-label label {font-family: monospace;font-weight: bold;display: inline-block;line-height: 1.2em;}#sk-container-id-1 div.sk-label-container {text-align: center;}#sk-container-id-1 div.sk-container {/* jupyter's `normalize.less` sets `[hidden] { display: none; }` but bootstrap.min.css set `[hidden] { display: none !important; }` so we also need the `!important` here to be able to override the default hidden behavior on the sphinx rendered scikit-learn.org. See: https://github.com/scikit-learn/scikit-learn/issues/21755 */display: inline-block !important;position: relative;}#sk-container-id-1 div.sk-text-repr-fallback {display: none;}</style><div id=\"sk-container-id-1\" class=\"sk-top-container\"><div class=\"sk-text-repr-fallback\"><pre>LGBMClassifier(class_weight={0: 0.7, 1: 0.3}, importance_type=&#x27;gain&#x27;,\n",
       "               max_depth=3, n_estimators=1000, reg_alpha=20, reg_lambda=20,\n",
       "               verbose=-1)</pre><b>In a Jupyter environment, please rerun this cell to show the HTML representation or trust the notebook. <br />On GitHub, the HTML representation is unable to render, please try loading this page with nbviewer.org.</b></div><div class=\"sk-container\" hidden><div class=\"sk-item\"><div class=\"sk-estimator sk-toggleable\"><input class=\"sk-toggleable__control sk-hidden--visually\" id=\"sk-estimator-id-1\" type=\"checkbox\" checked><label for=\"sk-estimator-id-1\" class=\"sk-toggleable__label sk-toggleable__label-arrow\">LGBMClassifier</label><div class=\"sk-toggleable__content\"><pre>LGBMClassifier(class_weight={0: 0.7, 1: 0.3}, importance_type=&#x27;gain&#x27;,\n",
       "               max_depth=3, n_estimators=1000, reg_alpha=20, reg_lambda=20,\n",
       "               verbose=-1)</pre></div></div></div></div></div>"
      ],
      "text/plain": [
       "LGBMClassifier(class_weight={0: 0.7, 1: 0.3}, importance_type='gain',\n",
       "               max_depth=3, n_estimators=1000, reg_alpha=20, reg_lambda=20,\n",
       "               verbose=-1)"
      ]
     },
     "execution_count": 13,
     "metadata": {},
     "output_type": "execute_result"
    }
   ],
   "source": [
    "model_class.fit(X_train_val, y_train_val_class)"
   ]
  },
  {
   "cell_type": "code",
   "execution_count": null,
   "metadata": {},
   "outputs": [],
   "source": [
    "fi = pd.Series(model_class.feature_importances_, index=X_train.columns).sort_values()"
   ]
  },
  {
   "cell_type": "code",
   "execution_count": null,
   "metadata": {},
   "outputs": [
    {
     "data": {
      "text/plain": [
       "<BarContainer object of 10 artists>"
      ]
     },
     "execution_count": 29,
     "metadata": {},
     "output_type": "execute_result"
    },
    {
     "data": {
      "image/png": "[encoded data removed]",
      "text/plain": [
       "<Figure size 900x600 with 1 Axes>"
      ]
     },
     "metadata": {},
     "output_type": "display_data"
    }
   ],
   "source": [
    "plt.figure(figsize=(9, 6))\n",
    "\n",
    "plt.barh(fi.index[-10:], fi.iloc[-10:], color='#502214') # "
   ]
  },
  {
   "cell_type": "code",
   "execution_count": null,
   "metadata": {},
   "outputs": [
    {
     "name": "stdout",
     "output_type": "stream",
     "text": [
      "RMSE: 16.673 ± 0.207\n"
     ]
    }
   ],
   "source": [
    "model_reg = LGBMRegressor(\n",
    "    n_estimators=1000, \n",
    "    reg_alpha=20, \n",
    "    max_depth=3, \n",
    "    importance_type='gain', \n",
    "    reg_lambda=20,\n",
    "    verbose=-1,\n",
    ")\n",
    "\n",
    "res = cross_val_score(model_reg, X_train_val, y_train_val_reg.fillna(0), scoring='neg_root_mean_squared_error')\n",
    "print(f'RMSE: {-res.mean():.3f} ± {res.std():.3f}')"
   ]
  },
  {
   "cell_type": "code",
   "execution_count": null,
   "metadata": {},
   "outputs": [
    {
     "data": {
      "text/html": [
       "<style>#sk-container-id-7 {color: black;}#sk-container-id-7 pre{padding: 0;}#sk-container-id-7 div.sk-toggleable {background-color: white;}#sk-container-id-7 label.sk-toggleable__label {cursor: pointer;display: block;width: 100%;margin-bottom: 0;padding: 0.3em;box-sizing: border-box;text-align: center;}#sk-container-id-7 label.sk-toggleable__label-arrow:before {content: \"▸\";float: left;margin-right: 0.25em;color: #696969;}#sk-container-id-7 label.sk-toggleable__label-arrow:hover:before {color: black;}#sk-container-id-7 div.sk-estimator:hover label.sk-toggleable__label-arrow:before {color: black;}#sk-container-id-7 div.sk-toggleable__content {max-height: 0;max-width: 0;overflow: hidden;text-align: left;background-color: #f0f8ff;}#sk-container-id-7 div.sk-toggleable__content pre {margin: 0.2em;color: black;border-radius: 0.25em;background-color: #f0f8ff;}#sk-container-id-7 input.sk-toggleable__control:checked~div.sk-toggleable__content {max-height: 200px;max-width: 100%;overflow: auto;}#sk-container-id-7 input.sk-toggleable__control:checked~label.sk-toggleable__label-arrow:before {content: \"▾\";}#sk-container-id-7 div.sk-estimator input.sk-toggleable__control:checked~label.sk-toggleable__label {background-color: #d4ebff;}#sk-container-id-7 div.sk-label input.sk-toggleable__control:checked~label.sk-toggleable__label {background-color: #d4ebff;}#sk-container-id-7 input.sk-hidden--visually {border: 0;clip: rect(1px 1px 1px 1px);clip: rect(1px, 1px, 1px, 1px);height: 1px;margin: -1px;overflow: hidden;padding: 0;position: absolute;width: 1px;}#sk-container-id-7 div.sk-estimator {font-family: monospace;background-color: #f0f8ff;border: 1px dotted black;border-radius: 0.25em;box-sizing: border-box;margin-bottom: 0.5em;}#sk-container-id-7 div.sk-estimator:hover {background-color: #d4ebff;}#sk-container-id-7 div.sk-parallel-item::after {content: \"\";width: 100%;border-bottom: 1px solid gray;flex-grow: 1;}#sk-container-id-7 div.sk-label:hover label.sk-toggleable__label {background-color: #d4ebff;}#sk-container-id-7 div.sk-serial::before {content: \"\";position: absolute;border-left: 1px solid gray;box-sizing: border-box;top: 0;bottom: 0;left: 50%;z-index: 0;}#sk-container-id-7 div.sk-serial {display: flex;flex-direction: column;align-items: center;background-color: white;padding-right: 0.2em;padding-left: 0.2em;position: relative;}#sk-container-id-7 div.sk-item {position: relative;z-index: 1;}#sk-container-id-7 div.sk-parallel {display: flex;align-items: stretch;justify-content: center;background-color: white;position: relative;}#sk-container-id-7 div.sk-item::before, #sk-container-id-7 div.sk-parallel-item::before {content: \"\";position: absolute;border-left: 1px solid gray;box-sizing: border-box;top: 0;bottom: 0;left: 50%;z-index: -1;}#sk-container-id-7 div.sk-parallel-item {display: flex;flex-direction: column;z-index: 1;position: relative;background-color: white;}#sk-container-id-7 div.sk-parallel-item:first-child::after {align-self: flex-end;width: 50%;}#sk-container-id-7 div.sk-parallel-item:last-child::after {align-self: flex-start;width: 50%;}#sk-container-id-7 div.sk-parallel-item:only-child::after {width: 0;}#sk-container-id-7 div.sk-dashed-wrapped {border: 1px dashed gray;margin: 0 0.4em 0.5em 0.4em;box-sizing: border-box;padding-bottom: 0.4em;background-color: white;}#sk-container-id-7 div.sk-label label {font-family: monospace;font-weight: bold;display: inline-block;line-height: 1.2em;}#sk-container-id-7 div.sk-label-container {text-align: center;}#sk-container-id-7 div.sk-container {/* jupyter's `normalize.less` sets `[hidden] { display: none; }` but bootstrap.min.css set `[hidden] { display: none !important; }` so we also need the `!important` here to be able to override the default hidden behavior on the sphinx rendered scikit-learn.org. See: https://github.com/scikit-learn/scikit-learn/issues/21755 */display: inline-block !important;position: relative;}#sk-container-id-7 div.sk-text-repr-fallback {display: none;}</style><div id=\"sk-container-id-7\" class=\"sk-top-container\"><div class=\"sk-text-repr-fallback\"><pre>LGBMRegressor(importance_type=&#x27;gain&#x27;, max_depth=3, n_estimators=1000,\n",
       "              reg_alpha=20, reg_lambda=20, verbose=-1)</pre><b>In a Jupyter environment, please rerun this cell to show the HTML representation or trust the notebook. <br />On GitHub, the HTML representation is unable to render, please try loading this page with nbviewer.org.</b></div><div class=\"sk-container\" hidden><div class=\"sk-item\"><div class=\"sk-estimator sk-toggleable\"><input class=\"sk-toggleable__control sk-hidden--visually\" id=\"sk-estimator-id-7\" type=\"checkbox\" checked><label for=\"sk-estimator-id-7\" class=\"sk-toggleable__label sk-toggleable__label-arrow\">LGBMRegressor</label><div class=\"sk-toggleable__content\"><pre>LGBMRegressor(importance_type=&#x27;gain&#x27;, max_depth=3, n_estimators=1000,\n",
       "              reg_alpha=20, reg_lambda=20, verbose=-1)</pre></div></div></div></div></div>"
      ],
      "text/plain": [
       "LGBMRegressor(importance_type='gain', max_depth=3, n_estimators=1000,\n",
       "              reg_alpha=20, reg_lambda=20, verbose=-1)"
      ]
     },
     "execution_count": 71,
     "metadata": {},
     "output_type": "execute_result"
    }
   ],
   "source": [
    "model_reg.fit(X_train_val, y_train_val_reg.fillna(0))"
   ]
  },
  {
   "cell_type": "code",
   "execution_count": null,
   "metadata": {},
   "outputs": [],
   "source": [
    "pred_class = model_class.predict(X_test)\n",
    "pred_reg = model_reg.predict(X_test)"
   ]
  },
  {
   "cell_type": "code",
   "execution_count": 38,
   "metadata": {},
   "outputs": [],
   "source": [
    "sub = pd.DataFrame()\n",
    "\n",
    "sub['customer_id'] = data_test['customer_id_']\n",
    "sub['date_diff_post'] = pred_reg\n",
    "sub['buy_post'] = pred_class"
   ]
  },
  {
   "cell_type": "code",
   "execution_count": 39,
   "metadata": {},
   "outputs": [],
   "source": [
    "sub.to_csv('lgbm_3.csv', sep=';', index=False)"
   ]
  },
  {
   "attachments": {},
   "cell_type": "markdown",
   "metadata": {},
   "source": [
    "# Logistic regression"
   ]
  },
  {
   "cell_type": "code",
   "execution_count": 80,
   "metadata": {},
   "outputs": [
    {
     "name": "stdout",
     "output_type": "stream",
     "text": [
      "ROC-AUC: 0.736 ± 0.001\n"
     ]
    }
   ],
   "source": [
    "model_class = Pipeline([('scaling', StandardScaler()), ('logreg', LogisticRegression(max_iter=1000, class_weight={0: 0.7, 1:0.3}))])\n",
    "\n",
    "res = cross_val_score(model_class, X_train_val, y_train_val_class, scoring='roc_auc')\n",
    "print(f'ROC-AUC: {res.mean():.3f} ± {res.std():.3f}')"
   ]
  },
  {
   "cell_type": "code",
   "execution_count": 81,
   "metadata": {},
   "outputs": [
    {
     "data": {
      "text/html": [
       "<style>#sk-container-id-10 {color: black;}#sk-container-id-10 pre{padding: 0;}#sk-container-id-10 div.sk-toggleable {background-color: white;}#sk-container-id-10 label.sk-toggleable__label {cursor: pointer;display: block;width: 100%;margin-bottom: 0;padding: 0.3em;box-sizing: border-box;text-align: center;}#sk-container-id-10 label.sk-toggleable__label-arrow:before {content: \"▸\";float: left;margin-right: 0.25em;color: #696969;}#sk-container-id-10 label.sk-toggleable__label-arrow:hover:before {color: black;}#sk-container-id-10 div.sk-estimator:hover label.sk-toggleable__label-arrow:before {color: black;}#sk-container-id-10 div.sk-toggleable__content {max-height: 0;max-width: 0;overflow: hidden;text-align: left;background-color: #f0f8ff;}#sk-container-id-10 div.sk-toggleable__content pre {margin: 0.2em;color: black;border-radius: 0.25em;background-color: #f0f8ff;}#sk-container-id-10 input.sk-toggleable__control:checked~div.sk-toggleable__content {max-height: 200px;max-width: 100%;overflow: auto;}#sk-container-id-10 input.sk-toggleable__control:checked~label.sk-toggleable__label-arrow:before {content: \"▾\";}#sk-container-id-10 div.sk-estimator input.sk-toggleable__control:checked~label.sk-toggleable__label {background-color: #d4ebff;}#sk-container-id-10 div.sk-label input.sk-toggleable__control:checked~label.sk-toggleable__label {background-color: #d4ebff;}#sk-container-id-10 input.sk-hidden--visually {border: 0;clip: rect(1px 1px 1px 1px);clip: rect(1px, 1px, 1px, 1px);height: 1px;margin: -1px;overflow: hidden;padding: 0;position: absolute;width: 1px;}#sk-container-id-10 div.sk-estimator {font-family: monospace;background-color: #f0f8ff;border: 1px dotted black;border-radius: 0.25em;box-sizing: border-box;margin-bottom: 0.5em;}#sk-container-id-10 div.sk-estimator:hover {background-color: #d4ebff;}#sk-container-id-10 div.sk-parallel-item::after {content: \"\";width: 100%;border-bottom: 1px solid gray;flex-grow: 1;}#sk-container-id-10 div.sk-label:hover label.sk-toggleable__label {background-color: #d4ebff;}#sk-container-id-10 div.sk-serial::before {content: \"\";position: absolute;border-left: 1px solid gray;box-sizing: border-box;top: 0;bottom: 0;left: 50%;z-index: 0;}#sk-container-id-10 div.sk-serial {display: flex;flex-direction: column;align-items: center;background-color: white;padding-right: 0.2em;padding-left: 0.2em;position: relative;}#sk-container-id-10 div.sk-item {position: relative;z-index: 1;}#sk-container-id-10 div.sk-parallel {display: flex;align-items: stretch;justify-content: center;background-color: white;position: relative;}#sk-container-id-10 div.sk-item::before, #sk-container-id-10 div.sk-parallel-item::before {content: \"\";position: absolute;border-left: 1px solid gray;box-sizing: border-box;top: 0;bottom: 0;left: 50%;z-index: -1;}#sk-container-id-10 div.sk-parallel-item {display: flex;flex-direction: column;z-index: 1;position: relative;background-color: white;}#sk-container-id-10 div.sk-parallel-item:first-child::after {align-self: flex-end;width: 50%;}#sk-container-id-10 div.sk-parallel-item:last-child::after {align-self: flex-start;width: 50%;}#sk-container-id-10 div.sk-parallel-item:only-child::after {width: 0;}#sk-container-id-10 div.sk-dashed-wrapped {border: 1px dashed gray;margin: 0 0.4em 0.5em 0.4em;box-sizing: border-box;padding-bottom: 0.4em;background-color: white;}#sk-container-id-10 div.sk-label label {font-family: monospace;font-weight: bold;display: inline-block;line-height: 1.2em;}#sk-container-id-10 div.sk-label-container {text-align: center;}#sk-container-id-10 div.sk-container {/* jupyter's `normalize.less` sets `[hidden] { display: none; }` but bootstrap.min.css set `[hidden] { display: none !important; }` so we also need the `!important` here to be able to override the default hidden behavior on the sphinx rendered scikit-learn.org. See: https://github.com/scikit-learn/scikit-learn/issues/21755 */display: inline-block !important;position: relative;}#sk-container-id-10 div.sk-text-repr-fallback {display: none;}</style><div id=\"sk-container-id-10\" class=\"sk-top-container\"><div class=\"sk-text-repr-fallback\"><pre>Pipeline(steps=[(&#x27;scaling&#x27;, StandardScaler()),\n",
       "                (&#x27;logreg&#x27;,\n",
       "                 LogisticRegression(class_weight={0: 0.7, 1: 0.3},\n",
       "                                    max_iter=1000))])</pre><b>In a Jupyter environment, please rerun this cell to show the HTML representation or trust the notebook. <br />On GitHub, the HTML representation is unable to render, please try loading this page with nbviewer.org.</b></div><div class=\"sk-container\" hidden><div class=\"sk-item sk-dashed-wrapped\"><div class=\"sk-label-container\"><div class=\"sk-label sk-toggleable\"><input class=\"sk-toggleable__control sk-hidden--visually\" id=\"sk-estimator-id-12\" type=\"checkbox\" ><label for=\"sk-estimator-id-12\" class=\"sk-toggleable__label sk-toggleable__label-arrow\">Pipeline</label><div class=\"sk-toggleable__content\"><pre>Pipeline(steps=[(&#x27;scaling&#x27;, StandardScaler()),\n",
       "                (&#x27;logreg&#x27;,\n",
       "                 LogisticRegression(class_weight={0: 0.7, 1: 0.3},\n",
       "                                    max_iter=1000))])</pre></div></div></div><div class=\"sk-serial\"><div class=\"sk-item\"><div class=\"sk-estimator sk-toggleable\"><input class=\"sk-toggleable__control sk-hidden--visually\" id=\"sk-estimator-id-13\" type=\"checkbox\" ><label for=\"sk-estimator-id-13\" class=\"sk-toggleable__label sk-toggleable__label-arrow\">StandardScaler</label><div class=\"sk-toggleable__content\"><pre>StandardScaler()</pre></div></div></div><div class=\"sk-item\"><div class=\"sk-estimator sk-toggleable\"><input class=\"sk-toggleable__control sk-hidden--visually\" id=\"sk-estimator-id-14\" type=\"checkbox\" ><label for=\"sk-estimator-id-14\" class=\"sk-toggleable__label sk-toggleable__label-arrow\">LogisticRegression</label><div class=\"sk-toggleable__content\"><pre>LogisticRegression(class_weight={0: 0.7, 1: 0.3}, max_iter=1000)</pre></div></div></div></div></div></div></div>"
      ],
      "text/plain": [
       "Pipeline(steps=[('scaling', StandardScaler()),\n",
       "                ('logreg',\n",
       "                 LogisticRegression(class_weight={0: 0.7, 1: 0.3},\n",
       "                                    max_iter=1000))])"
      ]
     },
     "execution_count": 81,
     "metadata": {},
     "output_type": "execute_result"
    }
   ],
   "source": [
    "model_class.fit(X_train_val, y_train_val_class)"
   ]
  },
  {
   "cell_type": "code",
   "execution_count": 82,
   "metadata": {},
   "outputs": [
    {
     "data": {
      "text/plain": [
       "<Axes: >"
      ]
     },
     "execution_count": 82,
     "metadata": {},
     "output_type": "execute_result"
    },
    {
     "data": {
      "image/png": "[encoded data removed]",
      "text/plain": [
       "<Figure size 640x480 with 1 Axes>"
      ]
     },
     "metadata": {},
     "output_type": "display_data"
    }
   ],
   "source": [
    "pd.Series(model_class.named_steps['logreg'].coef_[0], index=X_train_val.columns).sort_values().plot(kind='barh')"
   ]
  },
  {
   "cell_type": "code",
   "execution_count": 83,
   "metadata": {},
   "outputs": [],
   "source": [
    "pred_class = model_class.predict(X_test)"
   ]
  },
  {
   "cell_type": "code",
   "execution_count": 84,
   "metadata": {},
   "outputs": [],
   "source": [
    "sub = pd.DataFrame()\n",
    "\n",
    "sub['customer_id'] = data_test['customer_id_']\n",
    "sub['date_diff_post'] = pred_reg\n",
    "sub['buy_post'] = pred_class"
   ]
  },
  {
   "cell_type": "code",
   "execution_count": 85,
   "metadata": {},
   "outputs": [],
   "source": [
    "sub.to_csv('logistic.csv', sep=';', index=False)"
   ]
  },
  {
   "cell_type": "code",
   "execution_count": 88,
   "metadata": {},
   "outputs": [
    {
     "data": {
      "text/plain": [
       "customer_id       0\n",
       "date_diff_post    0\n",
       "buy_post          0\n",
       "dtype: int64"
      ]
     },
     "execution_count": 88,
     "metadata": {},
     "output_type": "execute_result"
    }
   ],
   "source": [
    "sub.isna().sum()"
   ]
  },
  {
   "attachments": {},
   "cell_type": "markdown",
   "metadata": {},
   "source": [
    "# Ensemble"
   ]
  },
  {
   "cell_type": "code",
   "execution_count": 41,
   "metadata": {},
   "outputs": [],
   "source": [
    "estimators = [\n",
    "    (\n",
    "        'lgbm1', \n",
    "        LGBMClassifier(\n",
    "            n_estimators=1000, \n",
    "            reg_alpha=20, \n",
    "            max_depth=3, \n",
    "            importance_type='gain', \n",
    "            reg_lambda=20, \n",
    "            class_weight={0: 0.7, 1:0.3},\n",
    "            verbose=-1,\n",
    "        ),\n",
    "    ),\n",
    "    (\n",
    "        'lgbm2', \n",
    "        LGBMClassifier(\n",
    "            n_estimators=500, \n",
    "            reg_alpha=20, \n",
    "            max_depth=3, \n",
    "            importance_type='gain', \n",
    "            reg_lambda=10, \n",
    "            class_weight={0: 0.7, 1:0.3},\n",
    "            verbose=-1,\n",
    "        ),\n",
    "    ),\n",
    "    (\n",
    "        'lgbm3', \n",
    "        LGBMClassifier(\n",
    "            n_estimators=1000, \n",
    "            reg_alpha=20, \n",
    "            max_depth=4, \n",
    "            importance_type='gain', \n",
    "            reg_lambda=10, \n",
    "            class_weight={0: 0.7, 1:0.3},\n",
    "            verbose=-1,\n",
    "        ),\n",
    "    ),\n",
    "    (\n",
    "        'lgbm4',\n",
    "        LGBMClassifier(\n",
    "            n_estimators=1000,\n",
    "            max_depth=5,\n",
    "            reg_lambda=20, \n",
    "            class_weight={0: 0.7, 1:0.3},\n",
    "            verbose=-1\n",
    "        ),\n",
    "    ),\n",
    "    (\n",
    "        'lgbm5',\n",
    "        LGBMClassifier(\n",
    "            n_estimators=500,\n",
    "            max_depth=5,\n",
    "            reg_lambda=20, \n",
    "            class_weight={0: 0.7, 1:0.3},\n",
    "            verbose=-1\n",
    "        ),\n",
    "    )\n",
    "]"
   ]
  },
  {
   "cell_type": "code",
   "execution_count": 42,
   "metadata": {},
   "outputs": [
    {
     "data": {
      "text/html": [
       "<style>#sk-container-id-4 {color: black;background-color: white;}#sk-container-id-4 pre{padding: 0;}#sk-container-id-4 div.sk-toggleable {background-color: white;}#sk-container-id-4 label.sk-toggleable__label {cursor: pointer;display: block;width: 100%;margin-bottom: 0;padding: 0.3em;box-sizing: border-box;text-align: center;}#sk-container-id-4 label.sk-toggleable__label-arrow:before {content: \"▸\";float: left;margin-right: 0.25em;color: #696969;}#sk-container-id-4 label.sk-toggleable__label-arrow:hover:before {color: black;}#sk-container-id-4 div.sk-estimator:hover label.sk-toggleable__label-arrow:before {color: black;}#sk-container-id-4 div.sk-toggleable__content {max-height: 0;max-width: 0;overflow: hidden;text-align: left;background-color: #f0f8ff;}#sk-container-id-4 div.sk-toggleable__content pre {margin: 0.2em;color: black;border-radius: 0.25em;background-color: #f0f8ff;}#sk-container-id-4 input.sk-toggleable__control:checked~div.sk-toggleable__content {max-height: 200px;max-width: 100%;overflow: auto;}#sk-container-id-4 input.sk-toggleable__control:checked~label.sk-toggleable__label-arrow:before {content: \"▾\";}#sk-container-id-4 div.sk-estimator input.sk-toggleable__control:checked~label.sk-toggleable__label {background-color: #d4ebff;}#sk-container-id-4 div.sk-label input.sk-toggleable__control:checked~label.sk-toggleable__label {background-color: #d4ebff;}#sk-container-id-4 input.sk-hidden--visually {border: 0;clip: rect(1px 1px 1px 1px);clip: rect(1px, 1px, 1px, 1px);height: 1px;margin: -1px;overflow: hidden;padding: 0;position: absolute;width: 1px;}#sk-container-id-4 div.sk-estimator {font-family: monospace;background-color: #f0f8ff;border: 1px dotted black;border-radius: 0.25em;box-sizing: border-box;margin-bottom: 0.5em;}#sk-container-id-4 div.sk-estimator:hover {background-color: #d4ebff;}#sk-container-id-4 div.sk-parallel-item::after {content: \"\";width: 100%;border-bottom: 1px solid gray;flex-grow: 1;}#sk-container-id-4 div.sk-label:hover label.sk-toggleable__label {background-color: #d4ebff;}#sk-container-id-4 div.sk-serial::before {content: \"\";position: absolute;border-left: 1px solid gray;box-sizing: border-box;top: 0;bottom: 0;left: 50%;z-index: 0;}#sk-container-id-4 div.sk-serial {display: flex;flex-direction: column;align-items: center;background-color: white;padding-right: 0.2em;padding-left: 0.2em;position: relative;}#sk-container-id-4 div.sk-item {position: relative;z-index: 1;}#sk-container-id-4 div.sk-parallel {display: flex;align-items: stretch;justify-content: center;background-color: white;position: relative;}#sk-container-id-4 div.sk-item::before, #sk-container-id-4 div.sk-parallel-item::before {content: \"\";position: absolute;border-left: 1px solid gray;box-sizing: border-box;top: 0;bottom: 0;left: 50%;z-index: -1;}#sk-container-id-4 div.sk-parallel-item {display: flex;flex-direction: column;z-index: 1;position: relative;background-color: white;}#sk-container-id-4 div.sk-parallel-item:first-child::after {align-self: flex-end;width: 50%;}#sk-container-id-4 div.sk-parallel-item:last-child::after {align-self: flex-start;width: 50%;}#sk-container-id-4 div.sk-parallel-item:only-child::after {width: 0;}#sk-container-id-4 div.sk-dashed-wrapped {border: 1px dashed gray;margin: 0 0.4em 0.5em 0.4em;box-sizing: border-box;padding-bottom: 0.4em;background-color: white;}#sk-container-id-4 div.sk-label label {font-family: monospace;font-weight: bold;display: inline-block;line-height: 1.2em;}#sk-container-id-4 div.sk-label-container {text-align: center;}#sk-container-id-4 div.sk-container {/* jupyter's `normalize.less` sets `[hidden] { display: none; }` but bootstrap.min.css set `[hidden] { display: none !important; }` so we also need the `!important` here to be able to override the default hidden behavior on the sphinx rendered scikit-learn.org. See: https://github.com/scikit-learn/scikit-learn/issues/21755 */display: inline-block !important;position: relative;}#sk-container-id-4 div.sk-text-repr-fallback {display: none;}</style><div id=\"sk-container-id-4\" class=\"sk-top-container\"><div class=\"sk-text-repr-fallback\"><pre>StackingClassifier(estimators=[(&#x27;lgbm1&#x27;,\n",
       "                                LGBMClassifier(class_weight={0: 0.7, 1: 0.3},\n",
       "                                               importance_type=&#x27;gain&#x27;,\n",
       "                                               max_depth=3, n_estimators=1000,\n",
       "                                               reg_alpha=20, reg_lambda=20,\n",
       "                                               verbose=-1)),\n",
       "                               (&#x27;lgbm2&#x27;,\n",
       "                                LGBMClassifier(class_weight={0: 0.7, 1: 0.3},\n",
       "                                               importance_type=&#x27;gain&#x27;,\n",
       "                                               max_depth=3, n_estimators=500,\n",
       "                                               reg_alpha=20, reg_lambda=10,\n",
       "                                               verbose=-1)),\n",
       "                               (&#x27;lgbm3&#x27;,\n",
       "                                LGBMClassifier(class_we...\n",
       "                                               reg_alpha=20, reg_lambda=10,\n",
       "                                               verbose=-1)),\n",
       "                               (&#x27;lgbm4&#x27;,\n",
       "                                LGBMClassifier(class_weight={0: 0.7, 1: 0.3},\n",
       "                                               max_depth=5, n_estimators=1000,\n",
       "                                               reg_lambda=20, verbose=-1)),\n",
       "                               (&#x27;lgbm5&#x27;,\n",
       "                                LGBMClassifier(class_weight={0: 0.7, 1: 0.3},\n",
       "                                               max_depth=5, n_estimators=500,\n",
       "                                               reg_lambda=20, verbose=-1))],\n",
       "                   final_estimator=LGBMClassifier(class_weight={0: 0.7, 1: 0.3},\n",
       "                                                  max_depth=3, reg_lambda=20,\n",
       "                                                  verbose=-1))</pre><b>In a Jupyter environment, please rerun this cell to show the HTML representation or trust the notebook. <br />On GitHub, the HTML representation is unable to render, please try loading this page with nbviewer.org.</b></div><div class=\"sk-container\" hidden><div class=\"sk-item sk-dashed-wrapped\"><div class=\"sk-label-container\"><div class=\"sk-label sk-toggleable\"><input class=\"sk-toggleable__control sk-hidden--visually\" id=\"sk-estimator-id-22\" type=\"checkbox\" ><label for=\"sk-estimator-id-22\" class=\"sk-toggleable__label sk-toggleable__label-arrow\">StackingClassifier</label><div class=\"sk-toggleable__content\"><pre>StackingClassifier(estimators=[(&#x27;lgbm1&#x27;,\n",
       "                                LGBMClassifier(class_weight={0: 0.7, 1: 0.3},\n",
       "                                               importance_type=&#x27;gain&#x27;,\n",
       "                                               max_depth=3, n_estimators=1000,\n",
       "                                               reg_alpha=20, reg_lambda=20,\n",
       "                                               verbose=-1)),\n",
       "                               (&#x27;lgbm2&#x27;,\n",
       "                                LGBMClassifier(class_weight={0: 0.7, 1: 0.3},\n",
       "                                               importance_type=&#x27;gain&#x27;,\n",
       "                                               max_depth=3, n_estimators=500,\n",
       "                                               reg_alpha=20, reg_lambda=10,\n",
       "                                               verbose=-1)),\n",
       "                               (&#x27;lgbm3&#x27;,\n",
       "                                LGBMClassifier(class_we...\n",
       "                                               reg_alpha=20, reg_lambda=10,\n",
       "                                               verbose=-1)),\n",
       "                               (&#x27;lgbm4&#x27;,\n",
       "                                LGBMClassifier(class_weight={0: 0.7, 1: 0.3},\n",
       "                                               max_depth=5, n_estimators=1000,\n",
       "                                               reg_lambda=20, verbose=-1)),\n",
       "                               (&#x27;lgbm5&#x27;,\n",
       "                                LGBMClassifier(class_weight={0: 0.7, 1: 0.3},\n",
       "                                               max_depth=5, n_estimators=500,\n",
       "                                               reg_lambda=20, verbose=-1))],\n",
       "                   final_estimator=LGBMClassifier(class_weight={0: 0.7, 1: 0.3},\n",
       "                                                  max_depth=3, reg_lambda=20,\n",
       "                                                  verbose=-1))</pre></div></div></div><div class=\"sk-serial\"><div class=\"sk-item\"><div class=\"sk-parallel\"><div class=\"sk-parallel-item\"><div class=\"sk-item\"><div class=\"sk-label-container\"><div class=\"sk-label sk-toggleable\"><label>lgbm1</label></div></div><div class=\"sk-serial\"><div class=\"sk-item\"><div class=\"sk-estimator sk-toggleable\"><input class=\"sk-toggleable__control sk-hidden--visually\" id=\"sk-estimator-id-23\" type=\"checkbox\" ><label for=\"sk-estimator-id-23\" class=\"sk-toggleable__label sk-toggleable__label-arrow\">LGBMClassifier</label><div class=\"sk-toggleable__content\"><pre>LGBMClassifier(class_weight={0: 0.7, 1: 0.3}, importance_type=&#x27;gain&#x27;,\n",
       "               max_depth=3, n_estimators=1000, reg_alpha=20, reg_lambda=20,\n",
       "               verbose=-1)</pre></div></div></div></div></div></div><div class=\"sk-parallel-item\"><div class=\"sk-item\"><div class=\"sk-label-container\"><div class=\"sk-label sk-toggleable\"><label>lgbm2</label></div></div><div class=\"sk-serial\"><div class=\"sk-item\"><div class=\"sk-estimator sk-toggleable\"><input class=\"sk-toggleable__control sk-hidden--visually\" id=\"sk-estimator-id-24\" type=\"checkbox\" ><label for=\"sk-estimator-id-24\" class=\"sk-toggleable__label sk-toggleable__label-arrow\">LGBMClassifier</label><div class=\"sk-toggleable__content\"><pre>LGBMClassifier(class_weight={0: 0.7, 1: 0.3}, importance_type=&#x27;gain&#x27;,\n",
       "               max_depth=3, n_estimators=500, reg_alpha=20, reg_lambda=10,\n",
       "               verbose=-1)</pre></div></div></div></div></div></div><div class=\"sk-parallel-item\"><div class=\"sk-item\"><div class=\"sk-label-container\"><div class=\"sk-label sk-toggleable\"><label>lgbm3</label></div></div><div class=\"sk-serial\"><div class=\"sk-item\"><div class=\"sk-estimator sk-toggleable\"><input class=\"sk-toggleable__control sk-hidden--visually\" id=\"sk-estimator-id-25\" type=\"checkbox\" ><label for=\"sk-estimator-id-25\" class=\"sk-toggleable__label sk-toggleable__label-arrow\">LGBMClassifier</label><div class=\"sk-toggleable__content\"><pre>LGBMClassifier(class_weight={0: 0.7, 1: 0.3}, importance_type=&#x27;gain&#x27;,\n",
       "               max_depth=4, n_estimators=1000, reg_alpha=20, reg_lambda=10,\n",
       "               verbose=-1)</pre></div></div></div></div></div></div><div class=\"sk-parallel-item\"><div class=\"sk-item\"><div class=\"sk-label-container\"><div class=\"sk-label sk-toggleable\"><label>lgbm4</label></div></div><div class=\"sk-serial\"><div class=\"sk-item\"><div class=\"sk-estimator sk-toggleable\"><input class=\"sk-toggleable__control sk-hidden--visually\" id=\"sk-estimator-id-26\" type=\"checkbox\" ><label for=\"sk-estimator-id-26\" class=\"sk-toggleable__label sk-toggleable__label-arrow\">LGBMClassifier</label><div class=\"sk-toggleable__content\"><pre>LGBMClassifier(class_weight={0: 0.7, 1: 0.3}, max_depth=5, n_estimators=1000,\n",
       "               reg_lambda=20, verbose=-1)</pre></div></div></div></div></div></div><div class=\"sk-parallel-item\"><div class=\"sk-item\"><div class=\"sk-label-container\"><div class=\"sk-label sk-toggleable\"><label>lgbm5</label></div></div><div class=\"sk-serial\"><div class=\"sk-item\"><div class=\"sk-estimator sk-toggleable\"><input class=\"sk-toggleable__control sk-hidden--visually\" id=\"sk-estimator-id-27\" type=\"checkbox\" ><label for=\"sk-estimator-id-27\" class=\"sk-toggleable__label sk-toggleable__label-arrow\">LGBMClassifier</label><div class=\"sk-toggleable__content\"><pre>LGBMClassifier(class_weight={0: 0.7, 1: 0.3}, max_depth=5, n_estimators=500,\n",
       "               reg_lambda=20, verbose=-1)</pre></div></div></div></div></div></div></div></div><div class=\"sk-item\"><div class=\"sk-parallel\"><div class=\"sk-parallel-item\"><div class=\"sk-item\"><div class=\"sk-label-container\"><div class=\"sk-label sk-toggleable\"><label>final_estimator</label></div></div><div class=\"sk-serial\"><div class=\"sk-item\"><div class=\"sk-estimator sk-toggleable\"><input class=\"sk-toggleable__control sk-hidden--visually\" id=\"sk-estimator-id-28\" type=\"checkbox\" ><label for=\"sk-estimator-id-28\" class=\"sk-toggleable__label sk-toggleable__label-arrow\">LGBMClassifier</label><div class=\"sk-toggleable__content\"><pre>LGBMClassifier(class_weight={0: 0.7, 1: 0.3}, max_depth=3, reg_lambda=20,\n",
       "               verbose=-1)</pre></div></div></div></div></div></div></div></div></div></div></div></div>"
      ],
      "text/plain": [
       "StackingClassifier(estimators=[('lgbm1',\n",
       "                                LGBMClassifier(class_weight={0: 0.7, 1: 0.3},\n",
       "                                               importance_type='gain',\n",
       "                                               max_depth=3, n_estimators=1000,\n",
       "                                               reg_alpha=20, reg_lambda=20,\n",
       "                                               verbose=-1)),\n",
       "                               ('lgbm2',\n",
       "                                LGBMClassifier(class_weight={0: 0.7, 1: 0.3},\n",
       "                                               importance_type='gain',\n",
       "                                               max_depth=3, n_estimators=500,\n",
       "                                               reg_alpha=20, reg_lambda=10,\n",
       "                                               verbose=-1)),\n",
       "                               ('lgbm3',\n",
       "                                LGBMClassifier(class_we...\n",
       "                                               reg_alpha=20, reg_lambda=10,\n",
       "                                               verbose=-1)),\n",
       "                               ('lgbm4',\n",
       "                                LGBMClassifier(class_weight={0: 0.7, 1: 0.3},\n",
       "                                               max_depth=5, n_estimators=1000,\n",
       "                                               reg_lambda=20, verbose=-1)),\n",
       "                               ('lgbm5',\n",
       "                                LGBMClassifier(class_weight={0: 0.7, 1: 0.3},\n",
       "                                               max_depth=5, n_estimators=500,\n",
       "                                               reg_lambda=20, verbose=-1))],\n",
       "                   final_estimator=LGBMClassifier(class_weight={0: 0.7, 1: 0.3},\n",
       "                                                  max_depth=3, reg_lambda=20,\n",
       "                                                  verbose=-1))"
      ]
     },
     "execution_count": 42,
     "metadata": {},
     "output_type": "execute_result"
    }
   ],
   "source": [
    "stack_model = StackingClassifier(\n",
    "    estimators,\n",
    "    LGBMClassifier(\n",
    "        n_estimators=100,\n",
    "        max_depth=3,\n",
    "        reg_lambda=20, \n",
    "        class_weight={0: 0.7, 1:0.3},\n",
    "        verbose=-1\n",
    "    ),\n",
    ")\n",
    "\n",
    "stack_model.fit(X_train, y_train_class)"
   ]
  },
  {
   "cell_type": "code",
   "execution_count": 16,
   "metadata": {},
   "outputs": [
    {
     "data": {
      "text/plain": [
       "0.7518152703806135"
      ]
     },
     "execution_count": 16,
     "metadata": {},
     "output_type": "execute_result"
    }
   ],
   "source": [
    "roc_auc_score(y_val_class, stack_model.predict_proba(X_val)[:, 1])"
   ]
  },
  {
   "cell_type": "code",
   "execution_count": 44,
   "metadata": {},
   "outputs": [
    {
     "data": {
      "text/plain": [
       "0.7506196938712276"
      ]
     },
     "execution_count": 44,
     "metadata": {},
     "output_type": "execute_result"
    }
   ],
   "source": [
    "f1_score(y_val_class, stack_model.predict(X_val))"
   ]
  },
  {
   "cell_type": "code",
   "execution_count": 45,
   "metadata": {},
   "outputs": [
    {
     "data": {
      "text/plain": [
       "0.7554322412906606"
      ]
     },
     "execution_count": 45,
     "metadata": {},
     "output_type": "execute_result"
    }
   ],
   "source": [
    "f1_score(y_train_class, stack_model.predict(X_train))"
   ]
  },
  {
   "cell_type": "code",
   "execution_count": 26,
   "metadata": {},
   "outputs": [
    {
     "data": {
      "image/png": "[encoded data removed]",
      "text/plain": [
       "<Figure size 640x480 with 1 Axes>"
      ]
     },
     "metadata": {},
     "output_type": "display_data"
    }
   ],
   "source": [
    "import numpy as np\n",
    "from sklearn import metrics\n",
    "fpr, tpr, thresholds = metrics.roc_curve(y_val_class, stack_model.predict_proba(X_val)[:, 1])\n",
    "auc = roc_auc_score(y_val_class, stack_model.predict_proba(X_val)[:, 1])\n",
    "\n",
    "#create ROC curve\n",
    "plt.plot(fpr,tpr,label=\"AUC=\"+str(round(auc, 3))+' for ensemble', c='brown')\n",
    "plt.ylabel('True Positive Rate')\n",
    "plt.xlabel('False Positive Rate')\n",
    "plt.legend(loc=4)\n",
    "plt.show()"
   ]
  },
  {
   "cell_type": "code",
   "execution_count": 34,
   "metadata": {},
   "outputs": [],
   "source": [
    "pred_class = stack_model.predict(X_test)"
   ]
  },
  {
   "cell_type": "markdown",
   "metadata": {},
   "source": [
    "# Regressor"
   ]
  },
  {
   "cell_type": "code",
   "execution_count": 46,
   "metadata": {},
   "outputs": [],
   "source": [
    "estimators = [\n",
    "    (\n",
    "        'lgbm1', \n",
    "        LGBMRegressor(\n",
    "            n_estimators=1000, \n",
    "            reg_alpha=20, \n",
    "            max_depth=3, \n",
    "            importance_type='gain', \n",
    "            reg_lambda=20, \n",
    "            # class_weight={0: 0.7, 1:0.3},\n",
    "            verbose=-1,\n",
    "        ),\n",
    "    ),\n",
    "    (\n",
    "        'lgbm2', \n",
    "        LGBMRegressor(\n",
    "            n_estimators=500, \n",
    "            reg_alpha=20, \n",
    "            max_depth=3, \n",
    "            importance_type='gain', \n",
    "            reg_lambda=10, \n",
    "            # class_weight={0: 0.7, 1:0.3},\n",
    "            verbose=-1,\n",
    "        ),\n",
    "    ),\n",
    "    (\n",
    "        'lgbm3', \n",
    "        LGBMRegressor(\n",
    "            n_estimators=1000, \n",
    "            reg_alpha=20, \n",
    "            max_depth=4, \n",
    "            importance_type='gain', \n",
    "            reg_lambda=10, \n",
    "            # class_weight={0: 0.7, 1:0.3},\n",
    "            verbose=-1,\n",
    "        ),\n",
    "    ),\n",
    "    (\n",
    "        'lgbm4',\n",
    "        LGBMRegressor(\n",
    "            n_estimators=1000,\n",
    "            max_depth=5,\n",
    "            reg_lambda=20, \n",
    "            # class_weight={0: 0.7, 1:0.3},\n",
    "            verbose=-1\n",
    "        ),\n",
    "    ),\n",
    "    (\n",
    "        'lgbm5',\n",
    "        LGBMRegressor(\n",
    "            n_estimators=500,\n",
    "            max_depth=5,\n",
    "            reg_lambda=20, \n",
    "            # class_weight={0: 0.7, 1:0.3},\n",
    "            verbose=-1\n",
    "        ),\n",
    "    )\n",
    "]"
   ]
  },
  {
   "cell_type": "code",
   "execution_count": 49,
   "metadata": {},
   "outputs": [
    {
     "data": {
      "text/html": [
       "<style>#sk-container-id-5 {color: black;background-color: white;}#sk-container-id-5 pre{padding: 0;}#sk-container-id-5 div.sk-toggleable {background-color: white;}#sk-container-id-5 label.sk-toggleable__label {cursor: pointer;display: block;width: 100%;margin-bottom: 0;padding: 0.3em;box-sizing: border-box;text-align: center;}#sk-container-id-5 label.sk-toggleable__label-arrow:before {content: \"▸\";float: left;margin-right: 0.25em;color: #696969;}#sk-container-id-5 label.sk-toggleable__label-arrow:hover:before {color: black;}#sk-container-id-5 div.sk-estimator:hover label.sk-toggleable__label-arrow:before {color: black;}#sk-container-id-5 div.sk-toggleable__content {max-height: 0;max-width: 0;overflow: hidden;text-align: left;background-color: #f0f8ff;}#sk-container-id-5 div.sk-toggleable__content pre {margin: 0.2em;color: black;border-radius: 0.25em;background-color: #f0f8ff;}#sk-container-id-5 input.sk-toggleable__control:checked~div.sk-toggleable__content {max-height: 200px;max-width: 100%;overflow: auto;}#sk-container-id-5 input.sk-toggleable__control:checked~label.sk-toggleable__label-arrow:before {content: \"▾\";}#sk-container-id-5 div.sk-estimator input.sk-toggleable__control:checked~label.sk-toggleable__label {background-color: #d4ebff;}#sk-container-id-5 div.sk-label input.sk-toggleable__control:checked~label.sk-toggleable__label {background-color: #d4ebff;}#sk-container-id-5 input.sk-hidden--visually {border: 0;clip: rect(1px 1px 1px 1px);clip: rect(1px, 1px, 1px, 1px);height: 1px;margin: -1px;overflow: hidden;padding: 0;position: absolute;width: 1px;}#sk-container-id-5 div.sk-estimator {font-family: monospace;background-color: #f0f8ff;border: 1px dotted black;border-radius: 0.25em;box-sizing: border-box;margin-bottom: 0.5em;}#sk-container-id-5 div.sk-estimator:hover {background-color: #d4ebff;}#sk-container-id-5 div.sk-parallel-item::after {content: \"\";width: 100%;border-bottom: 1px solid gray;flex-grow: 1;}#sk-container-id-5 div.sk-label:hover label.sk-toggleable__label {background-color: #d4ebff;}#sk-container-id-5 div.sk-serial::before {content: \"\";position: absolute;border-left: 1px solid gray;box-sizing: border-box;top: 0;bottom: 0;left: 50%;z-index: 0;}#sk-container-id-5 div.sk-serial {display: flex;flex-direction: column;align-items: center;background-color: white;padding-right: 0.2em;padding-left: 0.2em;position: relative;}#sk-container-id-5 div.sk-item {position: relative;z-index: 1;}#sk-container-id-5 div.sk-parallel {display: flex;align-items: stretch;justify-content: center;background-color: white;position: relative;}#sk-container-id-5 div.sk-item::before, #sk-container-id-5 div.sk-parallel-item::before {content: \"\";position: absolute;border-left: 1px solid gray;box-sizing: border-box;top: 0;bottom: 0;left: 50%;z-index: -1;}#sk-container-id-5 div.sk-parallel-item {display: flex;flex-direction: column;z-index: 1;position: relative;background-color: white;}#sk-container-id-5 div.sk-parallel-item:first-child::after {align-self: flex-end;width: 50%;}#sk-container-id-5 div.sk-parallel-item:last-child::after {align-self: flex-start;width: 50%;}#sk-container-id-5 div.sk-parallel-item:only-child::after {width: 0;}#sk-container-id-5 div.sk-dashed-wrapped {border: 1px dashed gray;margin: 0 0.4em 0.5em 0.4em;box-sizing: border-box;padding-bottom: 0.4em;background-color: white;}#sk-container-id-5 div.sk-label label {font-family: monospace;font-weight: bold;display: inline-block;line-height: 1.2em;}#sk-container-id-5 div.sk-label-container {text-align: center;}#sk-container-id-5 div.sk-container {/* jupyter's `normalize.less` sets `[hidden] { display: none; }` but bootstrap.min.css set `[hidden] { display: none !important; }` so we also need the `!important` here to be able to override the default hidden behavior on the sphinx rendered scikit-learn.org. See: https://github.com/scikit-learn/scikit-learn/issues/21755 */display: inline-block !important;position: relative;}#sk-container-id-5 div.sk-text-repr-fallback {display: none;}</style><div id=\"sk-container-id-5\" class=\"sk-top-container\"><div class=\"sk-text-repr-fallback\"><pre>StackingRegressor(estimators=[(&#x27;lgbm1&#x27;,\n",
       "                               LGBMRegressor(importance_type=&#x27;gain&#x27;,\n",
       "                                             max_depth=3, n_estimators=1000,\n",
       "                                             reg_alpha=20, reg_lambda=20,\n",
       "                                             verbose=-1)),\n",
       "                              (&#x27;lgbm2&#x27;,\n",
       "                               LGBMRegressor(importance_type=&#x27;gain&#x27;,\n",
       "                                             max_depth=3, n_estimators=500,\n",
       "                                             reg_alpha=20, reg_lambda=10,\n",
       "                                             verbose=-1)),\n",
       "                              (&#x27;lgbm3&#x27;,\n",
       "                               LGBMRegressor(importance_type=&#x27;gain&#x27;,\n",
       "                                             max_depth=4, n_estimators=1000,\n",
       "                                             reg_alpha=20, reg_lambda=10,\n",
       "                                             verbose=-1)),\n",
       "                              (&#x27;lgbm4&#x27;,\n",
       "                               LGBMRegressor(max_depth=5, n_estimators=1000,\n",
       "                                             reg_lambda=20, verbose=-1)),\n",
       "                              (&#x27;lgbm5&#x27;,\n",
       "                               LGBMRegressor(max_depth=5, n_estimators=500,\n",
       "                                             reg_lambda=20, verbose=-1))],\n",
       "                  final_estimator=LGBMRegressor(max_depth=3, reg_lambda=20,\n",
       "                                                verbose=-1))</pre><b>In a Jupyter environment, please rerun this cell to show the HTML representation or trust the notebook. <br />On GitHub, the HTML representation is unable to render, please try loading this page with nbviewer.org.</b></div><div class=\"sk-container\" hidden><div class=\"sk-item sk-dashed-wrapped\"><div class=\"sk-label-container\"><div class=\"sk-label sk-toggleable\"><input class=\"sk-toggleable__control sk-hidden--visually\" id=\"sk-estimator-id-29\" type=\"checkbox\" ><label for=\"sk-estimator-id-29\" class=\"sk-toggleable__label sk-toggleable__label-arrow\">StackingRegressor</label><div class=\"sk-toggleable__content\"><pre>StackingRegressor(estimators=[(&#x27;lgbm1&#x27;,\n",
       "                               LGBMRegressor(importance_type=&#x27;gain&#x27;,\n",
       "                                             max_depth=3, n_estimators=1000,\n",
       "                                             reg_alpha=20, reg_lambda=20,\n",
       "                                             verbose=-1)),\n",
       "                              (&#x27;lgbm2&#x27;,\n",
       "                               LGBMRegressor(importance_type=&#x27;gain&#x27;,\n",
       "                                             max_depth=3, n_estimators=500,\n",
       "                                             reg_alpha=20, reg_lambda=10,\n",
       "                                             verbose=-1)),\n",
       "                              (&#x27;lgbm3&#x27;,\n",
       "                               LGBMRegressor(importance_type=&#x27;gain&#x27;,\n",
       "                                             max_depth=4, n_estimators=1000,\n",
       "                                             reg_alpha=20, reg_lambda=10,\n",
       "                                             verbose=-1)),\n",
       "                              (&#x27;lgbm4&#x27;,\n",
       "                               LGBMRegressor(max_depth=5, n_estimators=1000,\n",
       "                                             reg_lambda=20, verbose=-1)),\n",
       "                              (&#x27;lgbm5&#x27;,\n",
       "                               LGBMRegressor(max_depth=5, n_estimators=500,\n",
       "                                             reg_lambda=20, verbose=-1))],\n",
       "                  final_estimator=LGBMRegressor(max_depth=3, reg_lambda=20,\n",
       "                                                verbose=-1))</pre></div></div></div><div class=\"sk-serial\"><div class=\"sk-item\"><div class=\"sk-parallel\"><div class=\"sk-parallel-item\"><div class=\"sk-item\"><div class=\"sk-label-container\"><div class=\"sk-label sk-toggleable\"><label>lgbm1</label></div></div><div class=\"sk-serial\"><div class=\"sk-item\"><div class=\"sk-estimator sk-toggleable\"><input class=\"sk-toggleable__control sk-hidden--visually\" id=\"sk-estimator-id-30\" type=\"checkbox\" ><label for=\"sk-estimator-id-30\" class=\"sk-toggleable__label sk-toggleable__label-arrow\">LGBMRegressor</label><div class=\"sk-toggleable__content\"><pre>LGBMRegressor(importance_type=&#x27;gain&#x27;, max_depth=3, n_estimators=1000,\n",
       "              reg_alpha=20, reg_lambda=20, verbose=-1)</pre></div></div></div></div></div></div><div class=\"sk-parallel-item\"><div class=\"sk-item\"><div class=\"sk-label-container\"><div class=\"sk-label sk-toggleable\"><label>lgbm2</label></div></div><div class=\"sk-serial\"><div class=\"sk-item\"><div class=\"sk-estimator sk-toggleable\"><input class=\"sk-toggleable__control sk-hidden--visually\" id=\"sk-estimator-id-31\" type=\"checkbox\" ><label for=\"sk-estimator-id-31\" class=\"sk-toggleable__label sk-toggleable__label-arrow\">LGBMRegressor</label><div class=\"sk-toggleable__content\"><pre>LGBMRegressor(importance_type=&#x27;gain&#x27;, max_depth=3, n_estimators=500,\n",
       "              reg_alpha=20, reg_lambda=10, verbose=-1)</pre></div></div></div></div></div></div><div class=\"sk-parallel-item\"><div class=\"sk-item\"><div class=\"sk-label-container\"><div class=\"sk-label sk-toggleable\"><label>lgbm3</label></div></div><div class=\"sk-serial\"><div class=\"sk-item\"><div class=\"sk-estimator sk-toggleable\"><input class=\"sk-toggleable__control sk-hidden--visually\" id=\"sk-estimator-id-32\" type=\"checkbox\" ><label for=\"sk-estimator-id-32\" class=\"sk-toggleable__label sk-toggleable__label-arrow\">LGBMRegressor</label><div class=\"sk-toggleable__content\"><pre>LGBMRegressor(importance_type=&#x27;gain&#x27;, max_depth=4, n_estimators=1000,\n",
       "              reg_alpha=20, reg_lambda=10, verbose=-1)</pre></div></div></div></div></div></div><div class=\"sk-parallel-item\"><div class=\"sk-item\"><div class=\"sk-label-container\"><div class=\"sk-label sk-toggleable\"><label>lgbm4</label></div></div><div class=\"sk-serial\"><div class=\"sk-item\"><div class=\"sk-estimator sk-toggleable\"><input class=\"sk-toggleable__control sk-hidden--visually\" id=\"sk-estimator-id-33\" type=\"checkbox\" ><label for=\"sk-estimator-id-33\" class=\"sk-toggleable__label sk-toggleable__label-arrow\">LGBMRegressor</label><div class=\"sk-toggleable__content\"><pre>LGBMRegressor(max_depth=5, n_estimators=1000, reg_lambda=20, verbose=-1)</pre></div></div></div></div></div></div><div class=\"sk-parallel-item\"><div class=\"sk-item\"><div class=\"sk-label-container\"><div class=\"sk-label sk-toggleable\"><label>lgbm5</label></div></div><div class=\"sk-serial\"><div class=\"sk-item\"><div class=\"sk-estimator sk-toggleable\"><input class=\"sk-toggleable__control sk-hidden--visually\" id=\"sk-estimator-id-34\" type=\"checkbox\" ><label for=\"sk-estimator-id-34\" class=\"sk-toggleable__label sk-toggleable__label-arrow\">LGBMRegressor</label><div class=\"sk-toggleable__content\"><pre>LGBMRegressor(max_depth=5, n_estimators=500, reg_lambda=20, verbose=-1)</pre></div></div></div></div></div></div></div></div><div class=\"sk-item\"><div class=\"sk-parallel\"><div class=\"sk-parallel-item\"><div class=\"sk-item\"><div class=\"sk-label-container\"><div class=\"sk-label sk-toggleable\"><label>final_estimator</label></div></div><div class=\"sk-serial\"><div class=\"sk-item\"><div class=\"sk-estimator sk-toggleable\"><input class=\"sk-toggleable__control sk-hidden--visually\" id=\"sk-estimator-id-35\" type=\"checkbox\" ><label for=\"sk-estimator-id-35\" class=\"sk-toggleable__label sk-toggleable__label-arrow\">LGBMRegressor</label><div class=\"sk-toggleable__content\"><pre>LGBMRegressor(max_depth=3, reg_lambda=20, verbose=-1)</pre></div></div></div></div></div></div></div></div></div></div></div></div>"
      ],
      "text/plain": [
       "StackingRegressor(estimators=[('lgbm1',\n",
       "                               LGBMRegressor(importance_type='gain',\n",
       "                                             max_depth=3, n_estimators=1000,\n",
       "                                             reg_alpha=20, reg_lambda=20,\n",
       "                                             verbose=-1)),\n",
       "                              ('lgbm2',\n",
       "                               LGBMRegressor(importance_type='gain',\n",
       "                                             max_depth=3, n_estimators=500,\n",
       "                                             reg_alpha=20, reg_lambda=10,\n",
       "                                             verbose=-1)),\n",
       "                              ('lgbm3',\n",
       "                               LGBMRegressor(importance_type='gain',\n",
       "                                             max_depth=4, n_estimators=1000,\n",
       "                                             reg_alpha=20, reg_lambda=10,\n",
       "                                             verbose=-1)),\n",
       "                              ('lgbm4',\n",
       "                               LGBMRegressor(max_depth=5, n_estimators=1000,\n",
       "                                             reg_lambda=20, verbose=-1)),\n",
       "                              ('lgbm5',\n",
       "                               LGBMRegressor(max_depth=5, n_estimators=500,\n",
       "                                             reg_lambda=20, verbose=-1))],\n",
       "                  final_estimator=LGBMRegressor(max_depth=3, reg_lambda=20,\n",
       "                                                verbose=-1))"
      ]
     },
     "execution_count": 49,
     "metadata": {},
     "output_type": "execute_result"
    }
   ],
   "source": [
    "from sklearn.ensemble import StackingRegressor\n",
    "stack_model = StackingRegressor(\n",
    "    estimators,\n",
    "    LGBMRegressor(\n",
    "        n_estimators=100,\n",
    "        max_depth=3,\n",
    "        reg_lambda=20, \n",
    "        # class_weight={0: 0.7, 1:0.3},\n",
    "        verbose=-1\n",
    "    ),\n",
    ")\n",
    "\n",
    "stack_model.fit(X_train, y_train_reg.fillna(0))"
   ]
  },
  {
   "cell_type": "code",
   "execution_count": 52,
   "metadata": {},
   "outputs": [
    {
     "data": {
      "text/plain": [
       "16.642235368154747"
      ]
     },
     "execution_count": 52,
     "metadata": {},
     "output_type": "execute_result"
    }
   ],
   "source": [
    "mean_squared_error(y_val_reg.fillna(0), stack_model.predict(X_val), squared=False)"
   ]
  },
  {
   "cell_type": "code",
   "execution_count": 53,
   "metadata": {},
   "outputs": [
    {
     "data": {
      "text/plain": [
       "16.48287847968275"
      ]
     },
     "execution_count": 53,
     "metadata": {},
     "output_type": "execute_result"
    }
   ],
   "source": [
    "mean_squared_error(y_train_reg.fillna(0), stack_model.predict(X_train), squared= False)"
   ]
  },
  {
   "cell_type": "code",
   "execution_count": 54,
   "metadata": {},
   "outputs": [],
   "source": [
    "pred_reg = stack_model.predict(X_test)"
   ]
  },
  {
   "cell_type": "code",
   "execution_count": 69,
   "metadata": {},
   "outputs": [],
   "source": [
    "sub = pd.DataFrame()\n",
    "\n",
    "sub['customer_id'] = data_test['customer_id_']\n",
    "sub['date_diff_post'] = pred_reg\n",
    "sub['buy_post'] = pred_class"
   ]
  },
  {
   "cell_type": "code",
   "execution_count": 72,
   "metadata": {},
   "outputs": [],
   "source": [
    "sub.to_csv('stacking6.csv', sep=';', index=False)"
   ]
  },
  {
   "cell_type": "code",
   "execution_count": 73,
   "metadata": {},
   "outputs": [
    {
     "data": {
      "text/plain": [
       "customer_id       2.074861e+07\n",
       "date_diff_post    1.755663e+01\n",
       "buy_post          4.913205e-01\n",
       "dtype: float64"
      ]
     },
     "execution_count": 73,
     "metadata": {},
     "output_type": "execute_result"
    }
   ],
   "source": [
    "sub.mean()"
   ]
  }
 ],
 "metadata": {
  "kernelspec": {
   "display_name": "env",
   "language": "python",
   "name": "python3"
  },
  "language_info": {
   "codemirror_mode": {
    "name": "ipython",
    "version": 3
   },
   "file_extension": ".py",
   "mimetype": "text/x-python",
   "name": "python",
   "nbconvert_exporter": "python",
   "pygments_lexer": "ipython3",
   "version": "3.9.16"
  },
  "orig_nbformat": 4,
  "vscode": {
   "interpreter": {
    "hash": "1d85f8d091281e8cdbbabc30d35abdaebd4eb091dd84d434d9fa6db6a3942f76"
   }
  }
 },
 "nbformat": 4,
 "nbformat_minor": 2
}
