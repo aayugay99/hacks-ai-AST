{
 "cells": [
  {
   "cell_type": "code",
   "execution_count": 1,
   "metadata": {},
   "outputs": [],
   "source": [
    "import numpy as np\n",
    "import pandas as pd\n",
    "import matplotlib.pyplot as plt\n",
    "\n",
    "from sklearn.metrics import roc_auc_score, f1_score, mean_squared_error\n",
    "from sklearn.model_selection import cross_val_score, train_test_split\n",
    "from sklearn.preprocessing import OneHotEncoder\n",
    "\n",
    "from sklearn.linear_model import LogisticRegression, LinearRegression\n",
    "from lightgbm import LGBMClassifier, LGBMRegressor"
   ]
  },
  {
   "cell_type": "code",
   "execution_count": 2,
   "metadata": {},
   "outputs": [],
   "source": [
    "df_train = pd.read_parquet('train_dataset_hackaton2023_train.gzip')\n",
    "df_test = pd.read_parquet('hackaton2023_test.gzip')\n",
    "mapping = pd.read_csv('mapping.csv', index_col=0)\n",
    "df_train['dish_cat'] = df_train.dish_name.map(mapping.to_dict()['dish_category'])\n",
    "df_test['dish_cat'] = df_test.dish_name.map(mapping.to_dict()['dish_category'])\n",
    "df_test['date_diff_post'] = 0\n",
    "df_test['buy_post'] = 0"
   ]
  },
  {
   "cell_type": "code",
   "execution_count": 3,
   "metadata": {},
   "outputs": [],
   "source": [
    "def preprocess(df):\n",
    "    # df = df.drop_duplicates()\n",
    "    df['discounts'] = df['revenue'] ==1\n",
    "\n",
    "    data_check_agg = df.groupby(['customer_id', 'startdatetime']).agg({\n",
    "        'revenue': 'sum', \n",
    "        'buy_post': 'first',\n",
    "        'date_diff_post': 'first',\n",
    "        'ownareaall_sqm': 'first',\n",
    "        'format_name': 'first',\n",
    "        'discounts': 'sum'\n",
    "    }).reset_index()\n",
    "\n",
    "    data_check_agg['delta'] = data_check_agg.groupby('customer_id')['startdatetime'].diff() \n",
    "    data_check_agg['delta_hours'] = (data_check_agg['delta'].dt.total_seconds() // (60*60)).fillna(0)\n",
    "    data_check_agg['delta_days'] = (data_check_agg['delta'].dt.total_seconds() // (24*60*60)).fillna(0)\n",
    "\n",
    "    data_check_agg = data_check_agg.drop('delta', axis=1)\n",
    "\n",
    "    data_cust_agg = data_check_agg.groupby('customer_id').agg({\n",
    "        'revenue': ['mean', 'median', 'std', 'max', 'min', 'count'],\n",
    "        'delta_hours': ['mean', 'median', 'std', 'max', 'min',], \n",
    "        'delta_days': ['mean', 'median', 'std', 'max', 'min',], \n",
    "        'startdatetime': ['min', 'max'],\n",
    "        'ownareaall_sqm': ['mean', 'median', 'std', 'max', 'min',],\n",
    "        'discounts': ['mean', 'median', 'std', 'max', 'min',],\n",
    "        'buy_post': 'first',\n",
    "        'date_diff_post': 'first',\n",
    "        'format_name': [pd.Series.mode, 'last']\n",
    "    }).reset_index()\n",
    "\n",
    "    data_cust_agg.columns = [f'{header}_{stat}' for header, stat in data_cust_agg.columns]\n",
    "\n",
    "    data_cust_agg['recency'] = (data_cust_agg['startdatetime_max'] - data_cust_agg['startdatetime_min']).dt.days\n",
    "    data_cust_agg['T'] = (pd.to_datetime('2023-08-02') - data_cust_agg['startdatetime_min']).dt.days\n",
    "    data_cust_agg['days_from_last_purchase'] = (pd.to_datetime('2023-08-02') - data_cust_agg['startdatetime_max']).dt.days\n",
    "    data_cust_agg['lambda'] = data_cust_agg['revenue_count'] / (data_cust_agg['recency'] + 1)\n",
    "    data_cust_agg['format_name_mode'] = data_cust_agg['format_name_mode'].apply(lambda x: x[0] if type(x)==np.ndarray else x).astype('category')\n",
    "    data_cust_agg['dish_cat_mode'] = df.groupby('customer_id')['dish_cat'].agg(pd.Series.mode).apply(lambda x: x[0] if type(x)==np.ndarray else x).astype('category').reset_index()['dish_cat']\n",
    "    data_cust_agg['format_name_last'] = data_cust_agg['format_name_last'].astype('category')\n",
    "    data_cust_agg = data_cust_agg.drop(['startdatetime_min', 'startdatetime_max'], axis=1)\n",
    "    \n",
    "    return data_cust_agg"
   ]
  },
  {
   "cell_type": "code",
   "execution_count": 4,
   "metadata": {},
   "outputs": [],
   "source": [
    "data_train = preprocess(df_train)"
   ]
  },
  {
   "cell_type": "code",
   "execution_count": 5,
   "metadata": {},
   "outputs": [],
   "source": [
    "data_test = preprocess(df_test)"
   ]
  },
  {
   "cell_type": "code",
   "execution_count": 16,
   "metadata": {},
   "outputs": [
    {
     "data": {
      "text/html": [
       "<div>\n",
       "<style scoped>\n",
       "    .dataframe tbody tr th:only-of-type {\n",
       "        vertical-align: middle;\n",
       "    }\n",
       "\n",
       "    .dataframe tbody tr th {\n",
       "        vertical-align: top;\n",
       "    }\n",
       "\n",
       "    .dataframe thead th {\n",
       "        text-align: right;\n",
       "    }\n",
       "</style>\n",
       "<table border=\"1\" class=\"dataframe\">\n",
       "  <thead>\n",
       "    <tr style=\"text-align: right;\">\n",
       "      <th></th>\n",
       "      <th>customer_id_</th>\n",
       "      <th>revenue_mean</th>\n",
       "      <th>revenue_median</th>\n",
       "      <th>revenue_std</th>\n",
       "      <th>revenue_max</th>\n",
       "      <th>revenue_min</th>\n",
       "      <th>revenue_count</th>\n",
       "      <th>delta_hours_mean</th>\n",
       "      <th>delta_hours_median</th>\n",
       "      <th>delta_hours_std</th>\n",
       "      <th>...</th>\n",
       "      <th>ownareaall_sqm_median</th>\n",
       "      <th>ownareaall_sqm_std</th>\n",
       "      <th>ownareaall_sqm_max</th>\n",
       "      <th>ownareaall_sqm_min</th>\n",
       "      <th>buy_post_first</th>\n",
       "      <th>date_diff_post_first</th>\n",
       "      <th>recency</th>\n",
       "      <th>T</th>\n",
       "      <th>days_from_last_purchase</th>\n",
       "      <th>lambda</th>\n",
       "    </tr>\n",
       "  </thead>\n",
       "  <tbody>\n",
       "    <tr>\n",
       "      <th>0</th>\n",
       "      <td>52341</td>\n",
       "      <td>563.942500</td>\n",
       "      <td>549.95</td>\n",
       "      <td>65.700330</td>\n",
       "      <td>655.93</td>\n",
       "      <td>499.94</td>\n",
       "      <td>4</td>\n",
       "      <td>192.000000</td>\n",
       "      <td>168.0</td>\n",
       "      <td>178.529176</td>\n",
       "      <td>...</td>\n",
       "      <td>338.9</td>\n",
       "      <td>0.000000</td>\n",
       "      <td>338.90</td>\n",
       "      <td>338.9</td>\n",
       "      <td>0</td>\n",
       "      <td>0</td>\n",
       "      <td>32</td>\n",
       "      <td>178</td>\n",
       "      <td>146</td>\n",
       "      <td>0.121212</td>\n",
       "    </tr>\n",
       "    <tr>\n",
       "      <th>1</th>\n",
       "      <td>69175</td>\n",
       "      <td>430.306667</td>\n",
       "      <td>399.98</td>\n",
       "      <td>62.142941</td>\n",
       "      <td>554.96</td>\n",
       "      <td>374.98</td>\n",
       "      <td>9</td>\n",
       "      <td>92.777778</td>\n",
       "      <td>24.0</td>\n",
       "      <td>131.890843</td>\n",
       "      <td>...</td>\n",
       "      <td>263.0</td>\n",
       "      <td>15.742220</td>\n",
       "      <td>263.00</td>\n",
       "      <td>227.3</td>\n",
       "      <td>0</td>\n",
       "      <td>0</td>\n",
       "      <td>34</td>\n",
       "      <td>40</td>\n",
       "      <td>5</td>\n",
       "      <td>0.257143</td>\n",
       "    </tr>\n",
       "    <tr>\n",
       "      <th>2</th>\n",
       "      <td>73427</td>\n",
       "      <td>254.240323</td>\n",
       "      <td>169.98</td>\n",
       "      <td>218.360745</td>\n",
       "      <td>869.95</td>\n",
       "      <td>1.00</td>\n",
       "      <td>31</td>\n",
       "      <td>45.096774</td>\n",
       "      <td>45.0</td>\n",
       "      <td>43.356164</td>\n",
       "      <td>...</td>\n",
       "      <td>144.6</td>\n",
       "      <td>85.578977</td>\n",
       "      <td>435.43</td>\n",
       "      <td>100.0</td>\n",
       "      <td>0</td>\n",
       "      <td>0</td>\n",
       "      <td>58</td>\n",
       "      <td>212</td>\n",
       "      <td>153</td>\n",
       "      <td>0.525424</td>\n",
       "    </tr>\n",
       "    <tr>\n",
       "      <th>3</th>\n",
       "      <td>134577</td>\n",
       "      <td>372.970000</td>\n",
       "      <td>290.98</td>\n",
       "      <td>310.195853</td>\n",
       "      <td>799.93</td>\n",
       "      <td>109.99</td>\n",
       "      <td>4</td>\n",
       "      <td>35.000000</td>\n",
       "      <td>0.0</td>\n",
       "      <td>70.000000</td>\n",
       "      <td>...</td>\n",
       "      <td>207.6</td>\n",
       "      <td>0.000000</td>\n",
       "      <td>207.60</td>\n",
       "      <td>207.6</td>\n",
       "      <td>0</td>\n",
       "      <td>0</td>\n",
       "      <td>5</td>\n",
       "      <td>316</td>\n",
       "      <td>310</td>\n",
       "      <td>0.666667</td>\n",
       "    </tr>\n",
       "    <tr>\n",
       "      <th>4</th>\n",
       "      <td>156357</td>\n",
       "      <td>558.963333</td>\n",
       "      <td>644.96</td>\n",
       "      <td>245.551523</td>\n",
       "      <td>749.95</td>\n",
       "      <td>281.98</td>\n",
       "      <td>3</td>\n",
       "      <td>344.000000</td>\n",
       "      <td>138.0</td>\n",
       "      <td>481.285778</td>\n",
       "      <td>...</td>\n",
       "      <td>124.0</td>\n",
       "      <td>7.586383</td>\n",
       "      <td>137.14</td>\n",
       "      <td>124.0</td>\n",
       "      <td>0</td>\n",
       "      <td>0</td>\n",
       "      <td>43</td>\n",
       "      <td>227</td>\n",
       "      <td>184</td>\n",
       "      <td>0.068182</td>\n",
       "    </tr>\n",
       "  </tbody>\n",
       "</table>\n",
       "<p>5 rows × 28 columns</p>\n",
       "</div>"
      ],
      "text/plain": [
       "   customer_id_  revenue_mean  revenue_median  revenue_std  revenue_max  \\\n",
       "0         52341    563.942500          549.95    65.700330       655.93   \n",
       "1         69175    430.306667          399.98    62.142941       554.96   \n",
       "2         73427    254.240323          169.98   218.360745       869.95   \n",
       "3        134577    372.970000          290.98   310.195853       799.93   \n",
       "4        156357    558.963333          644.96   245.551523       749.95   \n",
       "\n",
       "   revenue_min  revenue_count  delta_hours_mean  delta_hours_median  \\\n",
       "0       499.94              4        192.000000               168.0   \n",
       "1       374.98              9         92.777778                24.0   \n",
       "2         1.00             31         45.096774                45.0   \n",
       "3       109.99              4         35.000000                 0.0   \n",
       "4       281.98              3        344.000000               138.0   \n",
       "\n",
       "   delta_hours_std  ...  ownareaall_sqm_median  ownareaall_sqm_std  \\\n",
       "0       178.529176  ...                  338.9            0.000000   \n",
       "1       131.890843  ...                  263.0           15.742220   \n",
       "2        43.356164  ...                  144.6           85.578977   \n",
       "3        70.000000  ...                  207.6            0.000000   \n",
       "4       481.285778  ...                  124.0            7.586383   \n",
       "\n",
       "   ownareaall_sqm_max  ownareaall_sqm_min  buy_post_first  \\\n",
       "0              338.90               338.9               0   \n",
       "1              263.00               227.3               0   \n",
       "2              435.43               100.0               0   \n",
       "3              207.60               207.6               0   \n",
       "4              137.14               124.0               0   \n",
       "\n",
       "   date_diff_post_first  recency    T  days_from_last_purchase    lambda  \n",
       "0                     0       32  178                      146  0.121212  \n",
       "1                     0       34   40                        5  0.257143  \n",
       "2                     0       58  212                      153  0.525424  \n",
       "3                     0        5  316                      310  0.666667  \n",
       "4                     0       43  227                      184  0.068182  \n",
       "\n",
       "[5 rows x 28 columns]"
      ]
     },
     "execution_count": 16,
     "metadata": {},
     "output_type": "execute_result"
    }
   ],
   "source": [
    "data_test.head()"
   ]
  },
  {
   "cell_type": "code",
   "execution_count": 6,
   "metadata": {},
   "outputs": [],
   "source": [
    "X_train = data_train.drop(['date_diff_post_first', 'buy_post_first', 'customer_id_'], axis=1)\n",
    "y_train_class = data_train['buy_post_first']\n",
    "y_train_reg = data_train['date_diff_post_first']\n",
    "\n",
    "# X_valid = data_valid.drop(['date_diff_post_first', 'buy_post_first', 'customer_id_', 'startdatetime_min', 'startdatetime_max'], axis=1)\n",
    "# y_valid_class = data_valid['buy_post_first']\n",
    "# y_valid_reg = data_valid['date_diff_post_first']\n",
    "\n",
    "X_test = data_test.drop(['date_diff_post_first', 'buy_post_first', 'customer_id_'], axis=1)"
   ]
  },
  {
   "cell_type": "code",
   "execution_count": 35,
   "metadata": {},
   "outputs": [],
   "source": [
    "# from imblearn.over_sampling import SMOTENC\n",
    "# sm = SMOTENC(random_state=2, sampling_strategy={0: 1436380, 1: 359095}, categorical_features='auto')\n",
    "# X_res, y_res = sm.fit_resample(X_train, y_train_class)\n",
    "# sum(y_res)/len(y_res)"
   ]
  },
  {
   "cell_type": "code",
   "execution_count": 14,
   "metadata": {},
   "outputs": [],
   "source": [
    "from catboost import CatBoostClassifier\n",
    "from sklearn.metrics import f1_score\n",
    "from sklearn.metrics import roc_auc_score\n",
    "model = CatBoostClassifier(iterations=5000,\n",
    "                        depth=6,\n",
    "                        l2_leaf_reg = 3,\n",
    "                        leaf_estimation_iterations = 10,\n",
    "                        task_type=\"GPU\",\n",
    "                        verbose=False,\n",
    "                        cat_features=[26, 27, 32],\n",
    "                        class_weights = [0.7, 0.3]\n",
    "                        )"
   ]
  },
  {
   "cell_type": "code",
   "execution_count": 166,
   "metadata": {},
   "outputs": [
    {
     "name": "stdout",
     "output_type": "stream",
     "text": [
      "ROC-AUC: 0.750 ± 0.001\n"
     ]
    }
   ],
   "source": [
    "# model = LGBMClassifier(verbose=-1, n_estimators = 500)\n",
    "# model = LogisticRegression()\n",
    "\n",
    "res = cross_val_score(model, X_train, y_train_class, scoring='roc_auc')\n",
    "print(f'ROC-AUC: {res.mean():.3f} ± {res.std():.3f}')"
   ]
  },
  {
   "cell_type": "code",
   "execution_count": 15,
   "metadata": {},
   "outputs": [
    {
     "data": {
      "text/plain": [
       "<catboost.core.CatBoostClassifier at 0x7fc9e4ddddf0>"
      ]
     },
     "execution_count": 15,
     "metadata": {},
     "output_type": "execute_result"
    }
   ],
   "source": [
    "model.fit(X_train, y_train_class)"
   ]
  },
  {
   "cell_type": "code",
   "execution_count": 93,
   "metadata": {},
   "outputs": [
    {
     "name": "stdout",
     "output_type": "stream",
     "text": [
      "f1-score: 0.841 ± 0.001\n"
     ]
    }
   ],
   "source": [
    "res = cross_val_score(model, X_train, y_train_class, scoring='f1')\n",
    "print(f'f1-score: {res.mean():.3f} ± {res.std():.3f}')"
   ]
  },
  {
   "cell_type": "code",
   "execution_count": 138,
   "metadata": {},
   "outputs": [
    {
     "name": "stdout",
     "output_type": "stream",
     "text": [
      "RMSE: 16.686 ± 0.207\n"
     ]
    }
   ],
   "source": [
    "# model = LGBMRegressor(verbose=-1)\n",
    "# # model = LinearRegression()\n",
    "\n",
    "# res = cross_val_score(model, X_train, y_train_reg.fillna(0), scoring='neg_root_mean_squared_error')\n",
    "# print(f'RMSE: {-res.mean():.3f} ± {res.std():.3f}')"
   ]
  },
  {
   "cell_type": "code",
   "execution_count": 141,
   "metadata": {},
   "outputs": [
    {
     "data": {
      "text/html": [
       "<style>#sk-container-id-1 {color: black;}#sk-container-id-1 pre{padding: 0;}#sk-container-id-1 div.sk-toggleable {background-color: white;}#sk-container-id-1 label.sk-toggleable__label {cursor: pointer;display: block;width: 100%;margin-bottom: 0;padding: 0.3em;box-sizing: border-box;text-align: center;}#sk-container-id-1 label.sk-toggleable__label-arrow:before {content: \"▸\";float: left;margin-right: 0.25em;color: #696969;}#sk-container-id-1 label.sk-toggleable__label-arrow:hover:before {color: black;}#sk-container-id-1 div.sk-estimator:hover label.sk-toggleable__label-arrow:before {color: black;}#sk-container-id-1 div.sk-toggleable__content {max-height: 0;max-width: 0;overflow: hidden;text-align: left;background-color: #f0f8ff;}#sk-container-id-1 div.sk-toggleable__content pre {margin: 0.2em;color: black;border-radius: 0.25em;background-color: #f0f8ff;}#sk-container-id-1 input.sk-toggleable__control:checked~div.sk-toggleable__content {max-height: 200px;max-width: 100%;overflow: auto;}#sk-container-id-1 input.sk-toggleable__control:checked~label.sk-toggleable__label-arrow:before {content: \"▾\";}#sk-container-id-1 div.sk-estimator input.sk-toggleable__control:checked~label.sk-toggleable__label {background-color: #d4ebff;}#sk-container-id-1 div.sk-label input.sk-toggleable__control:checked~label.sk-toggleable__label {background-color: #d4ebff;}#sk-container-id-1 input.sk-hidden--visually {border: 0;clip: rect(1px 1px 1px 1px);clip: rect(1px, 1px, 1px, 1px);height: 1px;margin: -1px;overflow: hidden;padding: 0;position: absolute;width: 1px;}#sk-container-id-1 div.sk-estimator {font-family: monospace;background-color: #f0f8ff;border: 1px dotted black;border-radius: 0.25em;box-sizing: border-box;margin-bottom: 0.5em;}#sk-container-id-1 div.sk-estimator:hover {background-color: #d4ebff;}#sk-container-id-1 div.sk-parallel-item::after {content: \"\";width: 100%;border-bottom: 1px solid gray;flex-grow: 1;}#sk-container-id-1 div.sk-label:hover label.sk-toggleable__label {background-color: #d4ebff;}#sk-container-id-1 div.sk-serial::before {content: \"\";position: absolute;border-left: 1px solid gray;box-sizing: border-box;top: 0;bottom: 0;left: 50%;z-index: 0;}#sk-container-id-1 div.sk-serial {display: flex;flex-direction: column;align-items: center;background-color: white;padding-right: 0.2em;padding-left: 0.2em;position: relative;}#sk-container-id-1 div.sk-item {position: relative;z-index: 1;}#sk-container-id-1 div.sk-parallel {display: flex;align-items: stretch;justify-content: center;background-color: white;position: relative;}#sk-container-id-1 div.sk-item::before, #sk-container-id-1 div.sk-parallel-item::before {content: \"\";position: absolute;border-left: 1px solid gray;box-sizing: border-box;top: 0;bottom: 0;left: 50%;z-index: -1;}#sk-container-id-1 div.sk-parallel-item {display: flex;flex-direction: column;z-index: 1;position: relative;background-color: white;}#sk-container-id-1 div.sk-parallel-item:first-child::after {align-self: flex-end;width: 50%;}#sk-container-id-1 div.sk-parallel-item:last-child::after {align-self: flex-start;width: 50%;}#sk-container-id-1 div.sk-parallel-item:only-child::after {width: 0;}#sk-container-id-1 div.sk-dashed-wrapped {border: 1px dashed gray;margin: 0 0.4em 0.5em 0.4em;box-sizing: border-box;padding-bottom: 0.4em;background-color: white;}#sk-container-id-1 div.sk-label label {font-family: monospace;font-weight: bold;display: inline-block;line-height: 1.2em;}#sk-container-id-1 div.sk-label-container {text-align: center;}#sk-container-id-1 div.sk-container {/* jupyter's `normalize.less` sets `[hidden] { display: none; }` but bootstrap.min.css set `[hidden] { display: none !important; }` so we also need the `!important` here to be able to override the default hidden behavior on the sphinx rendered scikit-learn.org. See: https://github.com/scikit-learn/scikit-learn/issues/21755 */display: inline-block !important;position: relative;}#sk-container-id-1 div.sk-text-repr-fallback {display: none;}</style><div id=\"sk-container-id-1\" class=\"sk-top-container\"><div class=\"sk-text-repr-fallback\"><pre>LGBMClassifier(verbose=-1)</pre><b>In a Jupyter environment, please rerun this cell to show the HTML representation or trust the notebook. <br />On GitHub, the HTML representation is unable to render, please try loading this page with nbviewer.org.</b></div><div class=\"sk-container\" hidden><div class=\"sk-item\"><div class=\"sk-estimator sk-toggleable\"><input class=\"sk-toggleable__control sk-hidden--visually\" id=\"sk-estimator-id-1\" type=\"checkbox\" checked><label for=\"sk-estimator-id-1\" class=\"sk-toggleable__label sk-toggleable__label-arrow\">LGBMClassifier</label><div class=\"sk-toggleable__content\"><pre>LGBMClassifier(verbose=-1)</pre></div></div></div></div></div>"
      ],
      "text/plain": [
       "LGBMClassifier(verbose=-1)"
      ]
     },
     "execution_count": 141,
     "metadata": {},
     "output_type": "execute_result"
    }
   ],
   "source": [
    "# model_class = LGBMClassifier(verbose=-1)\n",
    "# model_class.fit(X_train, y_train_class)"
   ]
  },
  {
   "cell_type": "code",
   "execution_count": 144,
   "metadata": {},
   "outputs": [
    {
     "data": {
      "text/html": [
       "<style>#sk-container-id-3 {color: black;}#sk-container-id-3 pre{padding: 0;}#sk-container-id-3 div.sk-toggleable {background-color: white;}#sk-container-id-3 label.sk-toggleable__label {cursor: pointer;display: block;width: 100%;margin-bottom: 0;padding: 0.3em;box-sizing: border-box;text-align: center;}#sk-container-id-3 label.sk-toggleable__label-arrow:before {content: \"▸\";float: left;margin-right: 0.25em;color: #696969;}#sk-container-id-3 label.sk-toggleable__label-arrow:hover:before {color: black;}#sk-container-id-3 div.sk-estimator:hover label.sk-toggleable__label-arrow:before {color: black;}#sk-container-id-3 div.sk-toggleable__content {max-height: 0;max-width: 0;overflow: hidden;text-align: left;background-color: #f0f8ff;}#sk-container-id-3 div.sk-toggleable__content pre {margin: 0.2em;color: black;border-radius: 0.25em;background-color: #f0f8ff;}#sk-container-id-3 input.sk-toggleable__control:checked~div.sk-toggleable__content {max-height: 200px;max-width: 100%;overflow: auto;}#sk-container-id-3 input.sk-toggleable__control:checked~label.sk-toggleable__label-arrow:before {content: \"▾\";}#sk-container-id-3 div.sk-estimator input.sk-toggleable__control:checked~label.sk-toggleable__label {background-color: #d4ebff;}#sk-container-id-3 div.sk-label input.sk-toggleable__control:checked~label.sk-toggleable__label {background-color: #d4ebff;}#sk-container-id-3 input.sk-hidden--visually {border: 0;clip: rect(1px 1px 1px 1px);clip: rect(1px, 1px, 1px, 1px);height: 1px;margin: -1px;overflow: hidden;padding: 0;position: absolute;width: 1px;}#sk-container-id-3 div.sk-estimator {font-family: monospace;background-color: #f0f8ff;border: 1px dotted black;border-radius: 0.25em;box-sizing: border-box;margin-bottom: 0.5em;}#sk-container-id-3 div.sk-estimator:hover {background-color: #d4ebff;}#sk-container-id-3 div.sk-parallel-item::after {content: \"\";width: 100%;border-bottom: 1px solid gray;flex-grow: 1;}#sk-container-id-3 div.sk-label:hover label.sk-toggleable__label {background-color: #d4ebff;}#sk-container-id-3 div.sk-serial::before {content: \"\";position: absolute;border-left: 1px solid gray;box-sizing: border-box;top: 0;bottom: 0;left: 50%;z-index: 0;}#sk-container-id-3 div.sk-serial {display: flex;flex-direction: column;align-items: center;background-color: white;padding-right: 0.2em;padding-left: 0.2em;position: relative;}#sk-container-id-3 div.sk-item {position: relative;z-index: 1;}#sk-container-id-3 div.sk-parallel {display: flex;align-items: stretch;justify-content: center;background-color: white;position: relative;}#sk-container-id-3 div.sk-item::before, #sk-container-id-3 div.sk-parallel-item::before {content: \"\";position: absolute;border-left: 1px solid gray;box-sizing: border-box;top: 0;bottom: 0;left: 50%;z-index: -1;}#sk-container-id-3 div.sk-parallel-item {display: flex;flex-direction: column;z-index: 1;position: relative;background-color: white;}#sk-container-id-3 div.sk-parallel-item:first-child::after {align-self: flex-end;width: 50%;}#sk-container-id-3 div.sk-parallel-item:last-child::after {align-self: flex-start;width: 50%;}#sk-container-id-3 div.sk-parallel-item:only-child::after {width: 0;}#sk-container-id-3 div.sk-dashed-wrapped {border: 1px dashed gray;margin: 0 0.4em 0.5em 0.4em;box-sizing: border-box;padding-bottom: 0.4em;background-color: white;}#sk-container-id-3 div.sk-label label {font-family: monospace;font-weight: bold;display: inline-block;line-height: 1.2em;}#sk-container-id-3 div.sk-label-container {text-align: center;}#sk-container-id-3 div.sk-container {/* jupyter's `normalize.less` sets `[hidden] { display: none; }` but bootstrap.min.css set `[hidden] { display: none !important; }` so we also need the `!important` here to be able to override the default hidden behavior on the sphinx rendered scikit-learn.org. See: https://github.com/scikit-learn/scikit-learn/issues/21755 */display: inline-block !important;position: relative;}#sk-container-id-3 div.sk-text-repr-fallback {display: none;}</style><div id=\"sk-container-id-3\" class=\"sk-top-container\"><div class=\"sk-text-repr-fallback\"><pre>LGBMRegressor(verbose=-1)</pre><b>In a Jupyter environment, please rerun this cell to show the HTML representation or trust the notebook. <br />On GitHub, the HTML representation is unable to render, please try loading this page with nbviewer.org.</b></div><div class=\"sk-container\" hidden><div class=\"sk-item\"><div class=\"sk-estimator sk-toggleable\"><input class=\"sk-toggleable__control sk-hidden--visually\" id=\"sk-estimator-id-3\" type=\"checkbox\" checked><label for=\"sk-estimator-id-3\" class=\"sk-toggleable__label sk-toggleable__label-arrow\">LGBMRegressor</label><div class=\"sk-toggleable__content\"><pre>LGBMRegressor(verbose=-1)</pre></div></div></div></div></div>"
      ],
      "text/plain": [
       "LGBMRegressor(verbose=-1)"
      ]
     },
     "execution_count": 144,
     "metadata": {},
     "output_type": "execute_result"
    }
   ],
   "source": [
    "# model_reg = LGBMRegressor(verbose=-1)\n",
    "# model_reg.fit(X_train, y_train_reg.fillna(0))"
   ]
  },
  {
   "cell_type": "code",
   "execution_count": 16,
   "metadata": {},
   "outputs": [],
   "source": [
    "pred_class = model.predict(X_test)"
   ]
  },
  {
   "cell_type": "code",
   "execution_count": 18,
   "metadata": {},
   "outputs": [
    {
     "data": {
      "text/plain": [
       "0.495905068812648"
      ]
     },
     "execution_count": 18,
     "metadata": {},
     "output_type": "execute_result"
    }
   ],
   "source": [
    "sum(pred_class)/len(pred_class)"
   ]
  },
  {
   "cell_type": "code",
   "execution_count": null,
   "metadata": {},
   "outputs": [],
   "source": [
    "# pred_class = model_class.predict(X_test)\n",
    "# pred_reg = model_reg.predict(X_test)"
   ]
  },
  {
   "cell_type": "code",
   "execution_count": 19,
   "metadata": {},
   "outputs": [],
   "source": [
    "sub = pd.DataFrame()\n",
    "\n",
    "sub['customer_id'] = data_test['customer_id_']\n",
    "sub['date_diff_post'] = 0\n",
    "sub['buy_post'] = pred_class"
   ]
  },
  {
   "cell_type": "code",
   "execution_count": 20,
   "metadata": {},
   "outputs": [],
   "source": [
    "sub.to_csv('catboost_cw_07_sub.csv', sep=';', index=False)"
   ]
  }
 ],
 "metadata": {
  "kernelspec": {
   "display_name": "env",
   "language": "python",
   "name": "python3"
  },
  "language_info": {
   "codemirror_mode": {
    "name": "ipython",
    "version": 3
   },
   "file_extension": ".py",
   "mimetype": "text/x-python",
   "name": "python",
   "nbconvert_exporter": "python",
   "pygments_lexer": "ipython3",
   "version": "3.9.16"
  },
  "orig_nbformat": 4,
  "vscode": {
   "interpreter": {
    "hash": "1d85f8d091281e8cdbbabc30d35abdaebd4eb091dd84d434d9fa6db6a3942f76"
   }
  }
 },
 "nbformat": 4,
 "nbformat_minor": 2
}
