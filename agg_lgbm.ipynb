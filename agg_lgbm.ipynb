{
 "cells": [
  {
   "cell_type": "code",
   "execution_count": 14,
   "id": "5de1b2a5-7f17-41cd-a11d-a6935a84b0d4",
   "metadata": {
    "execution": {
     "iopub.execute_input": "2023-11-23T20:15:11.543618Z",
     "iopub.status.busy": "2023-11-23T20:15:11.543195Z",
     "iopub.status.idle": "2023-11-23T20:15:17.458594Z",
     "shell.execute_reply": "2023-11-23T20:15:17.457834Z",
     "shell.execute_reply.started": "2023-11-23T20:15:11.543588Z"
    },
    "tags": []
   },
   "outputs": [
    {
     "name": "stdout",
     "output_type": "stream",
     "text": [
      "Defaulting to user installation because normal site-packages is not writeable\n",
      "Requirement already satisfied: pytorch-lifestream in /home/jupyter/.local/lib/python3.10/site-packages (0.5.2)\n",
      "Requirement already satisfied: pytorch-lightning==1.6.* in /home/jupyter/.local/lib/python3.10/site-packages (from pytorch-lifestream) (1.6.5)\n",
      "Requirement already satisfied: pyarrow>=7.0 in /usr/local/lib/python3.10/dist-packages (from pytorch-lifestream) (9.0.0)\n",
      "Requirement already satisfied: transformers==4.* in /home/jupyter/.local/lib/python3.10/site-packages (from pytorch-lifestream) (4.35.2)\n",
      "Requirement already satisfied: hydra-core>=1.1.2 in /usr/local/lib/python3.10/dist-packages (from pytorch-lifestream) (1.3.2)\n",
      "Requirement already satisfied: numpy>=1.17.2 in /usr/local/lib/python3.10/dist-packages (from pytorch-lightning==1.6.*->pytorch-lifestream) (1.22.4)\n",
      "Requirement already satisfied: torch>=1.8.* in /usr/local/lib/python3.10/dist-packages (from pytorch-lightning==1.6.*->pytorch-lifestream) (2.0.1+cu118)\n",
      "Requirement already satisfied: tqdm>=4.57.0 in /usr/local/lib/python3.10/dist-packages (from pytorch-lightning==1.6.*->pytorch-lifestream) (4.65.0)\n",
      "Requirement already satisfied: PyYAML>=5.4 in /usr/local/lib/python3.10/dist-packages (from pytorch-lightning==1.6.*->pytorch-lifestream) (6.0.1)\n",
      "Requirement already satisfied: fsspec[http]!=2021.06.0,>=2021.05.0 in /usr/local/lib/python3.10/dist-packages (from pytorch-lightning==1.6.*->pytorch-lifestream) (2023.6.0)\n",
      "Requirement already satisfied: tensorboard>=2.2.0 in /usr/local/lib/python3.10/dist-packages (from pytorch-lightning==1.6.*->pytorch-lifestream) (2.12.3)\n",
      "Requirement already satisfied: torchmetrics>=0.4.1 in /home/jupyter/.local/lib/python3.10/site-packages (from pytorch-lightning==1.6.*->pytorch-lifestream) (1.2.0)\n",
      "Requirement already satisfied: pyDeprecate>=0.3.1 in /home/jupyter/.local/lib/python3.10/site-packages (from pytorch-lightning==1.6.*->pytorch-lifestream) (0.3.2)\n",
      "Requirement already satisfied: packaging>=17.0 in /kernel/lib/python3.10/site-packages (from pytorch-lightning==1.6.*->pytorch-lifestream) (23.2)\n",
      "Requirement already satisfied: typing-extensions>=4.0.0 in /kernel/lib/python3.10/site-packages (from pytorch-lightning==1.6.*->pytorch-lifestream) (4.8.0)\n",
      "Requirement already satisfied: protobuf<=3.20.1 in /home/jupyter/.local/lib/python3.10/site-packages (from pytorch-lightning==1.6.*->pytorch-lifestream) (3.20.1)\n",
      "Requirement already satisfied: filelock in /usr/local/lib/python3.10/dist-packages (from transformers==4.*->pytorch-lifestream) (3.12.2)\n",
      "Requirement already satisfied: huggingface-hub<1.0,>=0.16.4 in /home/jupyter/.local/lib/python3.10/site-packages (from transformers==4.*->pytorch-lifestream) (0.19.4)\n",
      "Requirement already satisfied: regex!=2019.12.17 in /usr/local/lib/python3.10/dist-packages (from transformers==4.*->pytorch-lifestream) (2022.10.31)\n",
      "Requirement already satisfied: requests in /usr/local/lib/python3.10/dist-packages (from transformers==4.*->pytorch-lifestream) (2.27.1)\n",
      "Requirement already satisfied: tokenizers<0.19,>=0.14 in /home/jupyter/.local/lib/python3.10/site-packages (from transformers==4.*->pytorch-lifestream) (0.15.0)\n",
      "Requirement already satisfied: safetensors>=0.3.1 in /home/jupyter/.local/lib/python3.10/site-packages (from transformers==4.*->pytorch-lifestream) (0.4.0)\n",
      "Requirement already satisfied: omegaconf<2.4,>=2.2 in /usr/local/lib/python3.10/dist-packages (from hydra-core>=1.1.2->pytorch-lifestream) (2.3.0)\n",
      "Requirement already satisfied: antlr4-python3-runtime==4.9.* in /usr/local/lib/python3.10/dist-packages (from hydra-core>=1.1.2->pytorch-lifestream) (4.9.3)\n",
      "Requirement already satisfied: aiohttp!=4.0.0a0,!=4.0.0a1 in /usr/local/lib/python3.10/dist-packages (from fsspec[http]!=2021.06.0,>=2021.05.0->pytorch-lightning==1.6.*->pytorch-lifestream) (3.8.5)\n",
      "Requirement already satisfied: absl-py>=0.4 in /usr/local/lib/python3.10/dist-packages (from tensorboard>=2.2.0->pytorch-lightning==1.6.*->pytorch-lifestream) (1.4.0)\n",
      "Requirement already satisfied: grpcio>=1.48.2 in /usr/local/lib/python3.10/dist-packages (from tensorboard>=2.2.0->pytorch-lightning==1.6.*->pytorch-lifestream) (1.56.2)\n",
      "Requirement already satisfied: google-auth<3,>=1.6.3 in /usr/local/lib/python3.10/dist-packages (from tensorboard>=2.2.0->pytorch-lightning==1.6.*->pytorch-lifestream) (2.17.3)\n",
      "Requirement already satisfied: google-auth-oauthlib<1.1,>=0.5 in /usr/local/lib/python3.10/dist-packages (from tensorboard>=2.2.0->pytorch-lightning==1.6.*->pytorch-lifestream) (1.0.0)\n",
      "Requirement already satisfied: markdown>=2.6.8 in /usr/local/lib/python3.10/dist-packages (from tensorboard>=2.2.0->pytorch-lightning==1.6.*->pytorch-lifestream) (3.4.4)\n",
      "Requirement already satisfied: setuptools>=41.0.0 in /kernel/lib/python3.10/site-packages (from tensorboard>=2.2.0->pytorch-lightning==1.6.*->pytorch-lifestream) (51.0.0)\n",
      "Requirement already satisfied: tensorboard-data-server<0.8.0,>=0.7.0 in /usr/local/lib/python3.10/dist-packages (from tensorboard>=2.2.0->pytorch-lightning==1.6.*->pytorch-lifestream) (0.7.1)\n",
      "Requirement already satisfied: werkzeug>=1.0.1 in /usr/local/lib/python3.10/dist-packages (from tensorboard>=2.2.0->pytorch-lightning==1.6.*->pytorch-lifestream) (2.3.6)\n",
      "Requirement already satisfied: wheel>=0.26 in /usr/local/lib/python3.10/dist-packages (from tensorboard>=2.2.0->pytorch-lightning==1.6.*->pytorch-lifestream) (0.41.1)\n",
      "Collecting urllib3<1.27,>=1.21.1 (from requests->transformers==4.*->pytorch-lifestream)\n",
      "  Obtaining dependency information for urllib3<1.27,>=1.21.1 from https://files.pythonhosted.org/packages/b0/53/aa91e163dcfd1e5b82d8a890ecf13314e3e149c05270cc644581f77f17fd/urllib3-1.26.18-py2.py3-none-any.whl.metadata\n",
      "  Using cached urllib3-1.26.18-py2.py3-none-any.whl.metadata (48 kB)\n",
      "Requirement already satisfied: certifi>=2017.4.17 in /kernel/lib/python3.10/site-packages (from requests->transformers==4.*->pytorch-lifestream) (2023.7.22)\n",
      "Collecting charset-normalizer~=2.0.0 (from requests->transformers==4.*->pytorch-lifestream)\n",
      "  Using cached charset_normalizer-2.0.12-py3-none-any.whl (39 kB)\n",
      "Requirement already satisfied: idna<4,>=2.5 in /kernel/lib/python3.10/site-packages (from requests->transformers==4.*->pytorch-lifestream) (3.4)\n",
      "Requirement already satisfied: sympy in /usr/local/lib/python3.10/dist-packages (from torch>=1.8.*->pytorch-lightning==1.6.*->pytorch-lifestream) (1.11.1)\n",
      "Requirement already satisfied: networkx in /usr/local/lib/python3.10/dist-packages (from torch>=1.8.*->pytorch-lightning==1.6.*->pytorch-lifestream) (3.1)\n",
      "Requirement already satisfied: jinja2 in /kernel/lib/python3.10/site-packages (from torch>=1.8.*->pytorch-lightning==1.6.*->pytorch-lifestream) (3.1.2)\n",
      "Requirement already satisfied: triton==2.0.0 in /usr/local/lib/python3.10/dist-packages (from torch>=1.8.*->pytorch-lightning==1.6.*->pytorch-lifestream) (2.0.0)\n",
      "Requirement already satisfied: cmake in /usr/local/lib/python3.10/dist-packages (from triton==2.0.0->torch>=1.8.*->pytorch-lightning==1.6.*->pytorch-lifestream) (3.25.2)\n",
      "Requirement already satisfied: lit in /usr/local/lib/python3.10/dist-packages (from triton==2.0.0->torch>=1.8.*->pytorch-lightning==1.6.*->pytorch-lifestream) (16.0.6)\n",
      "Requirement already satisfied: lightning-utilities>=0.8.0 in /home/jupyter/.local/lib/python3.10/site-packages (from torchmetrics>=0.4.1->pytorch-lightning==1.6.*->pytorch-lifestream) (0.10.0)\n",
      "Requirement already satisfied: attrs>=17.3.0 in /kernel/lib/python3.10/site-packages (from aiohttp!=4.0.0a0,!=4.0.0a1->fsspec[http]!=2021.06.0,>=2021.05.0->pytorch-lightning==1.6.*->pytorch-lifestream) (23.1.0)\n",
      "Requirement already satisfied: multidict<7.0,>=4.5 in /usr/local/lib/python3.10/dist-packages (from aiohttp!=4.0.0a0,!=4.0.0a1->fsspec[http]!=2021.06.0,>=2021.05.0->pytorch-lightning==1.6.*->pytorch-lifestream) (6.0.4)\n",
      "Requirement already satisfied: async-timeout<5.0,>=4.0.0a3 in /usr/local/lib/python3.10/dist-packages (from aiohttp!=4.0.0a0,!=4.0.0a1->fsspec[http]!=2021.06.0,>=2021.05.0->pytorch-lightning==1.6.*->pytorch-lifestream) (4.0.2)\n",
      "Requirement already satisfied: yarl<2.0,>=1.0 in /usr/local/lib/python3.10/dist-packages (from aiohttp!=4.0.0a0,!=4.0.0a1->fsspec[http]!=2021.06.0,>=2021.05.0->pytorch-lightning==1.6.*->pytorch-lifestream) (1.9.2)\n",
      "Requirement already satisfied: frozenlist>=1.1.1 in /usr/local/lib/python3.10/dist-packages (from aiohttp!=4.0.0a0,!=4.0.0a1->fsspec[http]!=2021.06.0,>=2021.05.0->pytorch-lightning==1.6.*->pytorch-lifestream) (1.4.0)\n",
      "Requirement already satisfied: aiosignal>=1.1.2 in /usr/local/lib/python3.10/dist-packages (from aiohttp!=4.0.0a0,!=4.0.0a1->fsspec[http]!=2021.06.0,>=2021.05.0->pytorch-lightning==1.6.*->pytorch-lifestream) (1.3.1)\n",
      "Requirement already satisfied: cachetools<6.0,>=2.0.0 in /usr/local/lib/python3.10/dist-packages (from google-auth<3,>=1.6.3->tensorboard>=2.2.0->pytorch-lightning==1.6.*->pytorch-lifestream) (5.3.1)\n",
      "Requirement already satisfied: pyasn1-modules>=0.2.1 in /usr/local/lib/python3.10/dist-packages (from google-auth<3,>=1.6.3->tensorboard>=2.2.0->pytorch-lightning==1.6.*->pytorch-lifestream) (0.3.0)\n",
      "Requirement already satisfied: six>=1.9.0 in /kernel/lib/python3.10/site-packages (from google-auth<3,>=1.6.3->tensorboard>=2.2.0->pytorch-lightning==1.6.*->pytorch-lifestream) (1.16.0)\n",
      "Requirement already satisfied: rsa<5,>=3.1.4 in /usr/local/lib/python3.10/dist-packages (from google-auth<3,>=1.6.3->tensorboard>=2.2.0->pytorch-lightning==1.6.*->pytorch-lifestream) (4.9)\n",
      "Requirement already satisfied: requests-oauthlib>=0.7.0 in /usr/local/lib/python3.10/dist-packages (from google-auth-oauthlib<1.1,>=0.5->tensorboard>=2.2.0->pytorch-lightning==1.6.*->pytorch-lifestream) (1.3.1)\n",
      "Requirement already satisfied: MarkupSafe>=2.1.1 in /kernel/lib/python3.10/site-packages (from werkzeug>=1.0.1->tensorboard>=2.2.0->pytorch-lightning==1.6.*->pytorch-lifestream) (2.1.3)\n",
      "Requirement already satisfied: mpmath>=0.19 in /usr/local/lib/python3.10/dist-packages (from sympy->torch>=1.8.*->pytorch-lightning==1.6.*->pytorch-lifestream) (1.3.0)\n",
      "Requirement already satisfied: pyasn1<0.6.0,>=0.4.6 in /usr/local/lib/python3.10/dist-packages (from pyasn1-modules>=0.2.1->google-auth<3,>=1.6.3->tensorboard>=2.2.0->pytorch-lightning==1.6.*->pytorch-lifestream) (0.5.0)\n",
      "Requirement already satisfied: oauthlib>=3.0.0 in /usr/local/lib/python3.10/dist-packages (from requests-oauthlib>=0.7.0->google-auth-oauthlib<1.1,>=0.5->tensorboard>=2.2.0->pytorch-lightning==1.6.*->pytorch-lifestream) (3.2.2)\n",
      "Using cached urllib3-1.26.18-py2.py3-none-any.whl (143 kB)\n",
      "\u001b[33mDEPRECATION: pytorch-lightning 1.6.5 has a non-standard dependency specifier torch>=1.8.*. pip 23.3 will enforce this behaviour change. A possible replacement is to upgrade to a newer version of pytorch-lightning or contact the author to suggest that they release a version with a conforming dependency specifiers. Discussion can be found at https://github.com/pypa/pip/issues/12063\u001b[0m\u001b[33m\n",
      "\u001b[0mInstalling collected packages: urllib3, charset-normalizer\n",
      "\u001b[33m  WARNING: The script normalizer is installed in '/home/jupyter/.local/bin' which is not on PATH.\n",
      "  Consider adding this directory to PATH or, if you prefer to suppress this warning, use --no-warn-script-location.\u001b[0m\u001b[33m\n",
      "\u001b[0m\u001b[31mERROR: pip's dependency resolver does not currently take into account all the packages that are installed. This behaviour is the source of the following dependency conflicts.\n",
      "tensorflow 2.12.0 requires protobuf!=4.21.0,!=4.21.1,!=4.21.2,!=4.21.3,!=4.21.4,!=4.21.5,<5.0.0dev,>=3.20.3, but you have protobuf 3.20.1 which is incompatible.\u001b[0m\u001b[31m\n",
      "\u001b[0mSuccessfully installed charset-normalizer-2.0.12 urllib3-1.26.18\n",
      "\n",
      "\u001b[1m[\u001b[0m\u001b[34;49mnotice\u001b[0m\u001b[1;39;49m]\u001b[0m\u001b[39;49m A new release of pip is available: \u001b[0m\u001b[31;49m23.2.1\u001b[0m\u001b[39;49m -> \u001b[0m\u001b[32;49m23.3.1\u001b[0m\n",
      "\u001b[1m[\u001b[0m\u001b[34;49mnotice\u001b[0m\u001b[1;39;49m]\u001b[0m\u001b[39;49m To update, run: \u001b[0m\u001b[32;49mpython3 -m pip install --upgrade pip\u001b[0m\n"
     ]
    }
   ],
   "source": [
    "%pip install pytorch-lifestream"
   ]
  },
  {
   "cell_type": "code",
   "execution_count": 1,
   "id": "c406a0ed-2529-40a8-9838-793f41925d28",
   "metadata": {
    "execution": {
     "iopub.execute_input": "2023-11-23T20:21:54.571366Z",
     "iopub.status.busy": "2023-11-23T20:21:54.570934Z",
     "iopub.status.idle": "2023-11-23T20:22:00.530223Z",
     "shell.execute_reply": "2023-11-23T20:22:00.529493Z",
     "shell.execute_reply.started": "2023-11-23T20:21:54.571342Z"
    },
    "tags": []
   },
   "outputs": [
    {
     "name": "stderr",
     "output_type": "stream",
     "text": [
      "2023-11-23 20:21:58.998460: W tensorflow/compiler/tf2tensorrt/utils/py_utils.cc:38] TF-TRT Warning: Could not find TensorRT\n"
     ]
    }
   ],
   "source": [
    "from functools import partial\n",
    "\n",
    "import numpy as np\n",
    "import pandas as pd\n",
    "import pytorch_lightning as pl\n",
    "import torch\n",
    "from lightgbm import LGBMClassifier\n",
    "from ptls.data_load.datasets import MemoryMapDataset, inference_data_loader\n",
    "from ptls.data_load.iterable_processing import SeqLenFilter\n",
    "from ptls.frames import PtlsDataModule\n",
    "from ptls.frames.coles import ColesDataset, CoLESModule\n",
    "from ptls.frames.coles.split_strategy import NoSplit, SampleSlices\n",
    "from ptls.nn import AggFeatureSeqEncoder, RnnSeqEncoder, TrxEncoder\n",
    "from ptls.preprocessing import PandasDataPreprocessor\n",
    "from pytorch_lightning.callbacks import ModelCheckpoint\n",
    "from sklearn.metrics import roc_auc_score"
   ]
  },
  {
   "cell_type": "code",
   "execution_count": 2,
   "id": "54c9c7e4-d468-41af-81f6-6d3f31abd52a",
   "metadata": {
    "execution": {
     "iopub.execute_input": "2023-11-23T20:22:00.531737Z",
     "iopub.status.busy": "2023-11-23T20:22:00.531325Z",
     "iopub.status.idle": "2023-11-23T20:22:03.192256Z",
     "shell.execute_reply": "2023-11-23T20:22:03.191506Z",
     "shell.execute_reply.started": "2023-11-23T20:22:00.531713Z"
    },
    "tags": []
   },
   "outputs": [],
   "source": [
    "df_train = pd.read_parquet(\n",
    "    \"/home/jupyter/datasphere/project/train_dataset_hackaton2023_train.gzip\"\n",
    ")\n",
    "df_test = pd.read_parquet(\"/home/jupyter/datasphere/project/hackaton2023_test.gzip\")"
   ]
  },
  {
   "cell_type": "code",
   "execution_count": 3,
   "id": "b3cfa9d4-a30e-4606-82bb-564610923677",
   "metadata": {
    "execution": {
     "iopub.execute_input": "2023-11-23T20:22:06.519677Z",
     "iopub.status.busy": "2023-11-23T20:22:06.519266Z",
     "iopub.status.idle": "2023-11-23T20:22:06.545044Z",
     "shell.execute_reply": "2023-11-23T20:22:06.544425Z",
     "shell.execute_reply.started": "2023-11-23T20:22:06.519654Z"
    },
    "tags": []
   },
   "outputs": [
    {
     "data": {
      "text/html": [
       "<div>\n",
       "<style scoped>\n",
       "    .dataframe tbody tr th:only-of-type {\n",
       "        vertical-align: middle;\n",
       "    }\n",
       "\n",
       "    .dataframe tbody tr th {\n",
       "        vertical-align: top;\n",
       "    }\n",
       "\n",
       "    .dataframe thead th {\n",
       "        text-align: right;\n",
       "    }\n",
       "</style>\n",
       "<table border=\"1\" class=\"dataframe\">\n",
       "  <thead>\n",
       "    <tr style=\"text-align: right;\">\n",
       "      <th></th>\n",
       "      <th>customer_id</th>\n",
       "      <th>date_diff_post</th>\n",
       "      <th>buy_post</th>\n",
       "      <th>group_name</th>\n",
       "      <th>revenue</th>\n",
       "      <th>startdatetime</th>\n",
       "      <th>dish_name</th>\n",
       "      <th>ownareaall_sqm</th>\n",
       "      <th>format_name</th>\n",
       "    </tr>\n",
       "  </thead>\n",
       "  <tbody>\n",
       "    <tr>\n",
       "      <th>0</th>\n",
       "      <td>29891</td>\n",
       "      <td>9.0</td>\n",
       "      <td>1</td>\n",
       "      <td>train</td>\n",
       "      <td>69.99</td>\n",
       "      <td>2022-12-05 12:03:58</td>\n",
       "      <td>Кинг Фри станд</td>\n",
       "      <td>300.0</td>\n",
       "      <td>Отдельно стоящий без внешней зоны</td>\n",
       "    </tr>\n",
       "    <tr>\n",
       "      <th>1</th>\n",
       "      <td>29891</td>\n",
       "      <td>9.0</td>\n",
       "      <td>1</td>\n",
       "      <td>train</td>\n",
       "      <td>190.00</td>\n",
       "      <td>2022-12-05 12:03:58</td>\n",
       "      <td>Чикен Тар-Тар</td>\n",
       "      <td>300.0</td>\n",
       "      <td>Отдельно стоящий без внешней зоны</td>\n",
       "    </tr>\n",
       "    <tr>\n",
       "      <th>2</th>\n",
       "      <td>29891</td>\n",
       "      <td>9.0</td>\n",
       "      <td>1</td>\n",
       "      <td>train</td>\n",
       "      <td>9.99</td>\n",
       "      <td>2022-12-05 12:03:58</td>\n",
       "      <td>Соус Сырный</td>\n",
       "      <td>300.0</td>\n",
       "      <td>Отдельно стоящий без внешней зоны</td>\n",
       "    </tr>\n",
       "    <tr>\n",
       "      <th>3</th>\n",
       "      <td>29891</td>\n",
       "      <td>9.0</td>\n",
       "      <td>1</td>\n",
       "      <td>train</td>\n",
       "      <td>119.99</td>\n",
       "      <td>2022-12-05 12:03:58</td>\n",
       "      <td>Энергет.нап. Адреналин Раш</td>\n",
       "      <td>300.0</td>\n",
       "      <td>Отдельно стоящий без внешней зоны</td>\n",
       "    </tr>\n",
       "    <tr>\n",
       "      <th>4</th>\n",
       "      <td>29891</td>\n",
       "      <td>9.0</td>\n",
       "      <td>1</td>\n",
       "      <td>train</td>\n",
       "      <td>119.99</td>\n",
       "      <td>2022-12-05 14:28:35</td>\n",
       "      <td>Латте (СТАНД.)</td>\n",
       "      <td>300.0</td>\n",
       "      <td>Отдельно стоящий без внешней зоны</td>\n",
       "    </tr>\n",
       "  </tbody>\n",
       "</table>\n",
       "</div>"
      ],
      "text/plain": [
       "   customer_id  ...                        format_name\n",
       "0        29891  ...  Отдельно стоящий без внешней зоны\n",
       "1        29891  ...  Отдельно стоящий без внешней зоны\n",
       "2        29891  ...  Отдельно стоящий без внешней зоны\n",
       "3        29891  ...  Отдельно стоящий без внешней зоны\n",
       "4        29891  ...  Отдельно стоящий без внешней зоны\n",
       "\n",
       "[5 rows x 9 columns]"
      ]
     },
     "execution_count": 3,
     "metadata": {},
     "output_type": "execute_result"
    }
   ],
   "source": [
    "df_train.head()"
   ]
  },
  {
   "cell_type": "code",
   "execution_count": 4,
   "id": "6c02adde-53f9-451a-b5c7-52dbf06b9d0f",
   "metadata": {
    "execution": {
     "iopub.execute_input": "2023-11-23T20:22:18.798340Z",
     "iopub.status.busy": "2023-11-23T20:22:18.797758Z",
     "iopub.status.idle": "2023-11-23T20:23:03.399538Z",
     "shell.execute_reply": "2023-11-23T20:23:03.398623Z",
     "shell.execute_reply.started": "2023-11-23T20:22:18.798312Z"
    },
    "tags": []
   },
   "outputs": [],
   "source": [
    "for df in [df_train, df_test]:\n",
    "    df[\"dish_name\"] = df[\"dish_name\"].astype(str)\n",
    "    df[\"format_name\"] = df[\"format_name\"].astype(str)\n",
    "    df[\"hour\"] = df[\"startdatetime\"].dt.strftime(\"%H\").astype(int)\n",
    "\n",
    "    df.drop([\"group_name\"], axis=1, inplace=True)"
   ]
  },
  {
   "cell_type": "code",
   "execution_count": 5,
   "id": "6e5aa35d-924a-4f1e-9d4e-a5114f4b25f9",
   "metadata": {
    "execution": {
     "iopub.execute_input": "2023-11-23T20:23:26.962628Z",
     "iopub.status.busy": "2023-11-23T20:23:26.961980Z",
     "iopub.status.idle": "2023-11-23T20:23:26.972809Z",
     "shell.execute_reply": "2023-11-23T20:23:26.972185Z",
     "shell.execute_reply.started": "2023-11-23T20:23:26.962594Z"
    },
    "tags": []
   },
   "outputs": [],
   "source": [
    "preprocessor = PandasDataPreprocessor(\n",
    "    col_id=\"customer_id\",\n",
    "    col_event_time=\"startdatetime\",\n",
    "    cols_category=[\"dish_name\", \"format_name\"],\n",
    "    cols_numerical=[\"revenue\", \"ownareaall_sqm\", \"hour\"],\n",
    "    cols_first_item=[\"buy_post\"],\n",
    "    return_records=True,\n",
    ")"
   ]
  },
  {
   "cell_type": "code",
   "execution_count": 6,
   "id": "7053c012-e6b6-4cc1-9193-9ecfcf567e50",
   "metadata": {
    "execution": {
     "iopub.execute_input": "2023-11-23T20:23:43.473072Z",
     "iopub.status.busy": "2023-11-23T20:23:43.472642Z",
     "iopub.status.idle": "2023-11-23T20:28:36.512984Z",
     "shell.execute_reply": "2023-11-23T20:28:36.497103Z",
     "shell.execute_reply.started": "2023-11-23T20:23:43.473049Z"
    },
    "tags": []
   },
   "outputs": [
    {
     "name": "stdout",
     "output_type": "stream",
     "text": [
      "CPU times: user 4min 39s, sys: 25 s, total: 5min 4s\n",
      "Wall time: 4min 53s\n"
     ]
    }
   ],
   "source": [
    "%%time\n",
    "\n",
    "dataset_train = preprocessor.fit_transform(df_train)\n",
    "dataset_test = preprocessor.transform(df_test)"
   ]
  },
  {
   "cell_type": "code",
   "execution_count": 7,
   "id": "360ae8b0-8e1d-4060-a673-ed47314268c1",
   "metadata": {
    "execution": {
     "iopub.execute_input": "2023-11-23T20:29:24.694643Z",
     "iopub.status.busy": "2023-11-23T20:29:24.690699Z",
     "iopub.status.idle": "2023-11-23T20:29:24.854572Z",
     "shell.execute_reply": "2023-11-23T20:29:24.853989Z",
     "shell.execute_reply.started": "2023-11-23T20:29:24.694602Z"
    },
    "tags": []
   },
   "outputs": [
    {
     "data": {
      "text/plain": [
       "(400000, 50000, 50000)"
      ]
     },
     "execution_count": 7,
     "metadata": {},
     "output_type": "execute_result"
    }
   ],
   "source": [
    "from sklearn.model_selection import train_test_split\n",
    "\n",
    "train, valid_test = train_test_split(dataset_train, test_size=0.2, random_state=42)\n",
    "valid, test = train_test_split(valid_test, test_size=0.5, random_state=42)\n",
    "\n",
    "len(train), len(valid), len(test)"
   ]
  },
  {
   "cell_type": "markdown",
   "id": "c493a256-a3ea-46c2-9175-b03256a44a96",
   "metadata": {},
   "source": [
    "AggFeatureSeqEncoder + LightGBM"
   ]
  },
  {
   "cell_type": "code",
   "execution_count": 8,
   "id": "9136b41d-4292-4ee6-be29-a227eb2800ec",
   "metadata": {
    "execution": {
     "iopub.execute_input": "2023-11-23T20:29:26.825350Z",
     "iopub.status.busy": "2023-11-23T20:29:26.824952Z",
     "iopub.status.idle": "2023-11-23T20:29:27.010132Z",
     "shell.execute_reply": "2023-11-23T20:29:27.009527Z",
     "shell.execute_reply.started": "2023-11-23T20:29:26.825328Z"
    },
    "tags": []
   },
   "outputs": [],
   "source": [
    "params = {\n",
    "    \"numeric_values\": {\n",
    "        \"revenue\": {\"identity\"},\n",
    "        \"hour\": {\"in\": 24},\n",
    "    },\n",
    "    \"embeddings\": {\n",
    "        \"dish_name\": {\"in\": 1000},\n",
    "        \"format_name\": {\"in\": 10},\n",
    "    },\n",
    "}\n",
    "\n",
    "seq_encoder = AggFeatureSeqEncoder(**params)\n",
    "\n",
    "model = CoLESModule(\n",
    "    seq_encoder=seq_encoder,\n",
    "    optimizer_partial=partial(torch.optim.Adam, lr=0.001),\n",
    "    lr_scheduler_partial=partial(\n",
    "        torch.optim.lr_scheduler.StepLR, step_size=30, gamma=0.9\n",
    "    ),\n",
    ")"
   ]
  },
  {
   "cell_type": "code",
   "execution_count": 9,
   "id": "50e610fd-46af-41bb-9fed-61e2bd7fb821",
   "metadata": {
    "execution": {
     "iopub.execute_input": "2023-11-23T20:29:29.101479Z",
     "iopub.status.busy": "2023-11-23T20:29:29.100914Z",
     "iopub.status.idle": "2023-11-23T20:29:29.201389Z",
     "shell.execute_reply": "2023-11-23T20:29:29.200778Z",
     "shell.execute_reply.started": "2023-11-23T20:29:29.101454Z"
    },
    "tags": []
   },
   "outputs": [
    {
     "name": "stderr",
     "output_type": "stream",
     "text": [
      "GPU available: False, used: False\n",
      "TPU available: False, using: 0 TPU cores\n",
      "IPU available: False, using: 0 IPUs\n",
      "HPU available: False, using: 0 HPUs\n"
     ]
    }
   ],
   "source": [
    "trainer = pl.Trainer(\n",
    "    max_epochs=30,\n",
    "    gpus=1 if torch.cuda.is_available() else 0,\n",
    "    enable_progress_bar=False,\n",
    ")"
   ]
  },
  {
   "cell_type": "code",
   "execution_count": 10,
   "id": "0aee9bb4-9070-4602-9928-b97b7b350a4a",
   "metadata": {
    "execution": {
     "iopub.execute_input": "2023-11-23T20:29:31.936029Z",
     "iopub.status.busy": "2023-11-23T20:29:31.935420Z",
     "iopub.status.idle": "2023-11-23T20:31:55.180497Z",
     "shell.execute_reply": "2023-11-23T20:31:55.179392Z",
     "shell.execute_reply.started": "2023-11-23T20:29:31.936001Z"
    },
    "tags": []
   },
   "outputs": [
    {
     "name": "stderr",
     "output_type": "stream",
     "text": [
      "Missing logger folder: /home/jupyter/work/resources/lightning_logs\n",
      "/home/jupyter/.local/lib/python3.10/site-packages/pytorch_lightning/trainer/connectors/data_connector.py:240: PossibleUserWarning: The dataloader, predict_dataloader 0, does not have many workers which may be a bottleneck. Consider increasing the value of the `num_workers` argument` (try 32 which is the number of cpus on this machine) in the `DataLoader` init to improve performance.\n",
      "  rank_zero_warn(\n",
      "/home/jupyter/.local/lib/python3.10/site-packages/pytorch_lightning/loops/epoch/prediction_epoch_loop.py:175: UserWarning: Lightning couldn't infer the indices fetched for your dataloader.\n",
      "  warning_cache.warn(\"Lightning couldn't infer the indices fetched for your dataloader.\")\n",
      "/home/jupyter/.local/lib/python3.10/site-packages/pytorch_lightning/trainer/connectors/data_connector.py:240: PossibleUserWarning: The dataloader, predict_dataloader 0, does not have many workers which may be a bottleneck. Consider increasing the value of the `num_workers` argument` (try 32 which is the number of cpus on this machine) in the `DataLoader` init to improve performance.\n",
      "  rank_zero_warn(\n"
     ]
    }
   ],
   "source": [
    "train_dl = inference_data_loader(train, num_workers=0, batch_size=16)\n",
    "train_embeds = torch.vstack(trainer.predict(model, train_dl))\n",
    "\n",
    "test_dl = inference_data_loader(test, num_workers=0, batch_size=16)\n",
    "test_embeds = torch.vstack(trainer.predict(model, test_dl))"
   ]
  },
  {
   "cell_type": "code",
   "execution_count": 11,
   "id": "b7e93250-2fbe-4b55-bdcc-524094d48aeb",
   "metadata": {
    "execution": {
     "iopub.execute_input": "2023-11-23T20:31:55.182551Z",
     "iopub.status.busy": "2023-11-23T20:31:55.182097Z",
     "iopub.status.idle": "2023-11-23T20:31:55.335173Z",
     "shell.execute_reply": "2023-11-23T20:31:55.334487Z",
     "shell.execute_reply.started": "2023-11-23T20:31:55.182521Z"
    },
    "tags": []
   },
   "outputs": [],
   "source": [
    "X_train = train_embeds.numpy()\n",
    "X_test = test_embeds.numpy()\n",
    "\n",
    "y_train = np.array([cl[\"buy_post\"] for cl in train])\n",
    "y_test = np.array([cl[\"buy_post\"] for cl in test])"
   ]
  },
  {
   "cell_type": "code",
   "execution_count": 12,
   "id": "9660a7f5-6438-4a12-aff3-4b9959f312ab",
   "metadata": {
    "execution": {
     "iopub.execute_input": "2023-11-23T20:32:26.645136Z",
     "iopub.status.busy": "2023-11-23T20:32:26.644710Z",
     "iopub.status.idle": "2023-11-23T20:32:43.385600Z",
     "shell.execute_reply": "2023-11-23T20:32:43.384961Z",
     "shell.execute_reply.started": "2023-11-23T20:32:26.645112Z"
    },
    "tags": []
   },
   "outputs": [
    {
     "data": {
      "text/html": [
       "<style>#sk-container-id-1 {color: black;background-color: white;}#sk-container-id-1 pre{padding: 0;}#sk-container-id-1 div.sk-toggleable {background-color: white;}#sk-container-id-1 label.sk-toggleable__label {cursor: pointer;display: block;width: 100%;margin-bottom: 0;padding: 0.3em;box-sizing: border-box;text-align: center;}#sk-container-id-1 label.sk-toggleable__label-arrow:before {content: \"▸\";float: left;margin-right: 0.25em;color: #696969;}#sk-container-id-1 label.sk-toggleable__label-arrow:hover:before {color: black;}#sk-container-id-1 div.sk-estimator:hover label.sk-toggleable__label-arrow:before {color: black;}#sk-container-id-1 div.sk-toggleable__content {max-height: 0;max-width: 0;overflow: hidden;text-align: left;background-color: #f0f8ff;}#sk-container-id-1 div.sk-toggleable__content pre {margin: 0.2em;color: black;border-radius: 0.25em;background-color: #f0f8ff;}#sk-container-id-1 input.sk-toggleable__control:checked~div.sk-toggleable__content {max-height: 200px;max-width: 100%;overflow: auto;}#sk-container-id-1 input.sk-toggleable__control:checked~label.sk-toggleable__label-arrow:before {content: \"▾\";}#sk-container-id-1 div.sk-estimator input.sk-toggleable__control:checked~label.sk-toggleable__label {background-color: #d4ebff;}#sk-container-id-1 div.sk-label input.sk-toggleable__control:checked~label.sk-toggleable__label {background-color: #d4ebff;}#sk-container-id-1 input.sk-hidden--visually {border: 0;clip: rect(1px 1px 1px 1px);clip: rect(1px, 1px, 1px, 1px);height: 1px;margin: -1px;overflow: hidden;padding: 0;position: absolute;width: 1px;}#sk-container-id-1 div.sk-estimator {font-family: monospace;background-color: #f0f8ff;border: 1px dotted black;border-radius: 0.25em;box-sizing: border-box;margin-bottom: 0.5em;}#sk-container-id-1 div.sk-estimator:hover {background-color: #d4ebff;}#sk-container-id-1 div.sk-parallel-item::after {content: \"\";width: 100%;border-bottom: 1px solid gray;flex-grow: 1;}#sk-container-id-1 div.sk-label:hover label.sk-toggleable__label {background-color: #d4ebff;}#sk-container-id-1 div.sk-serial::before {content: \"\";position: absolute;border-left: 1px solid gray;box-sizing: border-box;top: 0;bottom: 0;left: 50%;z-index: 0;}#sk-container-id-1 div.sk-serial {display: flex;flex-direction: column;align-items: center;background-color: white;padding-right: 0.2em;padding-left: 0.2em;position: relative;}#sk-container-id-1 div.sk-item {position: relative;z-index: 1;}#sk-container-id-1 div.sk-parallel {display: flex;align-items: stretch;justify-content: center;background-color: white;position: relative;}#sk-container-id-1 div.sk-item::before, #sk-container-id-1 div.sk-parallel-item::before {content: \"\";position: absolute;border-left: 1px solid gray;box-sizing: border-box;top: 0;bottom: 0;left: 50%;z-index: -1;}#sk-container-id-1 div.sk-parallel-item {display: flex;flex-direction: column;z-index: 1;position: relative;background-color: white;}#sk-container-id-1 div.sk-parallel-item:first-child::after {align-self: flex-end;width: 50%;}#sk-container-id-1 div.sk-parallel-item:last-child::after {align-self: flex-start;width: 50%;}#sk-container-id-1 div.sk-parallel-item:only-child::after {width: 0;}#sk-container-id-1 div.sk-dashed-wrapped {border: 1px dashed gray;margin: 0 0.4em 0.5em 0.4em;box-sizing: border-box;padding-bottom: 0.4em;background-color: white;}#sk-container-id-1 div.sk-label label {font-family: monospace;font-weight: bold;display: inline-block;line-height: 1.2em;}#sk-container-id-1 div.sk-label-container {text-align: center;}#sk-container-id-1 div.sk-container {/* jupyter's `normalize.less` sets `[hidden] { display: none; }` but bootstrap.min.css set `[hidden] { display: none !important; }` so we also need the `!important` here to be able to override the default hidden behavior on the sphinx rendered scikit-learn.org. See: https://github.com/scikit-learn/scikit-learn/issues/21755 */display: inline-block !important;position: relative;}#sk-container-id-1 div.sk-text-repr-fallback {display: none;}</style><div id=\"sk-container-id-1\" class=\"sk-top-container\"><div class=\"sk-text-repr-fallback\"><pre>LGBMClassifier(verbose=-1)</pre><b>In a Jupyter environment, please rerun this cell to show the HTML representation or trust the notebook. <br />On GitHub, the HTML representation is unable to render, please try loading this page with nbviewer.org.</b></div><div class=\"sk-container\" hidden><div class=\"sk-item\"><div class=\"sk-estimator sk-toggleable\"><input class=\"sk-toggleable__control sk-hidden--visually\" id=\"sk-estimator-id-1\" type=\"checkbox\" checked><label for=\"sk-estimator-id-1\" class=\"sk-toggleable__label sk-toggleable__label-arrow\">LGBMClassifier</label><div class=\"sk-toggleable__content\"><pre>LGBMClassifier(verbose=-1)</pre></div></div></div></div></div>"
      ],
      "text/plain": [
       "LGBMClassifier(verbose=-1)"
      ]
     },
     "execution_count": 12,
     "metadata": {},
     "output_type": "execute_result"
    }
   ],
   "source": [
    "lgbm = LGBMClassifier(n_estimators=100, verbose=-1)\n",
    "lgbm.fit(X_train, y_train)"
   ]
  },
  {
   "cell_type": "code",
   "execution_count": 13,
   "id": "0b549083-6548-4083-8168-3f8c36859b6d",
   "metadata": {
    "execution": {
     "iopub.execute_input": "2023-11-23T20:32:50.081574Z",
     "iopub.status.busy": "2023-11-23T20:32:50.081005Z",
     "iopub.status.idle": "2023-11-23T20:32:52.607635Z",
     "shell.execute_reply": "2023-11-23T20:32:52.606792Z",
     "shell.execute_reply.started": "2023-11-23T20:32:50.081549Z"
    },
    "tags": []
   },
   "outputs": [
    {
     "name": "stdout",
     "output_type": "stream",
     "text": [
      "Train score: 0.7031\n",
      "Test score: 0.6890\n"
     ]
    }
   ],
   "source": [
    "print(f'Train score: {roc_auc_score(y_train, lgbm.predict_proba(X_train)[:, 1]):.4f}', )\n",
    "print(f'Test score: {roc_auc_score(y_test, lgbm.predict_proba(X_test)[:, 1]):.4f}')"
   ]
  }
 ],
 "metadata": {
  "kernelspec": {
   "display_name": "DataSphere Kernel",
   "language": "python",
   "name": "python3"
  },
  "language_info": {
   "codemirror_mode": {
    "name": "ipython",
    "version": 3
   },
   "file_extension": ".py",
   "mimetype": "text/x-python",
   "name": "python",
   "nbconvert_exporter": "python",
   "pygments_lexer": "ipython3",
   "version": "3.7.7"
  }
 },
 "nbformat": 4,
 "nbformat_minor": 5
}
