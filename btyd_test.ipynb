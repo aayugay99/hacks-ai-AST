{
 "cells": [
  {
   "cell_type": "code",
   "execution_count": 37,
   "id": "87c82cbc-b8f2-4a9d-8e08-5cac826c4382",
   "metadata": {
    "execution": {
     "iopub.execute_input": "2023-11-25T03:16:07.791605Z",
     "iopub.status.busy": "2023-11-25T03:16:07.791053Z",
     "iopub.status.idle": "2023-11-25T03:16:11.173053Z",
     "shell.execute_reply": "2023-11-25T03:16:11.172439Z",
     "shell.execute_reply.started": "2023-11-25T03:16:07.791583Z"
    },
    "tags": []
   },
   "outputs": [],
   "source": [
    "import numpy as np\n",
    "import pandas as pd\n",
    "import matplotlib.pyplot as plt\n",
    "\n",
    "\n",
    "from sklearn.metrics import roc_auc_score, f1_score, mean_squared_error\n",
    "from sklearn.model_selection import cross_val_score, train_test_split\n",
    "from sklearn.preprocessing import OneHotEncoder\n",
    "\n",
    "from sklearn.linear_model import LogisticRegression, LinearRegression\n",
    "from lightgbm import LGBMClassifier, LGBMRegressor\n",
    "\n",
    "from imblearn.over_sampling import RandomOverSampler, SMOTE"
   ]
  },
  {
   "cell_type": "code",
   "execution_count": 4,
   "id": "9c463438-1b5d-401b-abf7-f42c15be94f2",
   "metadata": {
    "execution": {
     "iopub.execute_input": "2023-11-25T02:55:43.158511Z",
     "iopub.status.busy": "2023-11-25T02:55:43.157874Z",
     "iopub.status.idle": "2023-11-25T02:55:45.732512Z",
     "shell.execute_reply": "2023-11-25T02:55:45.731863Z",
     "shell.execute_reply.started": "2023-11-25T02:55:43.158484Z"
    },
    "tags": []
   },
   "outputs": [],
   "source": [
    "df_train = pd.read_parquet('/home/jupyter/datasphere/project/data/train_dataset_hackaton2023_train.gzip')\n",
    "df_test = pd.read_parquet('/home/jupyter/datasphere/project/data/hackaton2023_test.gzip')\n",
    "\n",
    "df_test['date_diff_post'] = 0\n",
    "df_test['buy_post'] = 0"
   ]
  },
  {
   "cell_type": "code",
   "execution_count": 5,
   "id": "6696f893-0722-49dc-8d6e-bb8d7abc15d0",
   "metadata": {
    "execution": {
     "iopub.execute_input": "2023-11-25T02:55:58.116779Z",
     "iopub.status.busy": "2023-11-25T02:55:58.116390Z",
     "iopub.status.idle": "2023-11-25T02:55:58.129248Z",
     "shell.execute_reply": "2023-11-25T02:55:58.128710Z",
     "shell.execute_reply.started": "2023-11-25T02:55:58.116756Z"
    },
    "tags": []
   },
   "outputs": [],
   "source": [
    "def has_ws(x):\n",
    "    return x in ['Отдельно стоящий с внешней зоной', 'Отдельно стоящий без внешней зоны', 'Отдельно стоящий', 'Фудкорт с туалетом']\n",
    "\n",
    "def is_food_court(x):\n",
    "    return 'Фудкорт' in x"
   ]
  },
  {
   "cell_type": "code",
   "execution_count": 31,
   "id": "cb01f5be-c216-4515-8b4d-1a7ee05f089e",
   "metadata": {
    "execution": {
     "iopub.execute_input": "2023-11-25T03:14:51.729150Z",
     "iopub.status.busy": "2023-11-25T03:14:51.728736Z",
     "iopub.status.idle": "2023-11-25T03:14:51.748716Z",
     "shell.execute_reply": "2023-11-25T03:14:51.748156Z",
     "shell.execute_reply.started": "2023-11-25T03:14:51.729129Z"
    },
    "tags": []
   },
   "outputs": [],
   "source": [
    "def preprocess(df):\n",
    "    # df = df.drop_duplicates()\n",
    "\n",
    "    df['discounts'] = df['revenue'] == 1\n",
    "    df['has_ws'] = df['format_name'].apply(has_ws)\n",
    "    df['is_food_court'] = df['format_name'].apply(is_food_court)\n",
    "\n",
    "    data_check_agg = df.groupby(['customer_id', 'startdatetime']).agg({\n",
    "        'revenue': ['sum', 'count'], \n",
    "        'discounts': 'sum',\n",
    "        'has_ws': 'first',\n",
    "        'is_food_court': 'first',\n",
    "        'buy_post': 'first',\n",
    "        'date_diff_post': 'first',\n",
    "    }).reset_index()\n",
    "\n",
    "    data_check_agg.columns = [f'{header}_{stat}' if header == 'revenue' else header for header, stat in data_check_agg.columns]\n",
    "    data_check_agg = data_check_agg.rename({'revenue_sum': 'revenue', 'revenue_count': 'positions_count'}, axis=1)\n",
    "\n",
    "    data_check_agg['delta'] = data_check_agg.groupby('customer_id')['startdatetime'].diff() \n",
    "\n",
    "    data_check_agg['delta_hours'] = (data_check_agg['delta'].dt.total_seconds() // (60*60)).fillna(0)\n",
    "    data_check_agg['delta_days'] = (data_check_agg['delta'].dt.total_seconds() // (24*60*60)).fillna(0)\n",
    "\n",
    "    data_check_agg = data_check_agg.drop('delta', axis=1)\n",
    "    data_check_agg['month'] = data_check_agg['startdatetime'].dt.month\n",
    "    data_check_agg['day_of_week'] = data_check_agg['startdatetime'].dt.day_of_week\n",
    "    data_check_agg['hour'] = data_check_agg['startdatetime'].dt.hour\n",
    "\n",
    "    data_cust_agg = data_check_agg.groupby('customer_id').agg({\n",
    "        'revenue': ['mean', 'median', 'std', 'max', 'min', 'count', 'sum'],\n",
    "        'positions_count': ['mean', 'median', 'std', 'max', 'min'],\n",
    "        'discounts': ['mean', 'median', 'std', 'max', 'min', 'sum'],\n",
    "        'delta_hours': ['mean', 'median', 'std', 'max'],\n",
    "        'delta_days': ['mean', 'median', 'std', 'max'],\n",
    "        'hour': ['mean', 'median', 'std', 'max', 'min'],\n",
    "        'startdatetime': ['min', 'max'],\n",
    "        'has_ws': 'mean',\n",
    "        'is_food_court': 'mean',\n",
    "        'buy_post': 'first',\n",
    "        'date_diff_post': 'first',\n",
    "    }).reset_index()\n",
    "\n",
    "    data_cust_agg.columns = [f'{header}_{stat}' for header, stat in data_cust_agg.columns]\n",
    "\n",
    "    data_cust_agg['recency'] = (data_cust_agg['startdatetime_max'] - data_cust_agg['startdatetime_min']).dt.days\n",
    "    data_cust_agg['T'] = (pd.to_datetime('2023-08-02') - data_cust_agg['startdatetime_min']).dt.days\n",
    "    data_cust_agg['days_from_last_purchase'] = (pd.to_datetime('2023-08-02') - data_cust_agg['startdatetime_max']).dt.days\n",
    "    data_cust_agg['lambda'] = data_cust_agg['revenue_count'] / (data_cust_agg['recency'] + 1)\n",
    "    data_cust_agg = data_cust_agg.drop(['startdatetime_min', 'startdatetime_max'], axis=1)\n",
    "    \n",
    "    return data_cust_agg"
   ]
  },
  {
   "cell_type": "code",
   "execution_count": 32,
   "id": "f325a482-db8a-43db-94b9-fc74efab5c29",
   "metadata": {
    "execution": {
     "iopub.execute_input": "2023-11-25T03:14:57.841779Z",
     "iopub.status.busy": "2023-11-25T03:14:57.841236Z",
     "iopub.status.idle": "2023-11-25T03:15:05.571091Z",
     "shell.execute_reply": "2023-11-25T03:15:05.570455Z",
     "shell.execute_reply.started": "2023-11-25T03:14:57.841756Z"
    },
    "tags": []
   },
   "outputs": [],
   "source": [
    "data_train_val = preprocess(df_train)"
   ]
  },
  {
   "cell_type": "code",
   "execution_count": 33,
   "id": "5783c2eb-9575-4b49-a3cd-8b7f9e66f947",
   "metadata": {
    "execution": {
     "iopub.execute_input": "2023-11-25T03:15:07.443064Z",
     "iopub.status.busy": "2023-11-25T03:15:07.442698Z",
     "iopub.status.idle": "2023-11-25T03:15:07.489918Z",
     "shell.execute_reply": "2023-11-25T03:15:07.489358Z",
     "shell.execute_reply.started": "2023-11-25T03:15:07.443041Z"
    },
    "tags": []
   },
   "outputs": [
    {
     "data": {
      "text/html": [
       "<div>\n",
       "<style scoped>\n",
       "    .dataframe tbody tr th:only-of-type {\n",
       "        vertical-align: middle;\n",
       "    }\n",
       "\n",
       "    .dataframe tbody tr th {\n",
       "        vertical-align: top;\n",
       "    }\n",
       "\n",
       "    .dataframe thead th {\n",
       "        text-align: right;\n",
       "    }\n",
       "</style>\n",
       "<table border=\"1\" class=\"dataframe\">\n",
       "  <thead>\n",
       "    <tr style=\"text-align: right;\">\n",
       "      <th></th>\n",
       "      <th>customer_id_</th>\n",
       "      <th>revenue_mean</th>\n",
       "      <th>revenue_median</th>\n",
       "      <th>revenue_std</th>\n",
       "      <th>revenue_max</th>\n",
       "      <th>revenue_min</th>\n",
       "      <th>revenue_count</th>\n",
       "      <th>revenue_sum</th>\n",
       "      <th>positions_count_mean</th>\n",
       "      <th>positions_count_median</th>\n",
       "      <th>positions_count_std</th>\n",
       "      <th>positions_count_max</th>\n",
       "      <th>positions_count_min</th>\n",
       "      <th>discounts_mean</th>\n",
       "      <th>discounts_median</th>\n",
       "      <th>discounts_std</th>\n",
       "      <th>discounts_max</th>\n",
       "      <th>discounts_min</th>\n",
       "      <th>discounts_sum</th>\n",
       "      <th>delta_hours_mean</th>\n",
       "      <th>delta_hours_median</th>\n",
       "      <th>delta_hours_std</th>\n",
       "      <th>delta_hours_max</th>\n",
       "      <th>delta_days_mean</th>\n",
       "      <th>delta_days_median</th>\n",
       "      <th>delta_days_std</th>\n",
       "      <th>delta_days_max</th>\n",
       "      <th>hour_mean</th>\n",
       "      <th>hour_median</th>\n",
       "      <th>hour_std</th>\n",
       "      <th>hour_max</th>\n",
       "      <th>hour_min</th>\n",
       "      <th>has_ws_mean</th>\n",
       "      <th>is_food_court_mean</th>\n",
       "      <th>buy_post_first</th>\n",
       "      <th>date_diff_post_first</th>\n",
       "      <th>recency</th>\n",
       "      <th>T</th>\n",
       "      <th>days_from_last_purchase</th>\n",
       "      <th>lambda</th>\n",
       "    </tr>\n",
       "  </thead>\n",
       "  <tbody>\n",
       "    <tr>\n",
       "      <th>0</th>\n",
       "      <td>29891</td>\n",
       "      <td>203.494000</td>\n",
       "      <td>199.960</td>\n",
       "      <td>123.170275</td>\n",
       "      <td>439.98</td>\n",
       "      <td>1.00</td>\n",
       "      <td>25</td>\n",
       "      <td>5087.35</td>\n",
       "      <td>1.360000</td>\n",
       "      <td>1.0</td>\n",
       "      <td>0.860233</td>\n",
       "      <td>4</td>\n",
       "      <td>1</td>\n",
       "      <td>0.12</td>\n",
       "      <td>0.0</td>\n",
       "      <td>0.331662</td>\n",
       "      <td>1</td>\n",
       "      <td>0</td>\n",
       "      <td>3</td>\n",
       "      <td>55.240000</td>\n",
       "      <td>24.0</td>\n",
       "      <td>72.502460</td>\n",
       "      <td>266.0</td>\n",
       "      <td>1.920000</td>\n",
       "      <td>1.0</td>\n",
       "      <td>2.998889</td>\n",
       "      <td>11.0</td>\n",
       "      <td>11.200000</td>\n",
       "      <td>9.0</td>\n",
       "      <td>4.699291</td>\n",
       "      <td>19</td>\n",
       "      <td>0</td>\n",
       "      <td>1.000000</td>\n",
       "      <td>0.000000</td>\n",
       "      <td>1</td>\n",
       "      <td>9.0</td>\n",
       "      <td>57</td>\n",
       "      <td>239</td>\n",
       "      <td>181</td>\n",
       "      <td>0.431034</td>\n",
       "    </tr>\n",
       "    <tr>\n",
       "      <th>1</th>\n",
       "      <td>30477</td>\n",
       "      <td>227.024000</td>\n",
       "      <td>229.990</td>\n",
       "      <td>124.933425</td>\n",
       "      <td>499.95</td>\n",
       "      <td>44.99</td>\n",
       "      <td>25</td>\n",
       "      <td>5675.60</td>\n",
       "      <td>2.440000</td>\n",
       "      <td>1.0</td>\n",
       "      <td>1.916594</td>\n",
       "      <td>7</td>\n",
       "      <td>1</td>\n",
       "      <td>0.24</td>\n",
       "      <td>0.0</td>\n",
       "      <td>0.663325</td>\n",
       "      <td>2</td>\n",
       "      <td>0</td>\n",
       "      <td>6</td>\n",
       "      <td>49.400000</td>\n",
       "      <td>23.0</td>\n",
       "      <td>60.578462</td>\n",
       "      <td>216.0</td>\n",
       "      <td>1.520000</td>\n",
       "      <td>0.0</td>\n",
       "      <td>2.518597</td>\n",
       "      <td>9.0</td>\n",
       "      <td>11.080000</td>\n",
       "      <td>10.0</td>\n",
       "      <td>2.797618</td>\n",
       "      <td>16</td>\n",
       "      <td>8</td>\n",
       "      <td>1.000000</td>\n",
       "      <td>0.000000</td>\n",
       "      <td>1</td>\n",
       "      <td>10.0</td>\n",
       "      <td>51</td>\n",
       "      <td>301</td>\n",
       "      <td>249</td>\n",
       "      <td>0.480769</td>\n",
       "    </tr>\n",
       "    <tr>\n",
       "      <th>2</th>\n",
       "      <td>31426</td>\n",
       "      <td>391.399583</td>\n",
       "      <td>344.985</td>\n",
       "      <td>334.849322</td>\n",
       "      <td>1079.97</td>\n",
       "      <td>1.00</td>\n",
       "      <td>24</td>\n",
       "      <td>9393.59</td>\n",
       "      <td>3.583333</td>\n",
       "      <td>3.5</td>\n",
       "      <td>1.909169</td>\n",
       "      <td>8</td>\n",
       "      <td>1</td>\n",
       "      <td>0.25</td>\n",
       "      <td>0.0</td>\n",
       "      <td>0.531610</td>\n",
       "      <td>2</td>\n",
       "      <td>0</td>\n",
       "      <td>6</td>\n",
       "      <td>49.708333</td>\n",
       "      <td>34.5</td>\n",
       "      <td>46.635944</td>\n",
       "      <td>164.0</td>\n",
       "      <td>1.666667</td>\n",
       "      <td>1.0</td>\n",
       "      <td>1.809796</td>\n",
       "      <td>6.0</td>\n",
       "      <td>16.041667</td>\n",
       "      <td>15.0</td>\n",
       "      <td>3.263489</td>\n",
       "      <td>22</td>\n",
       "      <td>9</td>\n",
       "      <td>0.000000</td>\n",
       "      <td>1.000000</td>\n",
       "      <td>1</td>\n",
       "      <td>4.0</td>\n",
       "      <td>50</td>\n",
       "      <td>81</td>\n",
       "      <td>31</td>\n",
       "      <td>0.470588</td>\n",
       "    </tr>\n",
       "    <tr>\n",
       "      <th>3</th>\n",
       "      <td>44491</td>\n",
       "      <td>128.725000</td>\n",
       "      <td>59.980</td>\n",
       "      <td>144.471912</td>\n",
       "      <td>344.97</td>\n",
       "      <td>49.97</td>\n",
       "      <td>4</td>\n",
       "      <td>514.90</td>\n",
       "      <td>2.500000</td>\n",
       "      <td>2.5</td>\n",
       "      <td>0.577350</td>\n",
       "      <td>3</td>\n",
       "      <td>2</td>\n",
       "      <td>0.00</td>\n",
       "      <td>0.0</td>\n",
       "      <td>0.000000</td>\n",
       "      <td>0</td>\n",
       "      <td>0</td>\n",
       "      <td>0</td>\n",
       "      <td>166.750000</td>\n",
       "      <td>11.5</td>\n",
       "      <td>318.351352</td>\n",
       "      <td>644.0</td>\n",
       "      <td>6.500000</td>\n",
       "      <td>0.0</td>\n",
       "      <td>13.000000</td>\n",
       "      <td>26.0</td>\n",
       "      <td>20.500000</td>\n",
       "      <td>21.0</td>\n",
       "      <td>1.732051</td>\n",
       "      <td>22</td>\n",
       "      <td>18</td>\n",
       "      <td>0.000000</td>\n",
       "      <td>0.250000</td>\n",
       "      <td>1</td>\n",
       "      <td>42.0</td>\n",
       "      <td>27</td>\n",
       "      <td>52</td>\n",
       "      <td>24</td>\n",
       "      <td>0.142857</td>\n",
       "    </tr>\n",
       "    <tr>\n",
       "      <th>4</th>\n",
       "      <td>44939</td>\n",
       "      <td>554.943333</td>\n",
       "      <td>554.940</td>\n",
       "      <td>49.985000</td>\n",
       "      <td>604.93</td>\n",
       "      <td>504.96</td>\n",
       "      <td>3</td>\n",
       "      <td>1664.83</td>\n",
       "      <td>8.333333</td>\n",
       "      <td>9.0</td>\n",
       "      <td>1.154701</td>\n",
       "      <td>9</td>\n",
       "      <td>7</td>\n",
       "      <td>2.00</td>\n",
       "      <td>2.0</td>\n",
       "      <td>0.000000</td>\n",
       "      <td>2</td>\n",
       "      <td>2</td>\n",
       "      <td>6</td>\n",
       "      <td>123.333333</td>\n",
       "      <td>172.0</td>\n",
       "      <td>107.598017</td>\n",
       "      <td>198.0</td>\n",
       "      <td>5.000000</td>\n",
       "      <td>7.0</td>\n",
       "      <td>4.358899</td>\n",
       "      <td>8.0</td>\n",
       "      <td>16.333333</td>\n",
       "      <td>16.0</td>\n",
       "      <td>5.507571</td>\n",
       "      <td>22</td>\n",
       "      <td>11</td>\n",
       "      <td>0.333333</td>\n",
       "      <td>0.666667</td>\n",
       "      <td>1</td>\n",
       "      <td>9.0</td>\n",
       "      <td>15</td>\n",
       "      <td>234</td>\n",
       "      <td>219</td>\n",
       "      <td>0.187500</td>\n",
       "    </tr>\n",
       "  </tbody>\n",
       "</table>\n",
       "</div>"
      ],
      "text/plain": [
       "   customer_id_  revenue_mean  ...  days_from_last_purchase    lambda\n",
       "0         29891    203.494000  ...                      181  0.431034\n",
       "1         30477    227.024000  ...                      249  0.480769\n",
       "2         31426    391.399583  ...                       31  0.470588\n",
       "3         44491    128.725000  ...                       24  0.142857\n",
       "4         44939    554.943333  ...                      219  0.187500\n",
       "\n",
       "[5 rows x 40 columns]"
      ]
     },
     "execution_count": 33,
     "metadata": {},
     "output_type": "execute_result"
    }
   ],
   "source": [
    "data_train_val.head()"
   ]
  },
  {
   "cell_type": "code",
   "execution_count": 11,
   "id": "ec549d57-af56-4460-8f92-625441326ce5",
   "metadata": {
    "execution": {
     "iopub.execute_input": "2023-11-25T02:59:47.627428Z",
     "iopub.status.busy": "2023-11-25T02:59:47.627068Z",
     "iopub.status.idle": "2023-11-25T02:59:55.457228Z",
     "shell.execute_reply": "2023-11-25T02:59:55.456560Z",
     "shell.execute_reply.started": "2023-11-25T02:59:47.627405Z"
    },
    "tags": []
   },
   "outputs": [
    {
     "name": "stdout",
     "output_type": "stream",
     "text": [
      "Defaulting to user installation because normal site-packages is not writeable\n",
      "Collecting lifetimes\n",
      "  Downloading Lifetimes-0.11.3-py3-none-any.whl (584 kB)\n",
      "\u001b[2K     \u001b[90m━━━━━━━━━━━━━━━━━━━━━━━━━━━━━━━━━━━━━━━\u001b[0m \u001b[32m584.2/584.2 kB\u001b[0m \u001b[31m2.9 MB/s\u001b[0m eta \u001b[36m0:00:00\u001b[0ma \u001b[36m0:00:01\u001b[0m\n",
      "\u001b[?25hRequirement already satisfied: numpy>=1.10.0 in /usr/local/lib/python3.10/dist-packages (from lifetimes) (1.22.4)\n",
      "Requirement already satisfied: scipy>=1.0.0 in /usr/local/lib/python3.10/dist-packages (from lifetimes) (1.10.1)\n",
      "Requirement already satisfied: pandas>=0.24.0 in /usr/local/lib/python3.10/dist-packages (from lifetimes) (1.5.3)\n",
      "Requirement already satisfied: autograd>=1.2.0 in /usr/local/lib/python3.10/dist-packages (from lifetimes) (1.6.2)\n",
      "Collecting dill>=0.2.6 (from lifetimes)\n",
      "  Obtaining dependency information for dill>=0.2.6 from https://files.pythonhosted.org/packages/f5/3a/74a29b11cf2cdfcd6ba89c0cecd70b37cd1ba7b77978ce611eb7a146a832/dill-0.3.7-py3-none-any.whl.metadata\n",
      "  Downloading dill-0.3.7-py3-none-any.whl.metadata (9.9 kB)\n",
      "Requirement already satisfied: future>=0.15.2 in /usr/local/lib/python3.10/dist-packages (from autograd>=1.2.0->lifetimes) (0.18.3)\n",
      "Requirement already satisfied: python-dateutil>=2.8.1 in /kernel/lib/python3.10/site-packages (from pandas>=0.24.0->lifetimes) (2.8.2)\n",
      "Requirement already satisfied: pytz>=2020.1 in /usr/local/lib/python3.10/dist-packages (from pandas>=0.24.0->lifetimes) (2022.7.1)\n",
      "Requirement already satisfied: six>=1.5 in /kernel/lib/python3.10/site-packages (from python-dateutil>=2.8.1->pandas>=0.24.0->lifetimes) (1.16.0)\n",
      "Downloading dill-0.3.7-py3-none-any.whl (115 kB)\n",
      "\u001b[2K   \u001b[90m━━━━━━━━━━━━━━━━━━━━━━━━━━━━━━━━━━━━━━━━\u001b[0m \u001b[32m115.3/115.3 kB\u001b[0m \u001b[31m12.3 MB/s\u001b[0m eta \u001b[36m0:00:00\u001b[0m\n",
      "\u001b[?25h\u001b[33mDEPRECATION: pytorch-lightning 1.6.5 has a non-standard dependency specifier torch>=1.8.*. pip 23.3 will enforce this behaviour change. A possible replacement is to upgrade to a newer version of pytorch-lightning or contact the author to suggest that they release a version with a conforming dependency specifiers. Discussion can be found at https://github.com/pypa/pip/issues/12063\u001b[0m\u001b[33m\n",
      "\u001b[0mInstalling collected packages: dill, lifetimes\n",
      "Successfully installed dill-0.3.7 lifetimes-0.11.3\n",
      "\n",
      "\u001b[1m[\u001b[0m\u001b[34;49mnotice\u001b[0m\u001b[1;39;49m]\u001b[0m\u001b[39;49m A new release of pip is available: \u001b[0m\u001b[31;49m23.2.1\u001b[0m\u001b[39;49m -> \u001b[0m\u001b[32;49m23.3.1\u001b[0m\n",
      "\u001b[1m[\u001b[0m\u001b[34;49mnotice\u001b[0m\u001b[1;39;49m]\u001b[0m\u001b[39;49m To update, run: \u001b[0m\u001b[32;49mpython3 -m pip install --upgrade pip\u001b[0m\n"
     ]
    }
   ],
   "source": [
    "%pip install lifetimes"
   ]
  },
  {
   "cell_type": "code",
   "execution_count": 29,
   "id": "984ed140-ef20-44b3-8a2e-8b88de09c8b0",
   "metadata": {
    "execution": {
     "iopub.execute_input": "2023-11-25T03:13:23.448588Z",
     "iopub.status.busy": "2023-11-25T03:13:23.448033Z",
     "iopub.status.idle": "2023-11-25T03:13:27.019585Z",
     "shell.execute_reply": "2023-11-25T03:13:27.018965Z",
     "shell.execute_reply.started": "2023-11-25T03:13:23.448564Z"
    },
    "tags": []
   },
   "outputs": [
    {
     "name": "stdout",
     "output_type": "stream",
     "text": [
      "<lifetimes.GammaGammaFitter: fitted with 500000 subjects, p: 1.43, q: 3.77, v: 5352.77>\n"
     ]
    }
   ],
   "source": [
    "#  expected average lifetime value of our customers\n",
    "\n",
    "from lifetimes import GammaGammaFitter\n",
    "\n",
    "ggf = GammaGammaFitter(penalizer_coef = 0)\n",
    "ggf.fit(data_train_val['revenue_count'], data_train_val['revenue_sum'])\n",
    "print (ggf) "
   ]
  },
  {
   "cell_type": "code",
   "execution_count": 15,
   "id": "10ccf82b-9e0a-4faa-b714-7e023b262de5",
   "metadata": {
    "execution": {
     "iopub.execute_input": "2023-11-25T03:01:27.073820Z",
     "iopub.status.busy": "2023-11-25T03:01:27.073271Z",
     "iopub.status.idle": "2023-11-25T03:01:27.090788Z",
     "shell.execute_reply": "2023-11-25T03:01:27.090258Z",
     "shell.execute_reply.started": "2023-11-25T03:01:27.073796Z"
    },
    "tags": []
   },
   "outputs": [
    {
     "data": {
      "text/plain": [
       "customer_id_                 int64\n",
       "revenue_mean               float64\n",
       "revenue_median             float64\n",
       "revenue_std                float64\n",
       "revenue_max                float64\n",
       "revenue_min                float64\n",
       "revenue_count                int64\n",
       "revenue_sum                float64\n",
       "positions_count_mean       float64\n",
       "positions_count_median     float64\n",
       "positions_count_std        float64\n",
       "positions_count_max          int64\n",
       "positions_count_min          int64\n",
       "discounts_mean             float64\n",
       "discounts_median           float64\n",
       "discounts_std              float64\n",
       "discounts_max                int64\n",
       "discounts_min                int64\n",
       "delta_hours_mean           float64\n",
       "delta_hours_median         float64\n",
       "delta_hours_std            float64\n",
       "delta_hours_max            float64\n",
       "delta_days_mean            float64\n",
       "delta_days_median          float64\n",
       "delta_days_std             float64\n",
       "delta_days_max             float64\n",
       "hour_mean                  float64\n",
       "hour_median                float64\n",
       "hour_std                   float64\n",
       "hour_max                     int64\n",
       "hour_min                     int64\n",
       "has_ws_mean                float64\n",
       "is_food_court_mean         float64\n",
       "buy_post_first               int64\n",
       "date_diff_post_first       float64\n",
       "recency                      int64\n",
       "T                            int64\n",
       "days_from_last_purchase      int64\n",
       "lambda                     float64\n",
       "dtype: object"
      ]
     },
     "execution_count": 15,
     "metadata": {},
     "output_type": "execute_result"
    }
   ],
   "source": [
    "data_train_val.dtypes"
   ]
  },
  {
   "cell_type": "code",
   "execution_count": 46,
   "id": "879b89df-0b3d-4cb3-8ff1-2e626cbc32da",
   "metadata": {
    "execution": {
     "iopub.execute_input": "2023-11-25T03:24:47.582037Z",
     "iopub.status.busy": "2023-11-25T03:24:47.581493Z",
     "iopub.status.idle": "2023-11-25T03:24:47.599565Z",
     "shell.execute_reply": "2023-11-25T03:24:47.599010Z",
     "shell.execute_reply.started": "2023-11-25T03:24:47.582013Z"
    },
    "tags": []
   },
   "outputs": [
    {
     "name": "stdout",
     "output_type": "stream",
     "text": [
      "0    4919.487794\n",
      "1    5465.354078\n",
      "2    8897.029668\n",
      "3    1247.638022\n",
      "4    2094.111411\n",
      "dtype: float64\n"
     ]
    }
   ],
   "source": [
    "# estimate the average transaction value:\n",
    "\n",
    "print(ggf.conditional_expected_average_profit(data_train_val['revenue_count'], data_train_val['revenue_sum']).head())"
   ]
  },
  {
   "cell_type": "code",
   "execution_count": 34,
   "id": "f3e0718d-9b2f-4bd6-8097-b8da118dcead",
   "metadata": {
    "execution": {
     "iopub.execute_input": "2023-11-25T03:15:31.763428Z",
     "iopub.status.busy": "2023-11-25T03:15:31.762904Z",
     "iopub.status.idle": "2023-11-25T03:15:33.518463Z",
     "shell.execute_reply": "2023-11-25T03:15:33.517787Z",
     "shell.execute_reply.started": "2023-11-25T03:15:31.763405Z"
    },
    "tags": []
   },
   "outputs": [],
   "source": [
    "data_test = preprocess(df_test)"
   ]
  },
  {
   "cell_type": "code",
   "execution_count": 35,
   "id": "2fdbee31-bb8e-4cbe-91c6-6e52ffe4d21e",
   "metadata": {
    "execution": {
     "iopub.execute_input": "2023-11-25T03:15:44.089902Z",
     "iopub.status.busy": "2023-11-25T03:15:44.089497Z",
     "iopub.status.idle": "2023-11-25T03:15:44.155090Z",
     "shell.execute_reply": "2023-11-25T03:15:44.154497Z",
     "shell.execute_reply.started": "2023-11-25T03:15:44.089874Z"
    },
    "tags": []
   },
   "outputs": [],
   "source": [
    "X_train = data_train_val.drop(['date_diff_post_first', 'buy_post_first', 'customer_id_'], axis=1)\n",
    "y_train_class = data_train_val['buy_post_first']\n",
    "y_train_reg = data_train_val['date_diff_post_first']\n",
    "\n",
    "X_test = data_test.drop(['date_diff_post_first', 'buy_post_first', 'customer_id_'], axis=1)"
   ]
  },
  {
   "cell_type": "code",
   "execution_count": 38,
   "id": "b41357dc-7699-441d-8915-5c179800687c",
   "metadata": {
    "execution": {
     "iopub.execute_input": "2023-11-25T03:16:12.261169Z",
     "iopub.status.busy": "2023-11-25T03:16:12.260797Z",
     "iopub.status.idle": "2023-11-25T03:16:35.242590Z",
     "shell.execute_reply": "2023-11-25T03:16:35.241683Z",
     "shell.execute_reply.started": "2023-11-25T03:16:12.261147Z"
    },
    "tags": []
   },
   "outputs": [
    {
     "name": "stdout",
     "output_type": "stream",
     "text": [
      "ROC-AUC: 0.751 ± 0.000\n"
     ]
    }
   ],
   "source": [
    "model_class = LGBMClassifier(\n",
    "    n_estimators=1000, \n",
    "    reg_alpha=20, \n",
    "    max_depth=3, \n",
    "    importance_type='gain', \n",
    "    reg_lambda=20, \n",
    "    class_weight={0: 0.7, 1:0.3},\n",
    "    verbose=-1,\n",
    ")\n",
    "\n",
    "res = cross_val_score(model_class, X_train, y_train_class, scoring='roc_auc')\n",
    "print(f'ROC-AUC: {res.mean():.3f} ± {res.std():.3f}')"
   ]
  },
  {
   "cell_type": "code",
   "execution_count": 39,
   "id": "974e1b0d-6e1f-4143-b944-47da2a8aa334",
   "metadata": {
    "execution": {
     "iopub.execute_input": "2023-11-25T03:16:38.218833Z",
     "iopub.status.busy": "2023-11-25T03:16:38.218420Z",
     "iopub.status.idle": "2023-11-25T03:16:43.182192Z",
     "shell.execute_reply": "2023-11-25T03:16:43.181544Z",
     "shell.execute_reply.started": "2023-11-25T03:16:38.218802Z"
    },
    "tags": []
   },
   "outputs": [
    {
     "data": {
      "text/html": [
       "<style>#sk-container-id-1 {color: black;background-color: white;}#sk-container-id-1 pre{padding: 0;}#sk-container-id-1 div.sk-toggleable {background-color: white;}#sk-container-id-1 label.sk-toggleable__label {cursor: pointer;display: block;width: 100%;margin-bottom: 0;padding: 0.3em;box-sizing: border-box;text-align: center;}#sk-container-id-1 label.sk-toggleable__label-arrow:before {content: \"▸\";float: left;margin-right: 0.25em;color: #696969;}#sk-container-id-1 label.sk-toggleable__label-arrow:hover:before {color: black;}#sk-container-id-1 div.sk-estimator:hover label.sk-toggleable__label-arrow:before {color: black;}#sk-container-id-1 div.sk-toggleable__content {max-height: 0;max-width: 0;overflow: hidden;text-align: left;background-color: #f0f8ff;}#sk-container-id-1 div.sk-toggleable__content pre {margin: 0.2em;color: black;border-radius: 0.25em;background-color: #f0f8ff;}#sk-container-id-1 input.sk-toggleable__control:checked~div.sk-toggleable__content {max-height: 200px;max-width: 100%;overflow: auto;}#sk-container-id-1 input.sk-toggleable__control:checked~label.sk-toggleable__label-arrow:before {content: \"▾\";}#sk-container-id-1 div.sk-estimator input.sk-toggleable__control:checked~label.sk-toggleable__label {background-color: #d4ebff;}#sk-container-id-1 div.sk-label input.sk-toggleable__control:checked~label.sk-toggleable__label {background-color: #d4ebff;}#sk-container-id-1 input.sk-hidden--visually {border: 0;clip: rect(1px 1px 1px 1px);clip: rect(1px, 1px, 1px, 1px);height: 1px;margin: -1px;overflow: hidden;padding: 0;position: absolute;width: 1px;}#sk-container-id-1 div.sk-estimator {font-family: monospace;background-color: #f0f8ff;border: 1px dotted black;border-radius: 0.25em;box-sizing: border-box;margin-bottom: 0.5em;}#sk-container-id-1 div.sk-estimator:hover {background-color: #d4ebff;}#sk-container-id-1 div.sk-parallel-item::after {content: \"\";width: 100%;border-bottom: 1px solid gray;flex-grow: 1;}#sk-container-id-1 div.sk-label:hover label.sk-toggleable__label {background-color: #d4ebff;}#sk-container-id-1 div.sk-serial::before {content: \"\";position: absolute;border-left: 1px solid gray;box-sizing: border-box;top: 0;bottom: 0;left: 50%;z-index: 0;}#sk-container-id-1 div.sk-serial {display: flex;flex-direction: column;align-items: center;background-color: white;padding-right: 0.2em;padding-left: 0.2em;position: relative;}#sk-container-id-1 div.sk-item {position: relative;z-index: 1;}#sk-container-id-1 div.sk-parallel {display: flex;align-items: stretch;justify-content: center;background-color: white;position: relative;}#sk-container-id-1 div.sk-item::before, #sk-container-id-1 div.sk-parallel-item::before {content: \"\";position: absolute;border-left: 1px solid gray;box-sizing: border-box;top: 0;bottom: 0;left: 50%;z-index: -1;}#sk-container-id-1 div.sk-parallel-item {display: flex;flex-direction: column;z-index: 1;position: relative;background-color: white;}#sk-container-id-1 div.sk-parallel-item:first-child::after {align-self: flex-end;width: 50%;}#sk-container-id-1 div.sk-parallel-item:last-child::after {align-self: flex-start;width: 50%;}#sk-container-id-1 div.sk-parallel-item:only-child::after {width: 0;}#sk-container-id-1 div.sk-dashed-wrapped {border: 1px dashed gray;margin: 0 0.4em 0.5em 0.4em;box-sizing: border-box;padding-bottom: 0.4em;background-color: white;}#sk-container-id-1 div.sk-label label {font-family: monospace;font-weight: bold;display: inline-block;line-height: 1.2em;}#sk-container-id-1 div.sk-label-container {text-align: center;}#sk-container-id-1 div.sk-container {/* jupyter's `normalize.less` sets `[hidden] { display: none; }` but bootstrap.min.css set `[hidden] { display: none !important; }` so we also need the `!important` here to be able to override the default hidden behavior on the sphinx rendered scikit-learn.org. See: https://github.com/scikit-learn/scikit-learn/issues/21755 */display: inline-block !important;position: relative;}#sk-container-id-1 div.sk-text-repr-fallback {display: none;}</style><div id=\"sk-container-id-1\" class=\"sk-top-container\"><div class=\"sk-text-repr-fallback\"><pre>LGBMClassifier(class_weight={0: 0.7, 1: 0.3}, importance_type=&#x27;gain&#x27;,\n",
       "               max_depth=3, n_estimators=1000, reg_alpha=20, reg_lambda=20,\n",
       "               verbose=-1)</pre><b>In a Jupyter environment, please rerun this cell to show the HTML representation or trust the notebook. <br />On GitHub, the HTML representation is unable to render, please try loading this page with nbviewer.org.</b></div><div class=\"sk-container\" hidden><div class=\"sk-item\"><div class=\"sk-estimator sk-toggleable\"><input class=\"sk-toggleable__control sk-hidden--visually\" id=\"sk-estimator-id-1\" type=\"checkbox\" checked><label for=\"sk-estimator-id-1\" class=\"sk-toggleable__label sk-toggleable__label-arrow\">LGBMClassifier</label><div class=\"sk-toggleable__content\"><pre>LGBMClassifier(class_weight={0: 0.7, 1: 0.3}, importance_type=&#x27;gain&#x27;,\n",
       "               max_depth=3, n_estimators=1000, reg_alpha=20, reg_lambda=20,\n",
       "               verbose=-1)</pre></div></div></div></div></div>"
      ],
      "text/plain": [
       "LGBMClassifier(class_weight={0: 0.7, 1: 0.3}, importance_type='gain',\n",
       "               max_depth=3, n_estimators=1000, reg_alpha=20, reg_lambda=20,\n",
       "               verbose=-1)"
      ]
     },
     "execution_count": 39,
     "metadata": {},
     "output_type": "execute_result"
    }
   ],
   "source": [
    "model_class.fit(X_train, y_train_class)"
   ]
  },
  {
   "cell_type": "code",
   "execution_count": 42,
   "id": "eae7088d-c99e-426e-aa2f-5da7cbdc4012",
   "metadata": {
    "execution": {
     "iopub.execute_input": "2023-11-25T03:20:07.212418Z",
     "iopub.status.busy": "2023-11-25T03:20:07.211790Z",
     "iopub.status.idle": "2023-11-25T03:20:07.549660Z",
     "shell.execute_reply": "2023-11-25T03:20:07.548946Z",
     "shell.execute_reply.started": "2023-11-25T03:20:07.212389Z"
    },
    "tags": []
   },
   "outputs": [
    {
     "data": {
      "text/plain": [
       "<Axes: >"
      ]
     },
     "execution_count": 42,
     "metadata": {},
     "output_type": "execute_result"
    },
    {
     "data": {
      "image/png": "[encoded data removed]",
      "text/plain": [
       "<Figure size 1080x720 with 1 Axes>"
      ]
     },
     "metadata": {
      "needs_background": "light"
     },
     "output_type": "display_data"
    }
   ],
   "source": [
    "plt.figure(figsize=(15, 10))\n",
    "pd.Series(model_class.feature_importances_, index=X_train.columns).sort_values().plot(kind='barh')"
   ]
  },
  {
   "cell_type": "code",
   "execution_count": 43,
   "id": "c867b075-466c-49b9-9fe3-c18e96c5e5ce",
   "metadata": {
    "execution": {
     "iopub.execute_input": "2023-11-25T03:22:26.668540Z",
     "iopub.status.busy": "2023-11-25T03:22:26.667931Z",
     "iopub.status.idle": "2023-11-25T03:22:45.956901Z",
     "shell.execute_reply": "2023-11-25T03:22:45.956183Z",
     "shell.execute_reply.started": "2023-11-25T03:22:26.668511Z"
    },
    "tags": []
   },
   "outputs": [
    {
     "name": "stdout",
     "output_type": "stream",
     "text": [
      "RMSE: 16.675 ± 0.207\n"
     ]
    }
   ],
   "source": [
    "model_reg = LGBMRegressor(\n",
    "    n_estimators=1000, \n",
    "    reg_alpha=20, \n",
    "    max_depth=3, \n",
    "    importance_type='gain', \n",
    "    reg_lambda=20,\n",
    "    verbose=-1,\n",
    ")\n",
    "\n",
    "res = cross_val_score(model_reg, X_train, y_train_reg.fillna(0), scoring='neg_root_mean_squared_error')\n",
    "print(f'RMSE: {-res.mean():.3f} ± {res.std():.3f}')"
   ]
  },
  {
   "cell_type": "code",
   "execution_count": 44,
   "id": "1fe09ef6-d3aa-477d-ba8d-d9d3ef6da5e3",
   "metadata": {
    "execution": {
     "iopub.execute_input": "2023-11-25T03:22:45.959040Z",
     "iopub.status.busy": "2023-11-25T03:22:45.958606Z",
     "iopub.status.idle": "2023-11-25T03:22:50.368465Z",
     "shell.execute_reply": "2023-11-25T03:22:50.367782Z",
     "shell.execute_reply.started": "2023-11-25T03:22:45.959013Z"
    },
    "tags": []
   },
   "outputs": [
    {
     "data": {
      "text/html": [
       "<style>#sk-container-id-2 {color: black;background-color: white;}#sk-container-id-2 pre{padding: 0;}#sk-container-id-2 div.sk-toggleable {background-color: white;}#sk-container-id-2 label.sk-toggleable__label {cursor: pointer;display: block;width: 100%;margin-bottom: 0;padding: 0.3em;box-sizing: border-box;text-align: center;}#sk-container-id-2 label.sk-toggleable__label-arrow:before {content: \"▸\";float: left;margin-right: 0.25em;color: #696969;}#sk-container-id-2 label.sk-toggleable__label-arrow:hover:before {color: black;}#sk-container-id-2 div.sk-estimator:hover label.sk-toggleable__label-arrow:before {color: black;}#sk-container-id-2 div.sk-toggleable__content {max-height: 0;max-width: 0;overflow: hidden;text-align: left;background-color: #f0f8ff;}#sk-container-id-2 div.sk-toggleable__content pre {margin: 0.2em;color: black;border-radius: 0.25em;background-color: #f0f8ff;}#sk-container-id-2 input.sk-toggleable__control:checked~div.sk-toggleable__content {max-height: 200px;max-width: 100%;overflow: auto;}#sk-container-id-2 input.sk-toggleable__control:checked~label.sk-toggleable__label-arrow:before {content: \"▾\";}#sk-container-id-2 div.sk-estimator input.sk-toggleable__control:checked~label.sk-toggleable__label {background-color: #d4ebff;}#sk-container-id-2 div.sk-label input.sk-toggleable__control:checked~label.sk-toggleable__label {background-color: #d4ebff;}#sk-container-id-2 input.sk-hidden--visually {border: 0;clip: rect(1px 1px 1px 1px);clip: rect(1px, 1px, 1px, 1px);height: 1px;margin: -1px;overflow: hidden;padding: 0;position: absolute;width: 1px;}#sk-container-id-2 div.sk-estimator {font-family: monospace;background-color: #f0f8ff;border: 1px dotted black;border-radius: 0.25em;box-sizing: border-box;margin-bottom: 0.5em;}#sk-container-id-2 div.sk-estimator:hover {background-color: #d4ebff;}#sk-container-id-2 div.sk-parallel-item::after {content: \"\";width: 100%;border-bottom: 1px solid gray;flex-grow: 1;}#sk-container-id-2 div.sk-label:hover label.sk-toggleable__label {background-color: #d4ebff;}#sk-container-id-2 div.sk-serial::before {content: \"\";position: absolute;border-left: 1px solid gray;box-sizing: border-box;top: 0;bottom: 0;left: 50%;z-index: 0;}#sk-container-id-2 div.sk-serial {display: flex;flex-direction: column;align-items: center;background-color: white;padding-right: 0.2em;padding-left: 0.2em;position: relative;}#sk-container-id-2 div.sk-item {position: relative;z-index: 1;}#sk-container-id-2 div.sk-parallel {display: flex;align-items: stretch;justify-content: center;background-color: white;position: relative;}#sk-container-id-2 div.sk-item::before, #sk-container-id-2 div.sk-parallel-item::before {content: \"\";position: absolute;border-left: 1px solid gray;box-sizing: border-box;top: 0;bottom: 0;left: 50%;z-index: -1;}#sk-container-id-2 div.sk-parallel-item {display: flex;flex-direction: column;z-index: 1;position: relative;background-color: white;}#sk-container-id-2 div.sk-parallel-item:first-child::after {align-self: flex-end;width: 50%;}#sk-container-id-2 div.sk-parallel-item:last-child::after {align-self: flex-start;width: 50%;}#sk-container-id-2 div.sk-parallel-item:only-child::after {width: 0;}#sk-container-id-2 div.sk-dashed-wrapped {border: 1px dashed gray;margin: 0 0.4em 0.5em 0.4em;box-sizing: border-box;padding-bottom: 0.4em;background-color: white;}#sk-container-id-2 div.sk-label label {font-family: monospace;font-weight: bold;display: inline-block;line-height: 1.2em;}#sk-container-id-2 div.sk-label-container {text-align: center;}#sk-container-id-2 div.sk-container {/* jupyter's `normalize.less` sets `[hidden] { display: none; }` but bootstrap.min.css set `[hidden] { display: none !important; }` so we also need the `!important` here to be able to override the default hidden behavior on the sphinx rendered scikit-learn.org. See: https://github.com/scikit-learn/scikit-learn/issues/21755 */display: inline-block !important;position: relative;}#sk-container-id-2 div.sk-text-repr-fallback {display: none;}</style><div id=\"sk-container-id-2\" class=\"sk-top-container\"><div class=\"sk-text-repr-fallback\"><pre>LGBMRegressor(importance_type=&#x27;gain&#x27;, max_depth=3, n_estimators=1000,\n",
       "              reg_alpha=20, reg_lambda=20, verbose=-1)</pre><b>In a Jupyter environment, please rerun this cell to show the HTML representation or trust the notebook. <br />On GitHub, the HTML representation is unable to render, please try loading this page with nbviewer.org.</b></div><div class=\"sk-container\" hidden><div class=\"sk-item\"><div class=\"sk-estimator sk-toggleable\"><input class=\"sk-toggleable__control sk-hidden--visually\" id=\"sk-estimator-id-2\" type=\"checkbox\" checked><label for=\"sk-estimator-id-2\" class=\"sk-toggleable__label sk-toggleable__label-arrow\">LGBMRegressor</label><div class=\"sk-toggleable__content\"><pre>LGBMRegressor(importance_type=&#x27;gain&#x27;, max_depth=3, n_estimators=1000,\n",
       "              reg_alpha=20, reg_lambda=20, verbose=-1)</pre></div></div></div></div></div>"
      ],
      "text/plain": [
       "LGBMRegressor(importance_type='gain', max_depth=3, n_estimators=1000,\n",
       "              reg_alpha=20, reg_lambda=20, verbose=-1)"
      ]
     },
     "execution_count": 44,
     "metadata": {},
     "output_type": "execute_result"
    }
   ],
   "source": [
    "model_reg.fit(X_train, y_train_reg.fillna(0))"
   ]
  },
  {
   "cell_type": "code",
   "execution_count": null,
   "id": "6862f861-58c4-46e7-8c1d-816edc4eb788",
   "metadata": {},
   "outputs": [],
   "source": []
  }
 ],
 "metadata": {
  "kernelspec": {
   "display_name": "DataSphere Kernel",
   "language": "python",
   "name": "python3"
  },
  "language_info": {
   "codemirror_mode": {
    "name": "ipython",
    "version": 3
   },
   "file_extension": ".py",
   "mimetype": "text/x-python",
   "name": "python",
   "nbconvert_exporter": "python",
   "pygments_lexer": "ipython3",
   "version": "3.7.7"
  }
 },
 "nbformat": 4,
 "nbformat_minor": 5
}
